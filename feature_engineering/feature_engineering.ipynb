{
 "cells": [
  {
   "cell_type": "code",
   "execution_count": 1,
   "metadata": {
    "collapsed": false
   },
   "outputs": [],
   "source": [
    "import pandas as pd\n",
    "import plotly.plotly as py\n",
    "import plotly.graph_objs as go\n",
    "import numpy as np"
   ]
  },
  {
   "cell_type": "code",
   "execution_count": 2,
   "metadata": {
    "collapsed": false
   },
   "outputs": [
    {
     "name": "stdout",
     "output_type": "stream",
     "text": [
      "(1460, 81)\n",
      "(1459, 80)\n",
      "(2919, 81)\n"
     ]
    }
   ],
   "source": [
    "train = pd.read_csv(\"../data/train.csv\")\n",
    "test = pd.read_csv(\"../data/test.csv\")\n",
    "data = pd.concat([train, test])\n",
    "\n",
    "# data dimensions: # rows, # columns\n",
    "print train.shape\n",
    "print test.shape\n",
    "print data.shape"
   ]
  },
  {
   "cell_type": "markdown",
   "metadata": {},
   "source": [
    "# Explore variables one at a time"
   ]
  },
  {
   "cell_type": "code",
   "execution_count": 3,
   "metadata": {
    "collapsed": false
   },
   "outputs": [
    {
     "data": {
      "text/plain": [
       "array(['1stFlrSF', '2ndFlrSF', '3SsnPorch', 'Alley', 'BedroomAbvGr',\n",
       "       'BldgType', 'BsmtCond', 'BsmtExposure', 'BsmtFinSF1', 'BsmtFinSF2',\n",
       "       'BsmtFinType1', 'BsmtFinType2', 'BsmtFullBath', 'BsmtHalfBath',\n",
       "       'BsmtQual', 'BsmtUnfSF', 'CentralAir', 'Condition1', 'Condition2',\n",
       "       'Electrical', 'EnclosedPorch', 'ExterCond', 'ExterQual',\n",
       "       'Exterior1st', 'Exterior2nd', 'Fence', 'FireplaceQu', 'Fireplaces',\n",
       "       'Foundation', 'FullBath', 'Functional', 'GarageArea', 'GarageCars',\n",
       "       'GarageCond', 'GarageFinish', 'GarageQual', 'GarageType',\n",
       "       'GarageYrBlt', 'GrLivArea', 'HalfBath', 'Heating', 'HeatingQC',\n",
       "       'HouseStyle', 'KitchenAbvGr', 'KitchenQual', 'LandContour',\n",
       "       'LandSlope', 'LotArea', 'LotConfig', 'LotFrontage', 'LotShape',\n",
       "       'LowQualFinSF', 'MSSubClass', 'MSZoning', 'MasVnrArea',\n",
       "       'MasVnrType', 'MiscFeature', 'MiscVal', 'MoSold', 'Neighborhood',\n",
       "       'OpenPorchSF', 'OverallCond', 'OverallQual', 'PavedDrive',\n",
       "       'PoolArea', 'PoolQC', 'RoofMatl', 'RoofStyle', 'SaleCondition',\n",
       "       'SalePrice', 'SaleType', 'ScreenPorch', 'Street', 'TotRmsAbvGrd',\n",
       "       'TotalBsmtSF', 'Utilities', 'WoodDeckSF', 'YearBuilt',\n",
       "       'YearRemodAdd', 'YrSold'], dtype=object)"
      ]
     },
     "execution_count": 3,
     "metadata": {},
     "output_type": "execute_result"
    }
   ],
   "source": [
    "data = data.drop([\"Id\"], axis = 1)  # drop this variable\n",
    "data.columns.values  # print all column names"
   ]
  },
  {
   "cell_type": "markdown",
   "metadata": {},
   "source": [
    "## MSSubClass"
   ]
  },
  {
   "cell_type": "code",
   "execution_count": 4,
   "metadata": {
    "collapsed": false
   },
   "outputs": [
    {
     "data": {
      "text/plain": [
       "0"
      ]
     },
     "execution_count": 4,
     "metadata": {},
     "output_type": "execute_result"
    }
   ],
   "source": [
    "data[\"MSSubClass\"].isnull().sum()"
   ]
  },
  {
   "cell_type": "code",
   "execution_count": 5,
   "metadata": {
    "collapsed": false,
    "scrolled": true
   },
   "outputs": [
    {
     "data": {
      "text/plain": [
       "20     1079\n",
       "60      575\n",
       "50      287\n",
       "120     182\n",
       "30      139\n",
       "160     128\n",
       "70      128\n",
       "80      118\n",
       "90      109\n",
       "190      61\n",
       "85       48\n",
       "75       23\n",
       "45       18\n",
       "180      17\n",
       "40        6\n",
       "150       1\n",
       "Name: MSSubClass, dtype: int64"
      ]
     },
     "execution_count": 5,
     "metadata": {},
     "output_type": "execute_result"
    }
   ],
   "source": [
    "freq = data[\"MSSubClass\"].value_counts()  # frequency table\n",
    "freq"
   ]
  },
  {
   "cell_type": "markdown",
   "metadata": {},
   "source": [
    "MSSubClass is categorical, though it is coded as numeric"
   ]
  },
  {
   "cell_type": "code",
   "execution_count": 6,
   "metadata": {
    "collapsed": false
   },
   "outputs": [
    {
     "data": {
      "text/html": [
       "<iframe id=\"igraph\" scrolling=\"no\" style=\"border:none;\" seamless=\"seamless\" src=\"https://plot.ly/~dsnair/186.embed\" height=\"525px\" width=\"100%\"></iframe>"
      ],
      "text/plain": [
       "<plotly.tools.PlotlyDisplay object>"
      ]
     },
     "execution_count": 6,
     "metadata": {},
     "output_type": "execute_result"
    }
   ],
   "source": [
    "py.iplot([go.Bar(x = freq.keys(), y = freq.values)])"
   ]
  },
  {
   "cell_type": "code",
   "execution_count": 7,
   "metadata": {
    "collapsed": true
   },
   "outputs": [],
   "source": [
    "MSSubClass = data[\"MSSubClass\"].replace([20, 60], 1) \\\n",
    ".replace([50, 120, 30, 160, 70, 80, 90], 2) \\\n",
    ".replace([190, 85, 75, 45, 180, 40, 150], 3)"
   ]
  },
  {
   "cell_type": "code",
   "execution_count": 8,
   "metadata": {
    "collapsed": false
   },
   "outputs": [
    {
     "name": "stdout",
     "output_type": "stream",
     "text": [
      "1    1654\n",
      "2    1091\n",
      "3     174\n",
      "Name: MSSubClass, dtype: int64\n"
     ]
    },
    {
     "data": {
      "text/html": [
       "<div>\n",
       "<table border=\"1\" class=\"dataframe\">\n",
       "  <thead>\n",
       "    <tr style=\"text-align: right;\">\n",
       "      <th></th>\n",
       "      <th>MSSubClass</th>\n",
       "    </tr>\n",
       "  </thead>\n",
       "  <tbody>\n",
       "    <tr>\n",
       "      <th>0</th>\n",
       "      <td>1</td>\n",
       "    </tr>\n",
       "    <tr>\n",
       "      <th>1</th>\n",
       "      <td>1</td>\n",
       "    </tr>\n",
       "    <tr>\n",
       "      <th>2</th>\n",
       "      <td>1</td>\n",
       "    </tr>\n",
       "    <tr>\n",
       "      <th>3</th>\n",
       "      <td>2</td>\n",
       "    </tr>\n",
       "    <tr>\n",
       "      <th>4</th>\n",
       "      <td>1</td>\n",
       "    </tr>\n",
       "  </tbody>\n",
       "</table>\n",
       "</div>"
      ],
      "text/plain": [
       "   MSSubClass\n",
       "0           1\n",
       "1           1\n",
       "2           1\n",
       "3           2\n",
       "4           1"
      ]
     },
     "execution_count": 8,
     "metadata": {},
     "output_type": "execute_result"
    }
   ],
   "source": [
    "new = pd.DataFrame({\"MSSubClass\": MSSubClass})  # create new dataframe\n",
    "print new[\"MSSubClass\"].value_counts()\n",
    "new.head()"
   ]
  },
  {
   "cell_type": "markdown",
   "metadata": {},
   "source": [
    "## MSZoning"
   ]
  },
  {
   "cell_type": "code",
   "execution_count": 9,
   "metadata": {
    "collapsed": false,
    "scrolled": true
   },
   "outputs": [
    {
     "data": {
      "text/plain": [
       "4"
      ]
     },
     "execution_count": 9,
     "metadata": {},
     "output_type": "execute_result"
    }
   ],
   "source": [
    "data[\"MSZoning\"].isnull().sum()"
   ]
  },
  {
   "cell_type": "code",
   "execution_count": 10,
   "metadata": {
    "collapsed": false
   },
   "outputs": [
    {
     "data": {
      "text/plain": [
       "RL         2265\n",
       "RM          460\n",
       "FV          139\n",
       "RH           26\n",
       "C (all)      25\n",
       "Name: MSZoning, dtype: int64"
      ]
     },
     "execution_count": 10,
     "metadata": {},
     "output_type": "execute_result"
    }
   ],
   "source": [
    "data[\"MSZoning\"].value_counts()"
   ]
  },
  {
   "cell_type": "markdown",
   "metadata": {},
   "source": [
    "Low residential density?: Y (1) or N (0)"
   ]
  },
  {
   "cell_type": "code",
   "execution_count": 11,
   "metadata": {
    "collapsed": false
   },
   "outputs": [
    {
     "data": {
      "text/plain": [
       "1    2725\n",
       "0     194\n",
       "Name: MSZoning, dtype: int64"
      ]
     },
     "execution_count": 11,
     "metadata": {},
     "output_type": "execute_result"
    }
   ],
   "source": [
    "MSZoning = data[\"MSZoning\"].map(lambda x: 1 if (x == \"RL\") or (x == \"RM\") else 0)\n",
    "MSZoning.value_counts()"
   ]
  },
  {
   "cell_type": "markdown",
   "metadata": {},
   "source": [
    "Drop this variable since majority of the houses are located on low residential density zones and doesn't deviate much from that value."
   ]
  },
  {
   "cell_type": "markdown",
   "metadata": {},
   "source": [
    "## LotFrontage"
   ]
  },
  {
   "cell_type": "code",
   "execution_count": 12,
   "metadata": {
    "collapsed": false
   },
   "outputs": [
    {
     "data": {
      "text/plain": [
       "count    2433.000000\n",
       "mean       69.305795\n",
       "std        23.344905\n",
       "min        21.000000\n",
       "25%        59.000000\n",
       "50%        68.000000\n",
       "75%        80.000000\n",
       "max       313.000000\n",
       "Name: LotFrontage, dtype: float64"
      ]
     },
     "execution_count": 12,
     "metadata": {},
     "output_type": "execute_result"
    }
   ],
   "source": [
    "data[\"LotFrontage\"].describe()"
   ]
  },
  {
   "cell_type": "code",
   "execution_count": 13,
   "metadata": {
    "collapsed": false
   },
   "outputs": [
    {
     "data": {
      "text/plain": [
       "count    2919.000000\n",
       "mean       69.305795\n",
       "std        21.312345\n",
       "min        21.000000\n",
       "25%        60.000000\n",
       "50%        69.305795\n",
       "75%        78.000000\n",
       "max       313.000000\n",
       "Name: LotFrontage, dtype: float64"
      ]
     },
     "execution_count": 13,
     "metadata": {},
     "output_type": "execute_result"
    }
   ],
   "source": [
    "new[\"LotFrontage\"] = data[\"LotFrontage\"].fillna(data[\"LotFrontage\"].mean())\n",
    "new[\"LotFrontage\"].describe()"
   ]
  },
  {
   "cell_type": "code",
   "execution_count": 14,
   "metadata": {
    "collapsed": false
   },
   "outputs": [
    {
     "data": {
      "text/html": [
       "<div>\n",
       "<table border=\"1\" class=\"dataframe\">\n",
       "  <thead>\n",
       "    <tr style=\"text-align: right;\">\n",
       "      <th></th>\n",
       "      <th>MSSubClass</th>\n",
       "      <th>LotFrontage</th>\n",
       "    </tr>\n",
       "  </thead>\n",
       "  <tbody>\n",
       "    <tr>\n",
       "      <th>0</th>\n",
       "      <td>1</td>\n",
       "      <td>65.0</td>\n",
       "    </tr>\n",
       "    <tr>\n",
       "      <th>1</th>\n",
       "      <td>1</td>\n",
       "      <td>80.0</td>\n",
       "    </tr>\n",
       "    <tr>\n",
       "      <th>2</th>\n",
       "      <td>1</td>\n",
       "      <td>68.0</td>\n",
       "    </tr>\n",
       "    <tr>\n",
       "      <th>3</th>\n",
       "      <td>2</td>\n",
       "      <td>60.0</td>\n",
       "    </tr>\n",
       "    <tr>\n",
       "      <th>4</th>\n",
       "      <td>1</td>\n",
       "      <td>84.0</td>\n",
       "    </tr>\n",
       "  </tbody>\n",
       "</table>\n",
       "</div>"
      ],
      "text/plain": [
       "   MSSubClass  LotFrontage\n",
       "0           1         65.0\n",
       "1           1         80.0\n",
       "2           1         68.0\n",
       "3           2         60.0\n",
       "4           1         84.0"
      ]
     },
     "execution_count": 14,
     "metadata": {},
     "output_type": "execute_result"
    }
   ],
   "source": [
    "new.head()"
   ]
  },
  {
   "cell_type": "markdown",
   "metadata": {},
   "source": [
    "## LotArea"
   ]
  },
  {
   "cell_type": "code",
   "execution_count": 15,
   "metadata": {
    "collapsed": false
   },
   "outputs": [
    {
     "data": {
      "text/plain": [
       "count      2919.000000\n",
       "mean      10168.114080\n",
       "std        7886.996359\n",
       "min        1300.000000\n",
       "25%        7478.000000\n",
       "50%        9453.000000\n",
       "75%       11570.000000\n",
       "max      215245.000000\n",
       "Name: LotArea, dtype: float64"
      ]
     },
     "execution_count": 15,
     "metadata": {},
     "output_type": "execute_result"
    }
   ],
   "source": [
    "data[\"LotArea\"].describe()"
   ]
  },
  {
   "cell_type": "code",
   "execution_count": 16,
   "metadata": {
    "collapsed": false
   },
   "outputs": [
    {
     "data": {
      "text/plain": [
       "count    2919.000000\n",
       "mean        9.094785\n",
       "std         0.509966\n",
       "min         7.170120\n",
       "25%         8.919721\n",
       "50%         9.154087\n",
       "75%         9.356171\n",
       "max        12.279532\n",
       "Name: LogLotArea, dtype: float64"
      ]
     },
     "execution_count": 16,
     "metadata": {},
     "output_type": "execute_result"
    }
   ],
   "source": [
    "new[\"LogLotArea\"] = np.log(data[\"LotArea\"])\n",
    "new[\"LogLotArea\"].describe()"
   ]
  },
  {
   "cell_type": "code",
   "execution_count": 17,
   "metadata": {
    "collapsed": false
   },
   "outputs": [
    {
     "data": {
      "text/html": [
       "<div>\n",
       "<table border=\"1\" class=\"dataframe\">\n",
       "  <thead>\n",
       "    <tr style=\"text-align: right;\">\n",
       "      <th></th>\n",
       "      <th>MSSubClass</th>\n",
       "      <th>LotFrontage</th>\n",
       "      <th>LogLotArea</th>\n",
       "    </tr>\n",
       "  </thead>\n",
       "  <tbody>\n",
       "    <tr>\n",
       "      <th>0</th>\n",
       "      <td>1</td>\n",
       "      <td>65.0</td>\n",
       "      <td>9.041922</td>\n",
       "    </tr>\n",
       "    <tr>\n",
       "      <th>1</th>\n",
       "      <td>1</td>\n",
       "      <td>80.0</td>\n",
       "      <td>9.169518</td>\n",
       "    </tr>\n",
       "    <tr>\n",
       "      <th>2</th>\n",
       "      <td>1</td>\n",
       "      <td>68.0</td>\n",
       "      <td>9.328123</td>\n",
       "    </tr>\n",
       "    <tr>\n",
       "      <th>3</th>\n",
       "      <td>2</td>\n",
       "      <td>60.0</td>\n",
       "      <td>9.164296</td>\n",
       "    </tr>\n",
       "    <tr>\n",
       "      <th>4</th>\n",
       "      <td>1</td>\n",
       "      <td>84.0</td>\n",
       "      <td>9.565214</td>\n",
       "    </tr>\n",
       "  </tbody>\n",
       "</table>\n",
       "</div>"
      ],
      "text/plain": [
       "   MSSubClass  LotFrontage  LogLotArea\n",
       "0           1         65.0    9.041922\n",
       "1           1         80.0    9.169518\n",
       "2           1         68.0    9.328123\n",
       "3           2         60.0    9.164296\n",
       "4           1         84.0    9.565214"
      ]
     },
     "execution_count": 17,
     "metadata": {},
     "output_type": "execute_result"
    }
   ],
   "source": [
    "new.head()"
   ]
  },
  {
   "cell_type": "markdown",
   "metadata": {},
   "source": [
    "## Street and PavedDrive"
   ]
  },
  {
   "cell_type": "code",
   "execution_count": 18,
   "metadata": {
    "collapsed": false
   },
   "outputs": [
    {
     "data": {
      "text/plain": [
       "0"
      ]
     },
     "execution_count": 18,
     "metadata": {},
     "output_type": "execute_result"
    }
   ],
   "source": [
    "data[\"Street\"].isnull().sum()"
   ]
  },
  {
   "cell_type": "code",
   "execution_count": 19,
   "metadata": {
    "collapsed": false
   },
   "outputs": [
    {
     "data": {
      "text/plain": [
       "Pave    2907\n",
       "Grvl      12\n",
       "Name: Street, dtype: int64"
      ]
     },
     "execution_count": 19,
     "metadata": {},
     "output_type": "execute_result"
    }
   ],
   "source": [
    "data[\"Street\"].value_counts()"
   ]
  },
  {
   "cell_type": "markdown",
   "metadata": {},
   "source": [
    "Paved street?: Y (1) or No (0)"
   ]
  },
  {
   "cell_type": "code",
   "execution_count": 20,
   "metadata": {
    "collapsed": false
   },
   "outputs": [
    {
     "data": {
      "text/plain": [
       "1    2907\n",
       "0      12\n",
       "dtype: int64"
      ]
     },
     "execution_count": 20,
     "metadata": {},
     "output_type": "execute_result"
    }
   ],
   "source": [
    "Street = pd.Series(np.where(data[\"Street\"] == \"Pave\", 1, 0))\n",
    "Street.value_counts()"
   ]
  },
  {
   "cell_type": "code",
   "execution_count": 21,
   "metadata": {
    "collapsed": false
   },
   "outputs": [
    {
     "data": {
      "text/plain": [
       "0"
      ]
     },
     "execution_count": 21,
     "metadata": {},
     "output_type": "execute_result"
    }
   ],
   "source": [
    "data[\"PavedDrive\"].isnull().sum()"
   ]
  },
  {
   "cell_type": "code",
   "execution_count": 22,
   "metadata": {
    "collapsed": false
   },
   "outputs": [
    {
     "data": {
      "text/plain": [
       "Y    2641\n",
       "N     216\n",
       "P      62\n",
       "Name: PavedDrive, dtype: int64"
      ]
     },
     "execution_count": 22,
     "metadata": {},
     "output_type": "execute_result"
    }
   ],
   "source": [
    "data[\"PavedDrive\"].value_counts()"
   ]
  },
  {
   "cell_type": "markdown",
   "metadata": {},
   "source": [
    "Paved driveway?: Y (1) or No (0)"
   ]
  },
  {
   "cell_type": "code",
   "execution_count": 23,
   "metadata": {
    "collapsed": false
   },
   "outputs": [
    {
     "data": {
      "text/plain": [
       "1    2641\n",
       "0     278\n",
       "Name: PavedDrive, dtype: int64"
      ]
     },
     "execution_count": 23,
     "metadata": {},
     "output_type": "execute_result"
    }
   ],
   "source": [
    "PavedDrive = data[\"PavedDrive\"].map({\"Y\": 1, \"N\": 0, \"P\": 0})\n",
    "PavedDrive.value_counts()"
   ]
  },
  {
   "cell_type": "markdown",
   "metadata": {},
   "source": [
    "Drop Street and PavedDrive since they don't have much variability."
   ]
  },
  {
   "cell_type": "markdown",
   "metadata": {},
   "source": [
    "## Alley"
   ]
  },
  {
   "cell_type": "code",
   "execution_count": 24,
   "metadata": {
    "collapsed": false
   },
   "outputs": [
    {
     "data": {
      "text/plain": [
       "2721"
      ]
     },
     "execution_count": 24,
     "metadata": {},
     "output_type": "execute_result"
    }
   ],
   "source": [
    "data[\"Alley\"].isnull().sum()"
   ]
  },
  {
   "cell_type": "markdown",
   "metadata": {},
   "source": [
    "NA means that houses have no alley, which is not the same as a missing value."
   ]
  },
  {
   "cell_type": "markdown",
   "metadata": {},
   "source": [
    "Alley access?: Y (1) or N (0)"
   ]
  },
  {
   "cell_type": "code",
   "execution_count": 25,
   "metadata": {
    "collapsed": false
   },
   "outputs": [
    {
     "data": {
      "text/plain": [
       "1    2721\n",
       "0     198\n",
       "dtype: int64"
      ]
     },
     "execution_count": 25,
     "metadata": {},
     "output_type": "execute_result"
    }
   ],
   "source": [
    "data[\"Alley\"] = data[\"Alley\"].fillna(\"None\")\n",
    "Alley = pd.Series(np.where(data[\"Alley\"] == \"None\", 1, 0))\n",
    "Alley.value_counts()"
   ]
  },
  {
   "cell_type": "markdown",
   "metadata": {},
   "source": [
    "Drop this variable since it lacks variability."
   ]
  },
  {
   "cell_type": "markdown",
   "metadata": {},
   "source": [
    "## LotShape"
   ]
  },
  {
   "cell_type": "code",
   "execution_count": 26,
   "metadata": {
    "collapsed": false
   },
   "outputs": [
    {
     "data": {
      "text/plain": [
       "0"
      ]
     },
     "execution_count": 26,
     "metadata": {},
     "output_type": "execute_result"
    }
   ],
   "source": [
    "data[\"LotShape\"].isnull().sum()"
   ]
  },
  {
   "cell_type": "code",
   "execution_count": 27,
   "metadata": {
    "collapsed": false
   },
   "outputs": [
    {
     "data": {
      "text/plain": [
       "Reg    1859\n",
       "IR1     968\n",
       "IR2      76\n",
       "IR3      16\n",
       "Name: LotShape, dtype: int64"
      ]
     },
     "execution_count": 27,
     "metadata": {},
     "output_type": "execute_result"
    }
   ],
   "source": [
    "data[\"LotShape\"].value_counts()"
   ]
  },
  {
   "cell_type": "markdown",
   "metadata": {},
   "source": [
    "Regular lot shape?: Y (1) or No (0)"
   ]
  },
  {
   "cell_type": "code",
   "execution_count": 28,
   "metadata": {
    "collapsed": false
   },
   "outputs": [
    {
     "data": {
      "text/plain": [
       "1    1859\n",
       "0    1060\n",
       "Name: LotShape, dtype: int64"
      ]
     },
     "execution_count": 28,
     "metadata": {},
     "output_type": "execute_result"
    }
   ],
   "source": [
    "new[\"LotShape\"] = np.where(data[\"LotShape\"] == \"Reg\", 1, 0)\n",
    "new[\"LotShape\"].value_counts()"
   ]
  },
  {
   "cell_type": "code",
   "execution_count": 29,
   "metadata": {
    "collapsed": false
   },
   "outputs": [
    {
     "data": {
      "text/html": [
       "<div>\n",
       "<table border=\"1\" class=\"dataframe\">\n",
       "  <thead>\n",
       "    <tr style=\"text-align: right;\">\n",
       "      <th></th>\n",
       "      <th>MSSubClass</th>\n",
       "      <th>LotFrontage</th>\n",
       "      <th>LogLotArea</th>\n",
       "      <th>LotShape</th>\n",
       "    </tr>\n",
       "  </thead>\n",
       "  <tbody>\n",
       "    <tr>\n",
       "      <th>0</th>\n",
       "      <td>1</td>\n",
       "      <td>65.0</td>\n",
       "      <td>9.041922</td>\n",
       "      <td>1</td>\n",
       "    </tr>\n",
       "    <tr>\n",
       "      <th>1</th>\n",
       "      <td>1</td>\n",
       "      <td>80.0</td>\n",
       "      <td>9.169518</td>\n",
       "      <td>1</td>\n",
       "    </tr>\n",
       "    <tr>\n",
       "      <th>2</th>\n",
       "      <td>1</td>\n",
       "      <td>68.0</td>\n",
       "      <td>9.328123</td>\n",
       "      <td>0</td>\n",
       "    </tr>\n",
       "    <tr>\n",
       "      <th>3</th>\n",
       "      <td>2</td>\n",
       "      <td>60.0</td>\n",
       "      <td>9.164296</td>\n",
       "      <td>0</td>\n",
       "    </tr>\n",
       "    <tr>\n",
       "      <th>4</th>\n",
       "      <td>1</td>\n",
       "      <td>84.0</td>\n",
       "      <td>9.565214</td>\n",
       "      <td>0</td>\n",
       "    </tr>\n",
       "  </tbody>\n",
       "</table>\n",
       "</div>"
      ],
      "text/plain": [
       "   MSSubClass  LotFrontage  LogLotArea  LotShape\n",
       "0           1         65.0    9.041922         1\n",
       "1           1         80.0    9.169518         1\n",
       "2           1         68.0    9.328123         0\n",
       "3           2         60.0    9.164296         0\n",
       "4           1         84.0    9.565214         0"
      ]
     },
     "execution_count": 29,
     "metadata": {},
     "output_type": "execute_result"
    }
   ],
   "source": [
    "new.head()"
   ]
  },
  {
   "cell_type": "markdown",
   "metadata": {},
   "source": [
    "## LandContour"
   ]
  },
  {
   "cell_type": "code",
   "execution_count": 30,
   "metadata": {
    "collapsed": false
   },
   "outputs": [
    {
     "data": {
      "text/plain": [
       "0"
      ]
     },
     "execution_count": 30,
     "metadata": {},
     "output_type": "execute_result"
    }
   ],
   "source": [
    "data[\"LandContour\"].isnull().sum()"
   ]
  },
  {
   "cell_type": "code",
   "execution_count": 31,
   "metadata": {
    "collapsed": false
   },
   "outputs": [
    {
     "data": {
      "text/plain": [
       "Lvl    2622\n",
       "HLS     120\n",
       "Bnk     117\n",
       "Low      60\n",
       "Name: LandContour, dtype: int64"
      ]
     },
     "execution_count": 31,
     "metadata": {},
     "output_type": "execute_result"
    }
   ],
   "source": [
    "data[\"LandContour\"].value_counts()"
   ]
  },
  {
   "cell_type": "markdown",
   "metadata": {},
   "source": [
    "Flat lot?: Y (1) or N (0)"
   ]
  },
  {
   "cell_type": "code",
   "execution_count": 32,
   "metadata": {
    "collapsed": false
   },
   "outputs": [
    {
     "data": {
      "text/plain": [
       "1    2622\n",
       "0     297\n",
       "dtype: int64"
      ]
     },
     "execution_count": 32,
     "metadata": {},
     "output_type": "execute_result"
    }
   ],
   "source": [
    "LandContour = pd.Series(np.where(data[\"LandContour\"] == \"Lvl\", 1, 0))\n",
    "LandContour.value_counts()"
   ]
  },
  {
   "cell_type": "markdown",
   "metadata": {
    "collapsed": false
   },
   "source": [
    "Drop this variable it lacks variability."
   ]
  },
  {
   "cell_type": "markdown",
   "metadata": {},
   "source": [
    "## Utilities"
   ]
  },
  {
   "cell_type": "code",
   "execution_count": 33,
   "metadata": {
    "collapsed": false
   },
   "outputs": [
    {
     "data": {
      "text/plain": [
       "AllPub    2916\n",
       "NoSeWa       1\n",
       "Name: Utilities, dtype: int64"
      ]
     },
     "execution_count": 33,
     "metadata": {},
     "output_type": "execute_result"
    }
   ],
   "source": [
    "data[\"Utilities\"].value_counts()"
   ]
  },
  {
   "cell_type": "markdown",
   "metadata": {},
   "source": [
    "Drop this variable. It has a severe lack of variability!"
   ]
  },
  {
   "cell_type": "markdown",
   "metadata": {},
   "source": [
    "## LotConfig"
   ]
  },
  {
   "cell_type": "code",
   "execution_count": 34,
   "metadata": {
    "collapsed": false
   },
   "outputs": [
    {
     "data": {
      "text/plain": [
       "0"
      ]
     },
     "execution_count": 34,
     "metadata": {},
     "output_type": "execute_result"
    }
   ],
   "source": [
    "data[\"LotConfig\"].isnull().sum()"
   ]
  },
  {
   "cell_type": "code",
   "execution_count": 35,
   "metadata": {
    "collapsed": false
   },
   "outputs": [
    {
     "data": {
      "text/plain": [
       "Inside     2133\n",
       "Corner      511\n",
       "CulDSac     176\n",
       "FR2          85\n",
       "FR3          14\n",
       "Name: LotConfig, dtype: int64"
      ]
     },
     "execution_count": 35,
     "metadata": {},
     "output_type": "execute_result"
    }
   ],
   "source": [
    "data[\"LotConfig\"].value_counts()"
   ]
  },
  {
   "cell_type": "code",
   "execution_count": 36,
   "metadata": {
    "collapsed": false
   },
   "outputs": [
    {
     "data": {
      "text/plain": [
       "Inside     2133\n",
       "Corner      511\n",
       "CulDSac     176\n",
       "FR           99\n",
       "Name: LotConfig, dtype: int64"
      ]
     },
     "execution_count": 36,
     "metadata": {},
     "output_type": "execute_result"
    }
   ],
   "source": [
    "new[\"LotConfig\"] = data[\"LotConfig\"].replace([\"FR2\", \"FR3\"], \"FR\")\n",
    "new[\"LotConfig\"].value_counts()"
   ]
  },
  {
   "cell_type": "code",
   "execution_count": 37,
   "metadata": {
    "collapsed": false
   },
   "outputs": [
    {
     "data": {
      "text/html": [
       "<div>\n",
       "<table border=\"1\" class=\"dataframe\">\n",
       "  <thead>\n",
       "    <tr style=\"text-align: right;\">\n",
       "      <th></th>\n",
       "      <th>MSSubClass</th>\n",
       "      <th>LotFrontage</th>\n",
       "      <th>LogLotArea</th>\n",
       "      <th>LotShape</th>\n",
       "      <th>LotConfig</th>\n",
       "    </tr>\n",
       "  </thead>\n",
       "  <tbody>\n",
       "    <tr>\n",
       "      <th>0</th>\n",
       "      <td>1</td>\n",
       "      <td>65.0</td>\n",
       "      <td>9.041922</td>\n",
       "      <td>1</td>\n",
       "      <td>Inside</td>\n",
       "    </tr>\n",
       "    <tr>\n",
       "      <th>1</th>\n",
       "      <td>1</td>\n",
       "      <td>80.0</td>\n",
       "      <td>9.169518</td>\n",
       "      <td>1</td>\n",
       "      <td>FR</td>\n",
       "    </tr>\n",
       "    <tr>\n",
       "      <th>2</th>\n",
       "      <td>1</td>\n",
       "      <td>68.0</td>\n",
       "      <td>9.328123</td>\n",
       "      <td>0</td>\n",
       "      <td>Inside</td>\n",
       "    </tr>\n",
       "    <tr>\n",
       "      <th>3</th>\n",
       "      <td>2</td>\n",
       "      <td>60.0</td>\n",
       "      <td>9.164296</td>\n",
       "      <td>0</td>\n",
       "      <td>Corner</td>\n",
       "    </tr>\n",
       "    <tr>\n",
       "      <th>4</th>\n",
       "      <td>1</td>\n",
       "      <td>84.0</td>\n",
       "      <td>9.565214</td>\n",
       "      <td>0</td>\n",
       "      <td>FR</td>\n",
       "    </tr>\n",
       "  </tbody>\n",
       "</table>\n",
       "</div>"
      ],
      "text/plain": [
       "   MSSubClass  LotFrontage  LogLotArea  LotShape LotConfig\n",
       "0           1         65.0    9.041922         1    Inside\n",
       "1           1         80.0    9.169518         1        FR\n",
       "2           1         68.0    9.328123         0    Inside\n",
       "3           2         60.0    9.164296         0    Corner\n",
       "4           1         84.0    9.565214         0        FR"
      ]
     },
     "execution_count": 37,
     "metadata": {},
     "output_type": "execute_result"
    }
   ],
   "source": [
    "new.head()"
   ]
  },
  {
   "cell_type": "markdown",
   "metadata": {},
   "source": [
    "## LandSlope"
   ]
  },
  {
   "cell_type": "code",
   "execution_count": 38,
   "metadata": {
    "collapsed": false
   },
   "outputs": [
    {
     "data": {
      "text/plain": [
       "0"
      ]
     },
     "execution_count": 38,
     "metadata": {},
     "output_type": "execute_result"
    }
   ],
   "source": [
    "data[\"LandSlope\"].isnull().sum()"
   ]
  },
  {
   "cell_type": "code",
   "execution_count": 39,
   "metadata": {
    "collapsed": false
   },
   "outputs": [
    {
     "data": {
      "text/plain": [
       "Gtl    2778\n",
       "Mod     125\n",
       "Sev      16\n",
       "Name: LandSlope, dtype: int64"
      ]
     },
     "execution_count": 39,
     "metadata": {},
     "output_type": "execute_result"
    }
   ],
   "source": [
    "data[\"LandSlope\"].value_counts()"
   ]
  },
  {
   "cell_type": "markdown",
   "metadata": {},
   "source": [
    "Gentle slope?: Y (1) or No (0)"
   ]
  },
  {
   "cell_type": "code",
   "execution_count": 40,
   "metadata": {
    "collapsed": false
   },
   "outputs": [
    {
     "data": {
      "text/plain": [
       "1    2778\n",
       "0     141\n",
       "dtype: int64"
      ]
     },
     "execution_count": 40,
     "metadata": {},
     "output_type": "execute_result"
    }
   ],
   "source": [
    "LandSlope = pd.Series(np.where(data[\"LandSlope\"] == \"Gtl\", 1, 0))\n",
    "LandSlope.value_counts()"
   ]
  },
  {
   "cell_type": "markdown",
   "metadata": {
    "collapsed": false
   },
   "source": [
    "Drop this variable since it lacks variability."
   ]
  },
  {
   "cell_type": "markdown",
   "metadata": {},
   "source": [
    "## Neighborhood"
   ]
  },
  {
   "cell_type": "code",
   "execution_count": 41,
   "metadata": {
    "collapsed": false
   },
   "outputs": [
    {
     "data": {
      "text/plain": [
       "0"
      ]
     },
     "execution_count": 41,
     "metadata": {},
     "output_type": "execute_result"
    }
   ],
   "source": [
    "data[\"Neighborhood\"].isnull().sum()"
   ]
  },
  {
   "cell_type": "code",
   "execution_count": 42,
   "metadata": {
    "collapsed": false,
    "scrolled": false
   },
   "outputs": [
    {
     "data": {
      "text/plain": [
       "NAmes      443\n",
       "CollgCr    267\n",
       "OldTown    239\n",
       "Edwards    194\n",
       "Somerst    182\n",
       "NridgHt    166\n",
       "Gilbert    165\n",
       "Sawyer     151\n",
       "NWAmes     131\n",
       "SawyerW    125\n",
       "Mitchel    114\n",
       "BrkSide    108\n",
       "Crawfor    103\n",
       "IDOTRR      93\n",
       "Timber      72\n",
       "NoRidge     71\n",
       "StoneBr     51\n",
       "SWISU       48\n",
       "ClearCr     44\n",
       "MeadowV     37\n",
       "BrDale      30\n",
       "Blmngtn     28\n",
       "Veenker     24\n",
       "NPkVill     23\n",
       "Blueste     10\n",
       "Name: Neighborhood, dtype: int64"
      ]
     },
     "execution_count": 42,
     "metadata": {},
     "output_type": "execute_result"
    }
   ],
   "source": [
    "data[\"Neighborhood\"].value_counts()"
   ]
  },
  {
   "cell_type": "code",
   "execution_count": 43,
   "metadata": {
    "collapsed": false
   },
   "outputs": [
    {
     "data": {
      "text/html": [
       "<div>\n",
       "<table border=\"1\" class=\"dataframe\">\n",
       "  <thead>\n",
       "    <tr style=\"text-align: right;\">\n",
       "      <th></th>\n",
       "      <th>MSSubClass</th>\n",
       "      <th>LotFrontage</th>\n",
       "      <th>LogLotArea</th>\n",
       "      <th>LotShape</th>\n",
       "      <th>LotConfig</th>\n",
       "      <th>Neighborhood</th>\n",
       "    </tr>\n",
       "  </thead>\n",
       "  <tbody>\n",
       "    <tr>\n",
       "      <th>0</th>\n",
       "      <td>1</td>\n",
       "      <td>65.0</td>\n",
       "      <td>9.041922</td>\n",
       "      <td>1</td>\n",
       "      <td>Inside</td>\n",
       "      <td>CollgCr</td>\n",
       "    </tr>\n",
       "    <tr>\n",
       "      <th>1</th>\n",
       "      <td>1</td>\n",
       "      <td>80.0</td>\n",
       "      <td>9.169518</td>\n",
       "      <td>1</td>\n",
       "      <td>FR</td>\n",
       "      <td>Veenker</td>\n",
       "    </tr>\n",
       "    <tr>\n",
       "      <th>2</th>\n",
       "      <td>1</td>\n",
       "      <td>68.0</td>\n",
       "      <td>9.328123</td>\n",
       "      <td>0</td>\n",
       "      <td>Inside</td>\n",
       "      <td>CollgCr</td>\n",
       "    </tr>\n",
       "    <tr>\n",
       "      <th>3</th>\n",
       "      <td>2</td>\n",
       "      <td>60.0</td>\n",
       "      <td>9.164296</td>\n",
       "      <td>0</td>\n",
       "      <td>Corner</td>\n",
       "      <td>Crawfor</td>\n",
       "    </tr>\n",
       "    <tr>\n",
       "      <th>4</th>\n",
       "      <td>1</td>\n",
       "      <td>84.0</td>\n",
       "      <td>9.565214</td>\n",
       "      <td>0</td>\n",
       "      <td>FR</td>\n",
       "      <td>NoRidge</td>\n",
       "    </tr>\n",
       "  </tbody>\n",
       "</table>\n",
       "</div>"
      ],
      "text/plain": [
       "   MSSubClass  LotFrontage  LogLotArea  LotShape LotConfig Neighborhood\n",
       "0           1         65.0    9.041922         1    Inside      CollgCr\n",
       "1           1         80.0    9.169518         1        FR      Veenker\n",
       "2           1         68.0    9.328123         0    Inside      CollgCr\n",
       "3           2         60.0    9.164296         0    Corner      Crawfor\n",
       "4           1         84.0    9.565214         0        FR      NoRidge"
      ]
     },
     "execution_count": 43,
     "metadata": {},
     "output_type": "execute_result"
    }
   ],
   "source": [
    "new[\"Neighborhood\"] = data[\"Neighborhood\"]\n",
    "new.head()"
   ]
  },
  {
   "cell_type": "markdown",
   "metadata": {},
   "source": [
    "## Condition1 and Condition2"
   ]
  },
  {
   "cell_type": "code",
   "execution_count": 44,
   "metadata": {
    "collapsed": false
   },
   "outputs": [
    {
     "data": {
      "text/plain": [
       "Norm      2511\n",
       "Feedr      164\n",
       "Artery      92\n",
       "RRAn        50\n",
       "PosN        39\n",
       "RRAe        28\n",
       "PosA        20\n",
       "RRNn         9\n",
       "RRNe         6\n",
       "Name: Condition1, dtype: int64"
      ]
     },
     "execution_count": 44,
     "metadata": {},
     "output_type": "execute_result"
    }
   ],
   "source": [
    "data[\"Condition1\"].value_counts()"
   ]
  },
  {
   "cell_type": "code",
   "execution_count": 45,
   "metadata": {
    "collapsed": false
   },
   "outputs": [
    {
     "data": {
      "text/plain": [
       "Norm      2889\n",
       "Feedr       13\n",
       "Artery       5\n",
       "PosA         4\n",
       "PosN         4\n",
       "RRNn         2\n",
       "RRAn         1\n",
       "RRAe         1\n",
       "Name: Condition2, dtype: int64"
      ]
     },
     "execution_count": 45,
     "metadata": {},
     "output_type": "execute_result"
    }
   ],
   "source": [
    "data[\"Condition2\"].value_counts()"
   ]
  },
  {
   "cell_type": "markdown",
   "metadata": {},
   "source": [
    "Most houses have normal condition. If either conditions are normal, record the overall condition as normal. "
   ]
  },
  {
   "cell_type": "code",
   "execution_count": 46,
   "metadata": {
    "collapsed": false
   },
   "outputs": [
    {
     "data": {
      "text/plain": [
       "True     2889\n",
       "False      30\n",
       "Name: Condition1, dtype: int64"
      ]
     },
     "execution_count": 46,
     "metadata": {},
     "output_type": "execute_result"
    }
   ],
   "source": [
    "Condition = np.logical_or(data[\"Condition1\"] == \"Norm\", data[\"Condition2\"] == \"Norm\")\n",
    "Condition.value_counts()"
   ]
  },
  {
   "cell_type": "markdown",
   "metadata": {},
   "source": [
    "Drop this variable since it lacks variability."
   ]
  },
  {
   "cell_type": "markdown",
   "metadata": {},
   "source": [
    "## BldgType"
   ]
  },
  {
   "cell_type": "code",
   "execution_count": 47,
   "metadata": {
    "collapsed": false
   },
   "outputs": [
    {
     "data": {
      "text/plain": [
       "0"
      ]
     },
     "execution_count": 47,
     "metadata": {},
     "output_type": "execute_result"
    }
   ],
   "source": [
    "data[\"BldgType\"].isnull().sum()"
   ]
  },
  {
   "cell_type": "code",
   "execution_count": 48,
   "metadata": {
    "collapsed": false
   },
   "outputs": [
    {
     "data": {
      "text/plain": [
       "1Fam      2425\n",
       "TwnhsE     227\n",
       "Duplex     109\n",
       "Twnhs       96\n",
       "2fmCon      62\n",
       "Name: BldgType, dtype: int64"
      ]
     },
     "execution_count": 48,
     "metadata": {},
     "output_type": "execute_result"
    }
   ],
   "source": [
    "data[\"BldgType\"].value_counts()"
   ]
  },
  {
   "cell_type": "markdown",
   "metadata": {},
   "source": [
    "Single-family detached?: Y (1) or N (0)"
   ]
  },
  {
   "cell_type": "code",
   "execution_count": 49,
   "metadata": {
    "collapsed": false
   },
   "outputs": [
    {
     "data": {
      "text/plain": [
       "1    2425\n",
       "0     494\n",
       "dtype: int64"
      ]
     },
     "execution_count": 49,
     "metadata": {},
     "output_type": "execute_result"
    }
   ],
   "source": [
    "BldgType = pd.Series(np.where(data[\"BldgType\"] == \"1Fam\", 1, 0))\n",
    "BldgType.value_counts()"
   ]
  },
  {
   "cell_type": "markdown",
   "metadata": {},
   "source": [
    "Drop this variable due to its general lack of variability."
   ]
  },
  {
   "cell_type": "markdown",
   "metadata": {},
   "source": [
    "## HouseStyle"
   ]
  },
  {
   "cell_type": "code",
   "execution_count": 50,
   "metadata": {
    "collapsed": false
   },
   "outputs": [
    {
     "data": {
      "text/plain": [
       "0"
      ]
     },
     "execution_count": 50,
     "metadata": {},
     "output_type": "execute_result"
    }
   ],
   "source": [
    "data[\"HouseStyle\"].isnull().sum()"
   ]
  },
  {
   "cell_type": "code",
   "execution_count": 51,
   "metadata": {
    "collapsed": false
   },
   "outputs": [
    {
     "data": {
      "text/plain": [
       "1Story    1471\n",
       "2Story     872\n",
       "1.5Fin     314\n",
       "SLvl       128\n",
       "SFoyer      83\n",
       "2.5Unf      24\n",
       "1.5Unf      19\n",
       "2.5Fin       8\n",
       "Name: HouseStyle, dtype: int64"
      ]
     },
     "execution_count": 51,
     "metadata": {},
     "output_type": "execute_result"
    }
   ],
   "source": [
    "data[\"HouseStyle\"].value_counts()"
   ]
  },
  {
   "cell_type": "markdown",
   "metadata": {},
   "source": [
    "Combine 1-1.5 story as 1, 2-2.5 story as 2, and the rest as 0."
   ]
  },
  {
   "cell_type": "code",
   "execution_count": 52,
   "metadata": {
    "collapsed": false
   },
   "outputs": [
    {
     "data": {
      "text/plain": [
       "1    1804\n",
       "2     904\n",
       "0     211\n",
       "Name: HouseStyle, dtype: int64"
      ]
     },
     "execution_count": 52,
     "metadata": {},
     "output_type": "execute_result"
    }
   ],
   "source": [
    "new[\"HouseStyle\"] = data[\"HouseStyle\"].replace([\"1Story\", \"1.5Fin\", \"1.5Unf\"], 1) \\\n",
    ".replace([\"2Story\", \"2.5Fin\", \"2.5Unf\"], 2) \\\n",
    ".replace([\"SFoyer\", \"SLvl\"], 0)\n",
    "new[\"HouseStyle\"].value_counts()"
   ]
  },
  {
   "cell_type": "code",
   "execution_count": 53,
   "metadata": {
    "collapsed": false
   },
   "outputs": [
    {
     "data": {
      "text/html": [
       "<div>\n",
       "<table border=\"1\" class=\"dataframe\">\n",
       "  <thead>\n",
       "    <tr style=\"text-align: right;\">\n",
       "      <th></th>\n",
       "      <th>MSSubClass</th>\n",
       "      <th>LotFrontage</th>\n",
       "      <th>LogLotArea</th>\n",
       "      <th>LotShape</th>\n",
       "      <th>LotConfig</th>\n",
       "      <th>Neighborhood</th>\n",
       "      <th>HouseStyle</th>\n",
       "    </tr>\n",
       "  </thead>\n",
       "  <tbody>\n",
       "    <tr>\n",
       "      <th>0</th>\n",
       "      <td>1</td>\n",
       "      <td>65.0</td>\n",
       "      <td>9.041922</td>\n",
       "      <td>1</td>\n",
       "      <td>Inside</td>\n",
       "      <td>CollgCr</td>\n",
       "      <td>2</td>\n",
       "    </tr>\n",
       "    <tr>\n",
       "      <th>1</th>\n",
       "      <td>1</td>\n",
       "      <td>80.0</td>\n",
       "      <td>9.169518</td>\n",
       "      <td>1</td>\n",
       "      <td>FR</td>\n",
       "      <td>Veenker</td>\n",
       "      <td>1</td>\n",
       "    </tr>\n",
       "    <tr>\n",
       "      <th>2</th>\n",
       "      <td>1</td>\n",
       "      <td>68.0</td>\n",
       "      <td>9.328123</td>\n",
       "      <td>0</td>\n",
       "      <td>Inside</td>\n",
       "      <td>CollgCr</td>\n",
       "      <td>2</td>\n",
       "    </tr>\n",
       "    <tr>\n",
       "      <th>3</th>\n",
       "      <td>2</td>\n",
       "      <td>60.0</td>\n",
       "      <td>9.164296</td>\n",
       "      <td>0</td>\n",
       "      <td>Corner</td>\n",
       "      <td>Crawfor</td>\n",
       "      <td>2</td>\n",
       "    </tr>\n",
       "    <tr>\n",
       "      <th>4</th>\n",
       "      <td>1</td>\n",
       "      <td>84.0</td>\n",
       "      <td>9.565214</td>\n",
       "      <td>0</td>\n",
       "      <td>FR</td>\n",
       "      <td>NoRidge</td>\n",
       "      <td>2</td>\n",
       "    </tr>\n",
       "  </tbody>\n",
       "</table>\n",
       "</div>"
      ],
      "text/plain": [
       "   MSSubClass  LotFrontage  LogLotArea  LotShape LotConfig Neighborhood  \\\n",
       "0           1         65.0    9.041922         1    Inside      CollgCr   \n",
       "1           1         80.0    9.169518         1        FR      Veenker   \n",
       "2           1         68.0    9.328123         0    Inside      CollgCr   \n",
       "3           2         60.0    9.164296         0    Corner      Crawfor   \n",
       "4           1         84.0    9.565214         0        FR      NoRidge   \n",
       "\n",
       "   HouseStyle  \n",
       "0           2  \n",
       "1           1  \n",
       "2           2  \n",
       "3           2  \n",
       "4           2  "
      ]
     },
     "execution_count": 53,
     "metadata": {},
     "output_type": "execute_result"
    }
   ],
   "source": [
    "new.head()"
   ]
  },
  {
   "cell_type": "markdown",
   "metadata": {},
   "source": [
    "## OverallQual"
   ]
  },
  {
   "cell_type": "code",
   "execution_count": 54,
   "metadata": {
    "collapsed": false
   },
   "outputs": [
    {
     "data": {
      "text/plain": [
       "0"
      ]
     },
     "execution_count": 54,
     "metadata": {},
     "output_type": "execute_result"
    }
   ],
   "source": [
    "data[\"OverallQual\"].isnull().sum()"
   ]
  },
  {
   "cell_type": "code",
   "execution_count": 55,
   "metadata": {
    "collapsed": false
   },
   "outputs": [
    {
     "data": {
      "text/plain": [
       "5     825\n",
       "6     731\n",
       "7     600\n",
       "8     342\n",
       "4     226\n",
       "9     107\n",
       "3      40\n",
       "10     31\n",
       "2      13\n",
       "1       4\n",
       "Name: OverallQual, dtype: int64"
      ]
     },
     "execution_count": 55,
     "metadata": {},
     "output_type": "execute_result"
    }
   ],
   "source": [
    "freq = data[\"OverallQual\"].value_counts()\n",
    "freq"
   ]
  },
  {
   "cell_type": "code",
   "execution_count": 56,
   "metadata": {
    "collapsed": false
   },
   "outputs": [
    {
     "data": {
      "text/html": [
       "<iframe id=\"igraph\" scrolling=\"no\" style=\"border:none;\" seamless=\"seamless\" src=\"https://plot.ly/~dsnair/188.embed\" height=\"525px\" width=\"100%\"></iframe>"
      ],
      "text/plain": [
       "<plotly.tools.PlotlyDisplay object>"
      ]
     },
     "execution_count": 56,
     "metadata": {},
     "output_type": "execute_result"
    }
   ],
   "source": [
    "py.iplot([go.Bar(x = freq.keys(), y = freq.values)])"
   ]
  },
  {
   "cell_type": "markdown",
   "metadata": {},
   "source": [
    "Combine very poor/poor/fair/less than average  as -1, average/above average/good as 0, very good/excellent/very excellent as 1."
   ]
  },
  {
   "cell_type": "code",
   "execution_count": 57,
   "metadata": {
    "collapsed": false,
    "scrolled": true
   },
   "outputs": [
    {
     "data": {
      "text/plain": [
       " 0    2382\n",
       " 1     480\n",
       "-1      57\n",
       "Name: OverallQual, dtype: int64"
      ]
     },
     "execution_count": 57,
     "metadata": {},
     "output_type": "execute_result"
    }
   ],
   "source": [
    "new[\"OverallQual\"] = data[\"OverallQual\"].map(lambda x: -1 if x < 4 else 0 if x < 8 else 1)\n",
    "new[\"OverallQual\"].value_counts()"
   ]
  },
  {
   "cell_type": "markdown",
   "metadata": {},
   "source": [
    "Note that this variable generally lacks variability. However, it is added to the model."
   ]
  },
  {
   "cell_type": "code",
   "execution_count": 58,
   "metadata": {
    "collapsed": false
   },
   "outputs": [
    {
     "data": {
      "text/html": [
       "<div>\n",
       "<table border=\"1\" class=\"dataframe\">\n",
       "  <thead>\n",
       "    <tr style=\"text-align: right;\">\n",
       "      <th></th>\n",
       "      <th>MSSubClass</th>\n",
       "      <th>LotFrontage</th>\n",
       "      <th>LogLotArea</th>\n",
       "      <th>LotShape</th>\n",
       "      <th>LotConfig</th>\n",
       "      <th>Neighborhood</th>\n",
       "      <th>HouseStyle</th>\n",
       "      <th>OverallQual</th>\n",
       "    </tr>\n",
       "  </thead>\n",
       "  <tbody>\n",
       "    <tr>\n",
       "      <th>0</th>\n",
       "      <td>1</td>\n",
       "      <td>65.0</td>\n",
       "      <td>9.041922</td>\n",
       "      <td>1</td>\n",
       "      <td>Inside</td>\n",
       "      <td>CollgCr</td>\n",
       "      <td>2</td>\n",
       "      <td>0</td>\n",
       "    </tr>\n",
       "    <tr>\n",
       "      <th>1</th>\n",
       "      <td>1</td>\n",
       "      <td>80.0</td>\n",
       "      <td>9.169518</td>\n",
       "      <td>1</td>\n",
       "      <td>FR</td>\n",
       "      <td>Veenker</td>\n",
       "      <td>1</td>\n",
       "      <td>0</td>\n",
       "    </tr>\n",
       "    <tr>\n",
       "      <th>2</th>\n",
       "      <td>1</td>\n",
       "      <td>68.0</td>\n",
       "      <td>9.328123</td>\n",
       "      <td>0</td>\n",
       "      <td>Inside</td>\n",
       "      <td>CollgCr</td>\n",
       "      <td>2</td>\n",
       "      <td>0</td>\n",
       "    </tr>\n",
       "    <tr>\n",
       "      <th>3</th>\n",
       "      <td>2</td>\n",
       "      <td>60.0</td>\n",
       "      <td>9.164296</td>\n",
       "      <td>0</td>\n",
       "      <td>Corner</td>\n",
       "      <td>Crawfor</td>\n",
       "      <td>2</td>\n",
       "      <td>0</td>\n",
       "    </tr>\n",
       "    <tr>\n",
       "      <th>4</th>\n",
       "      <td>1</td>\n",
       "      <td>84.0</td>\n",
       "      <td>9.565214</td>\n",
       "      <td>0</td>\n",
       "      <td>FR</td>\n",
       "      <td>NoRidge</td>\n",
       "      <td>2</td>\n",
       "      <td>1</td>\n",
       "    </tr>\n",
       "  </tbody>\n",
       "</table>\n",
       "</div>"
      ],
      "text/plain": [
       "   MSSubClass  LotFrontage  LogLotArea  LotShape LotConfig Neighborhood  \\\n",
       "0           1         65.0    9.041922         1    Inside      CollgCr   \n",
       "1           1         80.0    9.169518         1        FR      Veenker   \n",
       "2           1         68.0    9.328123         0    Inside      CollgCr   \n",
       "3           2         60.0    9.164296         0    Corner      Crawfor   \n",
       "4           1         84.0    9.565214         0        FR      NoRidge   \n",
       "\n",
       "   HouseStyle  OverallQual  \n",
       "0           2            0  \n",
       "1           1            0  \n",
       "2           2            0  \n",
       "3           2            0  \n",
       "4           2            1  "
      ]
     },
     "execution_count": 58,
     "metadata": {},
     "output_type": "execute_result"
    }
   ],
   "source": [
    "new.head()"
   ]
  },
  {
   "cell_type": "markdown",
   "metadata": {},
   "source": [
    "## OverallCond"
   ]
  },
  {
   "cell_type": "code",
   "execution_count": 59,
   "metadata": {
    "collapsed": false
   },
   "outputs": [
    {
     "data": {
      "text/plain": [
       "0"
      ]
     },
     "execution_count": 59,
     "metadata": {},
     "output_type": "execute_result"
    }
   ],
   "source": [
    "data[\"OverallCond\"].isnull().sum()"
   ]
  },
  {
   "cell_type": "code",
   "execution_count": 60,
   "metadata": {
    "collapsed": false
   },
   "outputs": [
    {
     "data": {
      "text/plain": [
       "5    1645\n",
       "6     531\n",
       "7     390\n",
       "8     144\n",
       "4     101\n",
       "3      50\n",
       "9      41\n",
       "2      10\n",
       "1       7\n",
       "Name: OverallCond, dtype: int64"
      ]
     },
     "execution_count": 60,
     "metadata": {},
     "output_type": "execute_result"
    }
   ],
   "source": [
    "freq = data[\"OverallCond\"].value_counts()\n",
    "freq"
   ]
  },
  {
   "cell_type": "code",
   "execution_count": 61,
   "metadata": {
    "collapsed": false
   },
   "outputs": [
    {
     "data": {
      "text/html": [
       "<iframe id=\"igraph\" scrolling=\"no\" style=\"border:none;\" seamless=\"seamless\" src=\"https://plot.ly/~dsnair/190.embed\" height=\"525px\" width=\"100%\"></iframe>"
      ],
      "text/plain": [
       "<plotly.tools.PlotlyDisplay object>"
      ]
     },
     "execution_count": 61,
     "metadata": {},
     "output_type": "execute_result"
    }
   ],
   "source": [
    "py.iplot([go.Bar(x = freq.keys(), y = freq.values)])"
   ]
  },
  {
   "cell_type": "markdown",
   "metadata": {},
   "source": [
    "Average conndition?: Y (1) or No (0) "
   ]
  },
  {
   "cell_type": "code",
   "execution_count": 62,
   "metadata": {
    "collapsed": false
   },
   "outputs": [
    {
     "data": {
      "text/plain": [
       "1    2751\n",
       "0     168\n",
       "dtype: int64"
      ]
     },
     "execution_count": 62,
     "metadata": {},
     "output_type": "execute_result"
    }
   ],
   "source": [
    "OverallCond = pd.Series(np.where(data[\"OverallCond\"] > 4, 1, 0))\n",
    "OverallCond.value_counts()"
   ]
  },
  {
   "cell_type": "markdown",
   "metadata": {},
   "source": [
    "Drop this variable since it is a heavily unimodal and skewed."
   ]
  },
  {
   "cell_type": "markdown",
   "metadata": {},
   "source": [
    "## YearBuilt "
   ]
  },
  {
   "cell_type": "code",
   "execution_count": 63,
   "metadata": {
    "collapsed": false
   },
   "outputs": [
    {
     "data": {
      "text/plain": [
       "count    2919.000000\n",
       "mean     1971.312778\n",
       "std        30.291442\n",
       "min      1872.000000\n",
       "25%      1953.500000\n",
       "50%      1973.000000\n",
       "75%      2001.000000\n",
       "max      2010.000000\n",
       "Name: YearBuilt, dtype: float64"
      ]
     },
     "execution_count": 63,
     "metadata": {},
     "output_type": "execute_result"
    }
   ],
   "source": [
    "data[\"YearBuilt\"].describe()"
   ]
  },
  {
   "cell_type": "markdown",
   "metadata": {},
   "source": [
    "Years usually needs to be binned."
   ]
  },
  {
   "cell_type": "code",
   "execution_count": 64,
   "metadata": {
    "collapsed": false
   },
   "outputs": [
    {
     "data": {
      "text/html": [
       "<div>\n",
       "<table border=\"1\" class=\"dataframe\">\n",
       "  <thead>\n",
       "    <tr style=\"text-align: right;\">\n",
       "      <th></th>\n",
       "      <th>YearBuilt</th>\n",
       "      <th>YearBuilt</th>\n",
       "    </tr>\n",
       "  </thead>\n",
       "  <tbody>\n",
       "    <tr>\n",
       "      <th>0</th>\n",
       "      <td>modern</td>\n",
       "      <td>2003</td>\n",
       "    </tr>\n",
       "    <tr>\n",
       "      <th>1</th>\n",
       "      <td>newer</td>\n",
       "      <td>1976</td>\n",
       "    </tr>\n",
       "    <tr>\n",
       "      <th>2</th>\n",
       "      <td>newer</td>\n",
       "      <td>2001</td>\n",
       "    </tr>\n",
       "    <tr>\n",
       "      <th>3</th>\n",
       "      <td>ancient</td>\n",
       "      <td>1915</td>\n",
       "    </tr>\n",
       "    <tr>\n",
       "      <th>4</th>\n",
       "      <td>newer</td>\n",
       "      <td>2000</td>\n",
       "    </tr>\n",
       "  </tbody>\n",
       "</table>\n",
       "</div>"
      ],
      "text/plain": [
       "   YearBuilt  YearBuilt\n",
       "0     modern       2003\n",
       "1      newer       1976\n",
       "2      newer       2001\n",
       "3    ancient       1915\n",
       "4      newer       2000"
      ]
     },
     "execution_count": 64,
     "metadata": {},
     "output_type": "execute_result"
    }
   ],
   "source": [
    "new[\"YearBuilt\"] = pd.qcut(data[\"YearBuilt\"], q = 4, labels = [\"ancient\", \"older\", \"newer\", \"modern\"])\n",
    "pd.concat((new[\"YearBuilt\"], data[\"YearBuilt\"]), axis = 1).head()"
   ]
  },
  {
   "cell_type": "code",
   "execution_count": 65,
   "metadata": {
    "collapsed": false
   },
   "outputs": [
    {
     "data": {
      "text/plain": [
       "newer      748\n",
       "older      741\n",
       "ancient    730\n",
       "modern     700\n",
       "Name: YearBuilt, dtype: int64"
      ]
     },
     "execution_count": 65,
     "metadata": {},
     "output_type": "execute_result"
    }
   ],
   "source": [
    "new[\"YearBuilt\"].value_counts()"
   ]
  },
  {
   "cell_type": "code",
   "execution_count": 66,
   "metadata": {
    "collapsed": false
   },
   "outputs": [
    {
     "data": {
      "text/html": [
       "<div>\n",
       "<table border=\"1\" class=\"dataframe\">\n",
       "  <thead>\n",
       "    <tr style=\"text-align: right;\">\n",
       "      <th></th>\n",
       "      <th>MSSubClass</th>\n",
       "      <th>LotFrontage</th>\n",
       "      <th>LogLotArea</th>\n",
       "      <th>LotShape</th>\n",
       "      <th>LotConfig</th>\n",
       "      <th>Neighborhood</th>\n",
       "      <th>HouseStyle</th>\n",
       "      <th>OverallQual</th>\n",
       "      <th>YearBuilt</th>\n",
       "    </tr>\n",
       "  </thead>\n",
       "  <tbody>\n",
       "    <tr>\n",
       "      <th>0</th>\n",
       "      <td>1</td>\n",
       "      <td>65.0</td>\n",
       "      <td>9.041922</td>\n",
       "      <td>1</td>\n",
       "      <td>Inside</td>\n",
       "      <td>CollgCr</td>\n",
       "      <td>2</td>\n",
       "      <td>0</td>\n",
       "      <td>modern</td>\n",
       "    </tr>\n",
       "    <tr>\n",
       "      <th>1</th>\n",
       "      <td>1</td>\n",
       "      <td>80.0</td>\n",
       "      <td>9.169518</td>\n",
       "      <td>1</td>\n",
       "      <td>FR</td>\n",
       "      <td>Veenker</td>\n",
       "      <td>1</td>\n",
       "      <td>0</td>\n",
       "      <td>newer</td>\n",
       "    </tr>\n",
       "    <tr>\n",
       "      <th>2</th>\n",
       "      <td>1</td>\n",
       "      <td>68.0</td>\n",
       "      <td>9.328123</td>\n",
       "      <td>0</td>\n",
       "      <td>Inside</td>\n",
       "      <td>CollgCr</td>\n",
       "      <td>2</td>\n",
       "      <td>0</td>\n",
       "      <td>newer</td>\n",
       "    </tr>\n",
       "    <tr>\n",
       "      <th>3</th>\n",
       "      <td>2</td>\n",
       "      <td>60.0</td>\n",
       "      <td>9.164296</td>\n",
       "      <td>0</td>\n",
       "      <td>Corner</td>\n",
       "      <td>Crawfor</td>\n",
       "      <td>2</td>\n",
       "      <td>0</td>\n",
       "      <td>ancient</td>\n",
       "    </tr>\n",
       "    <tr>\n",
       "      <th>4</th>\n",
       "      <td>1</td>\n",
       "      <td>84.0</td>\n",
       "      <td>9.565214</td>\n",
       "      <td>0</td>\n",
       "      <td>FR</td>\n",
       "      <td>NoRidge</td>\n",
       "      <td>2</td>\n",
       "      <td>1</td>\n",
       "      <td>newer</td>\n",
       "    </tr>\n",
       "  </tbody>\n",
       "</table>\n",
       "</div>"
      ],
      "text/plain": [
       "   MSSubClass  LotFrontage  LogLotArea  LotShape LotConfig Neighborhood  \\\n",
       "0           1         65.0    9.041922         1    Inside      CollgCr   \n",
       "1           1         80.0    9.169518         1        FR      Veenker   \n",
       "2           1         68.0    9.328123         0    Inside      CollgCr   \n",
       "3           2         60.0    9.164296         0    Corner      Crawfor   \n",
       "4           1         84.0    9.565214         0        FR      NoRidge   \n",
       "\n",
       "   HouseStyle  OverallQual YearBuilt  \n",
       "0           2            0    modern  \n",
       "1           1            0     newer  \n",
       "2           2            0     newer  \n",
       "3           2            0   ancient  \n",
       "4           2            1     newer  "
      ]
     },
     "execution_count": 66,
     "metadata": {},
     "output_type": "execute_result"
    }
   ],
   "source": [
    "new.head()"
   ]
  },
  {
   "cell_type": "markdown",
   "metadata": {},
   "source": [
    "## YearRemodAdd"
   ]
  },
  {
   "cell_type": "code",
   "execution_count": 67,
   "metadata": {
    "collapsed": false
   },
   "outputs": [
    {
     "data": {
      "text/plain": [
       "count    2919.000000\n",
       "mean     1984.264474\n",
       "std        20.894344\n",
       "min      1950.000000\n",
       "25%      1965.000000\n",
       "50%      1993.000000\n",
       "75%      2004.000000\n",
       "max      2010.000000\n",
       "Name: YearRemodAdd, dtype: float64"
      ]
     },
     "execution_count": 67,
     "metadata": {},
     "output_type": "execute_result"
    }
   ],
   "source": [
    "data[\"YearRemodAdd\"].describe()"
   ]
  },
  {
   "cell_type": "code",
   "execution_count": 68,
   "metadata": {
    "collapsed": false
   },
   "outputs": [
    {
     "data": {
      "text/plain": [
       "count    2919.000000\n",
       "mean       12.951696\n",
       "std        24.065624\n",
       "min        -1.000000\n",
       "25%         0.000000\n",
       "50%         0.000000\n",
       "75%        18.000000\n",
       "max       127.000000\n",
       "Name: YearRemodAdd, dtype: float64"
      ]
     },
     "execution_count": 68,
     "metadata": {},
     "output_type": "execute_result"
    }
   ],
   "source": [
    "remodel = np.subtract(data[\"YearRemodAdd\"], data[\"YearBuilt\"])\n",
    "remodel.describe()"
   ]
  },
  {
   "cell_type": "code",
   "execution_count": 69,
   "metadata": {
    "collapsed": false
   },
   "outputs": [
    {
     "data": {
      "text/plain": [
       "Never       1561\n",
       "long ago     807\n",
       "recent       551\n",
       "Name: YearRemodAdd, dtype: int64"
      ]
     },
     "execution_count": 69,
     "metadata": {},
     "output_type": "execute_result"
    }
   ],
   "source": [
    "new[\"YearRemodAdd\"] = pd.Series(remodel.map(lambda x: \"Never\" if x <= 0 else \"recent\" if x <= 10 else \"long ago\"))\n",
    "new[\"YearRemodAdd\"].value_counts()"
   ]
  },
  {
   "cell_type": "code",
   "execution_count": 70,
   "metadata": {
    "collapsed": false
   },
   "outputs": [
    {
     "data": {
      "text/html": [
       "<div>\n",
       "<table border=\"1\" class=\"dataframe\">\n",
       "  <thead>\n",
       "    <tr style=\"text-align: right;\">\n",
       "      <th></th>\n",
       "      <th>MSSubClass</th>\n",
       "      <th>LotFrontage</th>\n",
       "      <th>LogLotArea</th>\n",
       "      <th>LotShape</th>\n",
       "      <th>LotConfig</th>\n",
       "      <th>Neighborhood</th>\n",
       "      <th>HouseStyle</th>\n",
       "      <th>OverallQual</th>\n",
       "      <th>YearBuilt</th>\n",
       "      <th>YearRemodAdd</th>\n",
       "    </tr>\n",
       "  </thead>\n",
       "  <tbody>\n",
       "    <tr>\n",
       "      <th>0</th>\n",
       "      <td>1</td>\n",
       "      <td>65.0</td>\n",
       "      <td>9.041922</td>\n",
       "      <td>1</td>\n",
       "      <td>Inside</td>\n",
       "      <td>CollgCr</td>\n",
       "      <td>2</td>\n",
       "      <td>0</td>\n",
       "      <td>modern</td>\n",
       "      <td>Never</td>\n",
       "    </tr>\n",
       "    <tr>\n",
       "      <th>1</th>\n",
       "      <td>1</td>\n",
       "      <td>80.0</td>\n",
       "      <td>9.169518</td>\n",
       "      <td>1</td>\n",
       "      <td>FR</td>\n",
       "      <td>Veenker</td>\n",
       "      <td>1</td>\n",
       "      <td>0</td>\n",
       "      <td>newer</td>\n",
       "      <td>Never</td>\n",
       "    </tr>\n",
       "    <tr>\n",
       "      <th>2</th>\n",
       "      <td>1</td>\n",
       "      <td>68.0</td>\n",
       "      <td>9.328123</td>\n",
       "      <td>0</td>\n",
       "      <td>Inside</td>\n",
       "      <td>CollgCr</td>\n",
       "      <td>2</td>\n",
       "      <td>0</td>\n",
       "      <td>newer</td>\n",
       "      <td>recent</td>\n",
       "    </tr>\n",
       "    <tr>\n",
       "      <th>3</th>\n",
       "      <td>2</td>\n",
       "      <td>60.0</td>\n",
       "      <td>9.164296</td>\n",
       "      <td>0</td>\n",
       "      <td>Corner</td>\n",
       "      <td>Crawfor</td>\n",
       "      <td>2</td>\n",
       "      <td>0</td>\n",
       "      <td>ancient</td>\n",
       "      <td>long ago</td>\n",
       "    </tr>\n",
       "    <tr>\n",
       "      <th>4</th>\n",
       "      <td>1</td>\n",
       "      <td>84.0</td>\n",
       "      <td>9.565214</td>\n",
       "      <td>0</td>\n",
       "      <td>FR</td>\n",
       "      <td>NoRidge</td>\n",
       "      <td>2</td>\n",
       "      <td>1</td>\n",
       "      <td>newer</td>\n",
       "      <td>Never</td>\n",
       "    </tr>\n",
       "  </tbody>\n",
       "</table>\n",
       "</div>"
      ],
      "text/plain": [
       "   MSSubClass  LotFrontage  LogLotArea  LotShape LotConfig Neighborhood  \\\n",
       "0           1         65.0    9.041922         1    Inside      CollgCr   \n",
       "1           1         80.0    9.169518         1        FR      Veenker   \n",
       "2           1         68.0    9.328123         0    Inside      CollgCr   \n",
       "3           2         60.0    9.164296         0    Corner      Crawfor   \n",
       "4           1         84.0    9.565214         0        FR      NoRidge   \n",
       "\n",
       "   HouseStyle  OverallQual YearBuilt YearRemodAdd  \n",
       "0           2            0    modern        Never  \n",
       "1           1            0     newer        Never  \n",
       "2           2            0     newer       recent  \n",
       "3           2            0   ancient     long ago  \n",
       "4           2            1     newer        Never  "
      ]
     },
     "execution_count": 70,
     "metadata": {},
     "output_type": "execute_result"
    }
   ],
   "source": [
    "new.head()"
   ]
  },
  {
   "cell_type": "markdown",
   "metadata": {},
   "source": [
    "## RoofStyle"
   ]
  },
  {
   "cell_type": "code",
   "execution_count": 71,
   "metadata": {
    "collapsed": false
   },
   "outputs": [
    {
     "data": {
      "text/plain": [
       "0"
      ]
     },
     "execution_count": 71,
     "metadata": {},
     "output_type": "execute_result"
    }
   ],
   "source": [
    "data[\"RoofStyle\"].isnull().sum()"
   ]
  },
  {
   "cell_type": "code",
   "execution_count": 72,
   "metadata": {
    "collapsed": false
   },
   "outputs": [
    {
     "data": {
      "text/plain": [
       "Gable      2310\n",
       "Hip         551\n",
       "Gambrel      22\n",
       "Flat         20\n",
       "Mansard      11\n",
       "Shed          5\n",
       "Name: RoofStyle, dtype: int64"
      ]
     },
     "execution_count": 72,
     "metadata": {},
     "output_type": "execute_result"
    }
   ],
   "source": [
    "data[\"RoofStyle\"].value_counts()"
   ]
  },
  {
   "cell_type": "code",
   "execution_count": 73,
   "metadata": {
    "collapsed": false
   },
   "outputs": [
    {
     "data": {
      "text/plain": [
       "Gable    2310\n",
       "Hip       551\n",
       "Other      58\n",
       "Name: RoofStyle, dtype: int64"
      ]
     },
     "execution_count": 73,
     "metadata": {},
     "output_type": "execute_result"
    }
   ],
   "source": [
    "RoofStyle = pd.Series(data[\"RoofStyle\"].replace([\"Gambrel\", \"Flat\", \"Mansard\", \"Shed\"], \"Other\"))\n",
    "RoofStyle.value_counts()"
   ]
  },
  {
   "cell_type": "markdown",
   "metadata": {},
   "source": [
    "Lacks variability. Drop this variable."
   ]
  },
  {
   "cell_type": "markdown",
   "metadata": {},
   "source": [
    "## RoofMatl"
   ]
  },
  {
   "cell_type": "code",
   "execution_count": 74,
   "metadata": {
    "collapsed": false
   },
   "outputs": [
    {
     "data": {
      "text/plain": [
       "0"
      ]
     },
     "execution_count": 74,
     "metadata": {},
     "output_type": "execute_result"
    }
   ],
   "source": [
    "data[\"RoofMatl\"].isnull().sum()"
   ]
  },
  {
   "cell_type": "code",
   "execution_count": 75,
   "metadata": {
    "collapsed": false
   },
   "outputs": [
    {
     "data": {
      "text/plain": [
       "CompShg    2876\n",
       "Tar&Grv      23\n",
       "WdShake       9\n",
       "WdShngl       7\n",
       "Membran       1\n",
       "ClyTile       1\n",
       "Metal         1\n",
       "Roll          1\n",
       "Name: RoofMatl, dtype: int64"
      ]
     },
     "execution_count": 75,
     "metadata": {},
     "output_type": "execute_result"
    }
   ],
   "source": [
    "data[\"RoofMatl\"].value_counts()"
   ]
  },
  {
   "cell_type": "markdown",
   "metadata": {},
   "source": [
    "Standard shingle?: Y (1) or N (0)"
   ]
  },
  {
   "cell_type": "code",
   "execution_count": 76,
   "metadata": {
    "collapsed": false
   },
   "outputs": [
    {
     "data": {
      "text/plain": [
       "1    2876\n",
       "0      43\n",
       "dtype: int64"
      ]
     },
     "execution_count": 76,
     "metadata": {},
     "output_type": "execute_result"
    }
   ],
   "source": [
    "RoofMatl = pd.Series(np.where(data[\"RoofMatl\"] == \"CompShg\", 1, 0))\n",
    "RoofMatl.value_counts()"
   ]
  },
  {
   "cell_type": "markdown",
   "metadata": {},
   "source": [
    "Drop this variable since it heavily lacks variability."
   ]
  },
  {
   "cell_type": "markdown",
   "metadata": {},
   "source": [
    "## Exterior1st and Exterior2nd"
   ]
  },
  {
   "cell_type": "code",
   "execution_count": 77,
   "metadata": {
    "collapsed": false
   },
   "outputs": [
    {
     "name": "stdout",
     "output_type": "stream",
     "text": [
      "1\n",
      "1\n"
     ]
    }
   ],
   "source": [
    "print data[\"Exterior1st\"].isnull().sum()\n",
    "print data[\"Exterior2nd\"].isnull().sum()"
   ]
  },
  {
   "cell_type": "code",
   "execution_count": 78,
   "metadata": {
    "collapsed": false
   },
   "outputs": [
    {
     "data": {
      "text/plain": [
       "VinylSd    1025\n",
       "MetalSd     450\n",
       "HdBoard     442\n",
       "Wd Sdng     411\n",
       "Plywood     221\n",
       "CemntBd     126\n",
       "BrkFace      87\n",
       "WdShing      56\n",
       "AsbShng      44\n",
       "Stucco       43\n",
       "BrkComm       6\n",
       "AsphShn       2\n",
       "Stone         2\n",
       "CBlock        2\n",
       "ImStucc       1\n",
       "Name: Exterior1st, dtype: int64"
      ]
     },
     "execution_count": 78,
     "metadata": {},
     "output_type": "execute_result"
    }
   ],
   "source": [
    "data[\"Exterior1st\"].value_counts()"
   ]
  },
  {
   "cell_type": "code",
   "execution_count": 79,
   "metadata": {
    "collapsed": false
   },
   "outputs": [
    {
     "data": {
      "text/plain": [
       "VinylSd    1025\n",
       "MetalSd     450\n",
       "HdBoard     442\n",
       "Wd Sdng     411\n",
       "Other       244\n",
       "Plywood     221\n",
       "CemntBd     126\n",
       "Name: Exterior1st, dtype: int64"
      ]
     },
     "execution_count": 79,
     "metadata": {},
     "output_type": "execute_result"
    }
   ],
   "source": [
    "Exterior1st = data[\"Exterior1st\"].fillna(\"Other\") \\\n",
    ".replace([\"BrkFace\", \"WdShing\", \"AsbShng\", \"Stucco\", \"BrkComm\", \"AsphShn\", \"Stone\", \"CBlock\", \"ImStucc\", \"Other\"], \"Other\")\n",
    "Exterior1st.value_counts()"
   ]
  },
  {
   "cell_type": "code",
   "execution_count": 80,
   "metadata": {
    "collapsed": false
   },
   "outputs": [
    {
     "data": {
      "text/plain": [
       "VinylSd    1014\n",
       "MetalSd     447\n",
       "HdBoard     406\n",
       "Wd Sdng     391\n",
       "Plywood     270\n",
       "CmentBd     126\n",
       "Wd Shng      81\n",
       "BrkFace      47\n",
       "Stucco       47\n",
       "AsbShng      38\n",
       "Brk Cmn      22\n",
       "ImStucc      15\n",
       "Stone         6\n",
       "AsphShn       4\n",
       "CBlock        3\n",
       "Other         1\n",
       "Name: Exterior2nd, dtype: int64"
      ]
     },
     "execution_count": 80,
     "metadata": {},
     "output_type": "execute_result"
    }
   ],
   "source": [
    "data[\"Exterior2nd\"].value_counts()"
   ]
  },
  {
   "cell_type": "code",
   "execution_count": 81,
   "metadata": {
    "collapsed": false
   },
   "outputs": [
    {
     "data": {
      "text/plain": [
       "VinylSd    1014\n",
       "MetalSd     447\n",
       "HdBoard     406\n",
       "Wd Sdng     391\n",
       "Plywood     270\n",
       "Other       265\n",
       "CmentBd     126\n",
       "Name: Exterior2nd, dtype: int64"
      ]
     },
     "execution_count": 81,
     "metadata": {},
     "output_type": "execute_result"
    }
   ],
   "source": [
    "Exterior2nd = data[\"Exterior2nd\"].fillna(\"Other\") \\\n",
    ".replace([\"Wd Shng\", \"BrkFace\", \"Stucco\", \"AsbShng\", \"Brk Cmn\", \"ImStucc\", \"Stone\", \"AsphShn\", \"CBlock\", \"Other\"], \"Other\")\n",
    "Exterior2nd.value_counts()"
   ]
  },
  {
   "cell_type": "code",
   "execution_count": 82,
   "metadata": {
    "collapsed": false
   },
   "outputs": [
    {
     "data": {
      "text/plain": [
       "True     2544\n",
       "False     375\n",
       "Name: Exterior1st, dtype: int64"
      ]
     },
     "execution_count": 82,
     "metadata": {},
     "output_type": "execute_result"
    }
   ],
   "source": [
    "np.equal(Exterior1st, Exterior2nd).value_counts()  # check if both columns are same"
   ]
  },
  {
   "cell_type": "markdown",
   "metadata": {},
   "source": [
    "Since both variables roughly have the same distribution and most houses have only one exterior material, keep only one of them in the model."
   ]
  },
  {
   "cell_type": "code",
   "execution_count": 83,
   "metadata": {
    "collapsed": false
   },
   "outputs": [
    {
     "data": {
      "text/plain": [
       "VinylSd    1025\n",
       "MetalSd     450\n",
       "HdBoard     442\n",
       "Wd Sdng     411\n",
       "Other       244\n",
       "Plywood     221\n",
       "CemntBd     126\n",
       "Name: Exterior, dtype: int64"
      ]
     },
     "execution_count": 83,
     "metadata": {},
     "output_type": "execute_result"
    }
   ],
   "source": [
    "new[\"Exterior\"] = Exterior1st\n",
    "new[\"Exterior\"].value_counts()"
   ]
  },
  {
   "cell_type": "code",
   "execution_count": 84,
   "metadata": {
    "collapsed": false
   },
   "outputs": [
    {
     "data": {
      "text/html": [
       "<div>\n",
       "<table border=\"1\" class=\"dataframe\">\n",
       "  <thead>\n",
       "    <tr style=\"text-align: right;\">\n",
       "      <th></th>\n",
       "      <th>MSSubClass</th>\n",
       "      <th>LotFrontage</th>\n",
       "      <th>LogLotArea</th>\n",
       "      <th>LotShape</th>\n",
       "      <th>LotConfig</th>\n",
       "      <th>Neighborhood</th>\n",
       "      <th>HouseStyle</th>\n",
       "      <th>OverallQual</th>\n",
       "      <th>YearBuilt</th>\n",
       "      <th>YearRemodAdd</th>\n",
       "      <th>Exterior</th>\n",
       "    </tr>\n",
       "  </thead>\n",
       "  <tbody>\n",
       "    <tr>\n",
       "      <th>0</th>\n",
       "      <td>1</td>\n",
       "      <td>65.0</td>\n",
       "      <td>9.041922</td>\n",
       "      <td>1</td>\n",
       "      <td>Inside</td>\n",
       "      <td>CollgCr</td>\n",
       "      <td>2</td>\n",
       "      <td>0</td>\n",
       "      <td>modern</td>\n",
       "      <td>Never</td>\n",
       "      <td>VinylSd</td>\n",
       "    </tr>\n",
       "    <tr>\n",
       "      <th>1</th>\n",
       "      <td>1</td>\n",
       "      <td>80.0</td>\n",
       "      <td>9.169518</td>\n",
       "      <td>1</td>\n",
       "      <td>FR</td>\n",
       "      <td>Veenker</td>\n",
       "      <td>1</td>\n",
       "      <td>0</td>\n",
       "      <td>newer</td>\n",
       "      <td>Never</td>\n",
       "      <td>MetalSd</td>\n",
       "    </tr>\n",
       "    <tr>\n",
       "      <th>2</th>\n",
       "      <td>1</td>\n",
       "      <td>68.0</td>\n",
       "      <td>9.328123</td>\n",
       "      <td>0</td>\n",
       "      <td>Inside</td>\n",
       "      <td>CollgCr</td>\n",
       "      <td>2</td>\n",
       "      <td>0</td>\n",
       "      <td>newer</td>\n",
       "      <td>recent</td>\n",
       "      <td>VinylSd</td>\n",
       "    </tr>\n",
       "    <tr>\n",
       "      <th>3</th>\n",
       "      <td>2</td>\n",
       "      <td>60.0</td>\n",
       "      <td>9.164296</td>\n",
       "      <td>0</td>\n",
       "      <td>Corner</td>\n",
       "      <td>Crawfor</td>\n",
       "      <td>2</td>\n",
       "      <td>0</td>\n",
       "      <td>ancient</td>\n",
       "      <td>long ago</td>\n",
       "      <td>Wd Sdng</td>\n",
       "    </tr>\n",
       "    <tr>\n",
       "      <th>4</th>\n",
       "      <td>1</td>\n",
       "      <td>84.0</td>\n",
       "      <td>9.565214</td>\n",
       "      <td>0</td>\n",
       "      <td>FR</td>\n",
       "      <td>NoRidge</td>\n",
       "      <td>2</td>\n",
       "      <td>1</td>\n",
       "      <td>newer</td>\n",
       "      <td>Never</td>\n",
       "      <td>VinylSd</td>\n",
       "    </tr>\n",
       "  </tbody>\n",
       "</table>\n",
       "</div>"
      ],
      "text/plain": [
       "   MSSubClass  LotFrontage  LogLotArea  LotShape LotConfig Neighborhood  \\\n",
       "0           1         65.0    9.041922         1    Inside      CollgCr   \n",
       "1           1         80.0    9.169518         1        FR      Veenker   \n",
       "2           1         68.0    9.328123         0    Inside      CollgCr   \n",
       "3           2         60.0    9.164296         0    Corner      Crawfor   \n",
       "4           1         84.0    9.565214         0        FR      NoRidge   \n",
       "\n",
       "   HouseStyle  OverallQual YearBuilt YearRemodAdd Exterior  \n",
       "0           2            0    modern        Never  VinylSd  \n",
       "1           1            0     newer        Never  MetalSd  \n",
       "2           2            0     newer       recent  VinylSd  \n",
       "3           2            0   ancient     long ago  Wd Sdng  \n",
       "4           2            1     newer        Never  VinylSd  "
      ]
     },
     "execution_count": 84,
     "metadata": {},
     "output_type": "execute_result"
    }
   ],
   "source": [
    "new.head()"
   ]
  },
  {
   "cell_type": "markdown",
   "metadata": {},
   "source": [
    "## MasVnrType and MasVnrArea"
   ]
  },
  {
   "cell_type": "code",
   "execution_count": 85,
   "metadata": {
    "collapsed": false
   },
   "outputs": [
    {
     "data": {
      "text/plain": [
       "count    2896.000000\n",
       "mean      102.201312\n",
       "std       179.334253\n",
       "min         0.000000\n",
       "25%         0.000000\n",
       "50%         0.000000\n",
       "75%       164.000000\n",
       "max      1600.000000\n",
       "Name: MasVnrArea, dtype: float64"
      ]
     },
     "execution_count": 85,
     "metadata": {},
     "output_type": "execute_result"
    }
   ],
   "source": [
    "data[\"MasVnrArea\"].describe()"
   ]
  },
  {
   "cell_type": "code",
   "execution_count": 86,
   "metadata": {
    "collapsed": false
   },
   "outputs": [
    {
     "data": {
      "text/plain": [
       "1761"
      ]
     },
     "execution_count": 86,
     "metadata": {},
     "output_type": "execute_result"
    }
   ],
   "source": [
    "data[\"MasVnrArea\"] = data[\"MasVnrArea\"].fillna(0)\n",
    "np.sum(data[\"MasVnrArea\"] == 0)"
   ]
  },
  {
   "cell_type": "markdown",
   "metadata": {},
   "source": [
    "Since most houses don't have masonry veneer, the area is mostly 0."
   ]
  },
  {
   "cell_type": "code",
   "execution_count": 87,
   "metadata": {
    "collapsed": false
   },
   "outputs": [
    {
     "data": {
      "text/plain": [
       "24"
      ]
     },
     "execution_count": 87,
     "metadata": {},
     "output_type": "execute_result"
    }
   ],
   "source": [
    "data[\"MasVnrType\"].isnull().sum()"
   ]
  },
  {
   "cell_type": "code",
   "execution_count": 88,
   "metadata": {
    "collapsed": false
   },
   "outputs": [
    {
     "data": {
      "text/plain": [
       "None       1766\n",
       "BrkFace     879\n",
       "Stone       249\n",
       "BrkCmn       25\n",
       "Name: MasVnrType, dtype: int64"
      ]
     },
     "execution_count": 88,
     "metadata": {},
     "output_type": "execute_result"
    }
   ],
   "source": [
    "data[\"MasVnrType\"] = data[\"MasVnrType\"].fillna(\"None\")\n",
    "data[\"MasVnrType\"].value_counts()"
   ]
  },
  {
   "cell_type": "markdown",
   "metadata": {},
   "source": [
    "It makes more sense to simply record if a house has masonry veneer rather than worrying about unnecessary details, such as its area and type."
   ]
  },
  {
   "cell_type": "code",
   "execution_count": 89,
   "metadata": {
    "collapsed": false
   },
   "outputs": [
    {
     "data": {
      "text/plain": [
       "0    1761\n",
       "1    1158\n",
       "Name: MasVnr, dtype: int64"
      ]
     },
     "execution_count": 89,
     "metadata": {},
     "output_type": "execute_result"
    }
   ],
   "source": [
    "new[\"MasVnr\"] = np.where(data[\"MasVnrArea\"] == 0, 0, 1)\n",
    "new[\"MasVnr\"].value_counts()"
   ]
  },
  {
   "cell_type": "code",
   "execution_count": 90,
   "metadata": {
    "collapsed": false
   },
   "outputs": [
    {
     "data": {
      "text/html": [
       "<div>\n",
       "<table border=\"1\" class=\"dataframe\">\n",
       "  <thead>\n",
       "    <tr style=\"text-align: right;\">\n",
       "      <th></th>\n",
       "      <th>MSSubClass</th>\n",
       "      <th>LotFrontage</th>\n",
       "      <th>LogLotArea</th>\n",
       "      <th>LotShape</th>\n",
       "      <th>LotConfig</th>\n",
       "      <th>Neighborhood</th>\n",
       "      <th>HouseStyle</th>\n",
       "      <th>OverallQual</th>\n",
       "      <th>YearBuilt</th>\n",
       "      <th>YearRemodAdd</th>\n",
       "      <th>Exterior</th>\n",
       "      <th>MasVnr</th>\n",
       "    </tr>\n",
       "  </thead>\n",
       "  <tbody>\n",
       "    <tr>\n",
       "      <th>0</th>\n",
       "      <td>1</td>\n",
       "      <td>65.0</td>\n",
       "      <td>9.041922</td>\n",
       "      <td>1</td>\n",
       "      <td>Inside</td>\n",
       "      <td>CollgCr</td>\n",
       "      <td>2</td>\n",
       "      <td>0</td>\n",
       "      <td>modern</td>\n",
       "      <td>Never</td>\n",
       "      <td>VinylSd</td>\n",
       "      <td>1</td>\n",
       "    </tr>\n",
       "    <tr>\n",
       "      <th>1</th>\n",
       "      <td>1</td>\n",
       "      <td>80.0</td>\n",
       "      <td>9.169518</td>\n",
       "      <td>1</td>\n",
       "      <td>FR</td>\n",
       "      <td>Veenker</td>\n",
       "      <td>1</td>\n",
       "      <td>0</td>\n",
       "      <td>newer</td>\n",
       "      <td>Never</td>\n",
       "      <td>MetalSd</td>\n",
       "      <td>0</td>\n",
       "    </tr>\n",
       "    <tr>\n",
       "      <th>2</th>\n",
       "      <td>1</td>\n",
       "      <td>68.0</td>\n",
       "      <td>9.328123</td>\n",
       "      <td>0</td>\n",
       "      <td>Inside</td>\n",
       "      <td>CollgCr</td>\n",
       "      <td>2</td>\n",
       "      <td>0</td>\n",
       "      <td>newer</td>\n",
       "      <td>recent</td>\n",
       "      <td>VinylSd</td>\n",
       "      <td>1</td>\n",
       "    </tr>\n",
       "    <tr>\n",
       "      <th>3</th>\n",
       "      <td>2</td>\n",
       "      <td>60.0</td>\n",
       "      <td>9.164296</td>\n",
       "      <td>0</td>\n",
       "      <td>Corner</td>\n",
       "      <td>Crawfor</td>\n",
       "      <td>2</td>\n",
       "      <td>0</td>\n",
       "      <td>ancient</td>\n",
       "      <td>long ago</td>\n",
       "      <td>Wd Sdng</td>\n",
       "      <td>0</td>\n",
       "    </tr>\n",
       "    <tr>\n",
       "      <th>4</th>\n",
       "      <td>1</td>\n",
       "      <td>84.0</td>\n",
       "      <td>9.565214</td>\n",
       "      <td>0</td>\n",
       "      <td>FR</td>\n",
       "      <td>NoRidge</td>\n",
       "      <td>2</td>\n",
       "      <td>1</td>\n",
       "      <td>newer</td>\n",
       "      <td>Never</td>\n",
       "      <td>VinylSd</td>\n",
       "      <td>1</td>\n",
       "    </tr>\n",
       "  </tbody>\n",
       "</table>\n",
       "</div>"
      ],
      "text/plain": [
       "   MSSubClass  LotFrontage  LogLotArea  LotShape LotConfig Neighborhood  \\\n",
       "0           1         65.0    9.041922         1    Inside      CollgCr   \n",
       "1           1         80.0    9.169518         1        FR      Veenker   \n",
       "2           1         68.0    9.328123         0    Inside      CollgCr   \n",
       "3           2         60.0    9.164296         0    Corner      Crawfor   \n",
       "4           1         84.0    9.565214         0        FR      NoRidge   \n",
       "\n",
       "   HouseStyle  OverallQual YearBuilt YearRemodAdd Exterior  MasVnr  \n",
       "0           2            0    modern        Never  VinylSd       1  \n",
       "1           1            0     newer        Never  MetalSd       0  \n",
       "2           2            0     newer       recent  VinylSd       1  \n",
       "3           2            0   ancient     long ago  Wd Sdng       0  \n",
       "4           2            1     newer        Never  VinylSd       1  "
      ]
     },
     "execution_count": 90,
     "metadata": {},
     "output_type": "execute_result"
    }
   ],
   "source": [
    "new.head()"
   ]
  },
  {
   "cell_type": "markdown",
   "metadata": {},
   "source": [
    "## ExterQual and ExterCond"
   ]
  },
  {
   "cell_type": "code",
   "execution_count": 91,
   "metadata": {
    "collapsed": false
   },
   "outputs": [
    {
     "name": "stdout",
     "output_type": "stream",
     "text": [
      "0\n",
      "0\n"
     ]
    }
   ],
   "source": [
    "print data[\"ExterQual\"].isnull().sum()\n",
    "print data[\"ExterCond\"].isnull().sum()"
   ]
  },
  {
   "cell_type": "markdown",
   "metadata": {},
   "source": [
    "Compare the original quality of the material to its current condition."
   ]
  },
  {
   "cell_type": "code",
   "execution_count": 92,
   "metadata": {
    "collapsed": false
   },
   "outputs": [
    {
     "data": {
      "text/plain": [
       "3    1798\n",
       "4     979\n",
       "5     107\n",
       "2      35\n",
       "Name: ExterQual, dtype: int64"
      ]
     },
     "execution_count": 92,
     "metadata": {},
     "output_type": "execute_result"
    }
   ],
   "source": [
    "original = data[\"ExterQual\"].map({\"Ex\": 5, \"Gd\": 4, \"TA\": 3, \"Fa\": 2, \"Po\": 1})\n",
    "current = data[\"ExterCond\"].map({\"Ex\": 5, \"Gd\": 4, \"TA\": 3, \"Fa\": 2, \"Po\": 1})\n",
    "original.value_counts()"
   ]
  },
  {
   "cell_type": "code",
   "execution_count": 93,
   "metadata": {
    "collapsed": false
   },
   "outputs": [
    {
     "data": {
      "text/plain": [
       "3    2538\n",
       "4     299\n",
       "2      67\n",
       "5      12\n",
       "1       3\n",
       "Name: ExterCond, dtype: int64"
      ]
     },
     "execution_count": 93,
     "metadata": {},
     "output_type": "execute_result"
    }
   ],
   "source": [
    "current.value_counts()"
   ]
  },
  {
   "cell_type": "markdown",
   "metadata": {},
   "source": [
    "Get the change in condition overtime."
   ]
  },
  {
   "cell_type": "code",
   "execution_count": 94,
   "metadata": {
    "collapsed": false
   },
   "outputs": [
    {
     "data": {
      "text/plain": [
       " 0    1620\n",
       "-1     951\n",
       " 1     237\n",
       "-2     104\n",
       " 2       7\n",
       "Name: ExterCond, dtype: int64"
      ]
     },
     "execution_count": 94,
     "metadata": {},
     "output_type": "execute_result"
    }
   ],
   "source": [
    "cond = np.subtract(current, original)\n",
    "cond.value_counts()"
   ]
  },
  {
   "cell_type": "code",
   "execution_count": 95,
   "metadata": {
    "collapsed": false
   },
   "outputs": [
    {
     "data": {
      "text/plain": [
       "no change      1620\n",
       "depreciated    1055\n",
       "improved        244\n",
       "Name: ExterCond, dtype: int64"
      ]
     },
     "execution_count": 95,
     "metadata": {},
     "output_type": "execute_result"
    }
   ],
   "source": [
    "new[\"ExterCond\"] = pd.Series(cond.map(lambda x: \"depreciated\" if x < 0 else \"improved\" if x > 0 else \"no change\"))\n",
    "new[\"ExterCond\"].value_counts()"
   ]
  },
  {
   "cell_type": "code",
   "execution_count": 96,
   "metadata": {
    "collapsed": false
   },
   "outputs": [
    {
     "data": {
      "text/html": [
       "<div>\n",
       "<table border=\"1\" class=\"dataframe\">\n",
       "  <thead>\n",
       "    <tr style=\"text-align: right;\">\n",
       "      <th></th>\n",
       "      <th>MSSubClass</th>\n",
       "      <th>LotFrontage</th>\n",
       "      <th>LogLotArea</th>\n",
       "      <th>LotShape</th>\n",
       "      <th>LotConfig</th>\n",
       "      <th>Neighborhood</th>\n",
       "      <th>HouseStyle</th>\n",
       "      <th>OverallQual</th>\n",
       "      <th>YearBuilt</th>\n",
       "      <th>YearRemodAdd</th>\n",
       "      <th>Exterior</th>\n",
       "      <th>MasVnr</th>\n",
       "      <th>ExterCond</th>\n",
       "    </tr>\n",
       "  </thead>\n",
       "  <tbody>\n",
       "    <tr>\n",
       "      <th>0</th>\n",
       "      <td>1</td>\n",
       "      <td>65.0</td>\n",
       "      <td>9.041922</td>\n",
       "      <td>1</td>\n",
       "      <td>Inside</td>\n",
       "      <td>CollgCr</td>\n",
       "      <td>2</td>\n",
       "      <td>0</td>\n",
       "      <td>modern</td>\n",
       "      <td>Never</td>\n",
       "      <td>VinylSd</td>\n",
       "      <td>1</td>\n",
       "      <td>depreciated</td>\n",
       "    </tr>\n",
       "    <tr>\n",
       "      <th>1</th>\n",
       "      <td>1</td>\n",
       "      <td>80.0</td>\n",
       "      <td>9.169518</td>\n",
       "      <td>1</td>\n",
       "      <td>FR</td>\n",
       "      <td>Veenker</td>\n",
       "      <td>1</td>\n",
       "      <td>0</td>\n",
       "      <td>newer</td>\n",
       "      <td>Never</td>\n",
       "      <td>MetalSd</td>\n",
       "      <td>0</td>\n",
       "      <td>no change</td>\n",
       "    </tr>\n",
       "    <tr>\n",
       "      <th>2</th>\n",
       "      <td>1</td>\n",
       "      <td>68.0</td>\n",
       "      <td>9.328123</td>\n",
       "      <td>0</td>\n",
       "      <td>Inside</td>\n",
       "      <td>CollgCr</td>\n",
       "      <td>2</td>\n",
       "      <td>0</td>\n",
       "      <td>newer</td>\n",
       "      <td>recent</td>\n",
       "      <td>VinylSd</td>\n",
       "      <td>1</td>\n",
       "      <td>depreciated</td>\n",
       "    </tr>\n",
       "    <tr>\n",
       "      <th>3</th>\n",
       "      <td>2</td>\n",
       "      <td>60.0</td>\n",
       "      <td>9.164296</td>\n",
       "      <td>0</td>\n",
       "      <td>Corner</td>\n",
       "      <td>Crawfor</td>\n",
       "      <td>2</td>\n",
       "      <td>0</td>\n",
       "      <td>ancient</td>\n",
       "      <td>long ago</td>\n",
       "      <td>Wd Sdng</td>\n",
       "      <td>0</td>\n",
       "      <td>no change</td>\n",
       "    </tr>\n",
       "    <tr>\n",
       "      <th>4</th>\n",
       "      <td>1</td>\n",
       "      <td>84.0</td>\n",
       "      <td>9.565214</td>\n",
       "      <td>0</td>\n",
       "      <td>FR</td>\n",
       "      <td>NoRidge</td>\n",
       "      <td>2</td>\n",
       "      <td>1</td>\n",
       "      <td>newer</td>\n",
       "      <td>Never</td>\n",
       "      <td>VinylSd</td>\n",
       "      <td>1</td>\n",
       "      <td>depreciated</td>\n",
       "    </tr>\n",
       "  </tbody>\n",
       "</table>\n",
       "</div>"
      ],
      "text/plain": [
       "   MSSubClass  LotFrontage  LogLotArea  LotShape LotConfig Neighborhood  \\\n",
       "0           1         65.0    9.041922         1    Inside      CollgCr   \n",
       "1           1         80.0    9.169518         1        FR      Veenker   \n",
       "2           1         68.0    9.328123         0    Inside      CollgCr   \n",
       "3           2         60.0    9.164296         0    Corner      Crawfor   \n",
       "4           1         84.0    9.565214         0        FR      NoRidge   \n",
       "\n",
       "   HouseStyle  OverallQual YearBuilt YearRemodAdd Exterior  MasVnr  \\\n",
       "0           2            0    modern        Never  VinylSd       1   \n",
       "1           1            0     newer        Never  MetalSd       0   \n",
       "2           2            0     newer       recent  VinylSd       1   \n",
       "3           2            0   ancient     long ago  Wd Sdng       0   \n",
       "4           2            1     newer        Never  VinylSd       1   \n",
       "\n",
       "     ExterCond  \n",
       "0  depreciated  \n",
       "1    no change  \n",
       "2  depreciated  \n",
       "3    no change  \n",
       "4  depreciated  "
      ]
     },
     "execution_count": 96,
     "metadata": {},
     "output_type": "execute_result"
    }
   ],
   "source": [
    "new.head()"
   ]
  },
  {
   "cell_type": "markdown",
   "metadata": {},
   "source": [
    "## Foundation"
   ]
  },
  {
   "cell_type": "code",
   "execution_count": 97,
   "metadata": {
    "collapsed": false
   },
   "outputs": [
    {
     "data": {
      "text/plain": [
       "0"
      ]
     },
     "execution_count": 97,
     "metadata": {},
     "output_type": "execute_result"
    }
   ],
   "source": [
    "data[\"Foundation\"].isnull().sum()"
   ]
  },
  {
   "cell_type": "code",
   "execution_count": 98,
   "metadata": {
    "collapsed": false
   },
   "outputs": [
    {
     "data": {
      "text/plain": [
       "PConc     1308\n",
       "CBlock    1235\n",
       "BrkTil     311\n",
       "Slab        49\n",
       "Stone       11\n",
       "Wood         5\n",
       "Name: Foundation, dtype: int64"
      ]
     },
     "execution_count": 98,
     "metadata": {},
     "output_type": "execute_result"
    }
   ],
   "source": [
    "data[\"Foundation\"].value_counts()"
   ]
  },
  {
   "cell_type": "code",
   "execution_count": 99,
   "metadata": {
    "collapsed": false
   },
   "outputs": [
    {
     "data": {
      "text/plain": [
       "PConc     1308\n",
       "CBlock    1235\n",
       "Other      376\n",
       "Name: Foundation, dtype: int64"
      ]
     },
     "execution_count": 99,
     "metadata": {},
     "output_type": "execute_result"
    }
   ],
   "source": [
    "new[\"Foundation\"] = data[\"Foundation\"].replace([\"BrkTil\", \"Slab\", \"Stone\", \"Wood\"], \"Other\")\n",
    "new[\"Foundation\"].value_counts()"
   ]
  },
  {
   "cell_type": "code",
   "execution_count": 100,
   "metadata": {
    "collapsed": false
   },
   "outputs": [
    {
     "data": {
      "text/html": [
       "<div>\n",
       "<table border=\"1\" class=\"dataframe\">\n",
       "  <thead>\n",
       "    <tr style=\"text-align: right;\">\n",
       "      <th></th>\n",
       "      <th>MSSubClass</th>\n",
       "      <th>LotFrontage</th>\n",
       "      <th>LogLotArea</th>\n",
       "      <th>LotShape</th>\n",
       "      <th>LotConfig</th>\n",
       "      <th>Neighborhood</th>\n",
       "      <th>HouseStyle</th>\n",
       "      <th>OverallQual</th>\n",
       "      <th>YearBuilt</th>\n",
       "      <th>YearRemodAdd</th>\n",
       "      <th>Exterior</th>\n",
       "      <th>MasVnr</th>\n",
       "      <th>ExterCond</th>\n",
       "      <th>Foundation</th>\n",
       "    </tr>\n",
       "  </thead>\n",
       "  <tbody>\n",
       "    <tr>\n",
       "      <th>0</th>\n",
       "      <td>1</td>\n",
       "      <td>65.0</td>\n",
       "      <td>9.041922</td>\n",
       "      <td>1</td>\n",
       "      <td>Inside</td>\n",
       "      <td>CollgCr</td>\n",
       "      <td>2</td>\n",
       "      <td>0</td>\n",
       "      <td>modern</td>\n",
       "      <td>Never</td>\n",
       "      <td>VinylSd</td>\n",
       "      <td>1</td>\n",
       "      <td>depreciated</td>\n",
       "      <td>PConc</td>\n",
       "    </tr>\n",
       "    <tr>\n",
       "      <th>1</th>\n",
       "      <td>1</td>\n",
       "      <td>80.0</td>\n",
       "      <td>9.169518</td>\n",
       "      <td>1</td>\n",
       "      <td>FR</td>\n",
       "      <td>Veenker</td>\n",
       "      <td>1</td>\n",
       "      <td>0</td>\n",
       "      <td>newer</td>\n",
       "      <td>Never</td>\n",
       "      <td>MetalSd</td>\n",
       "      <td>0</td>\n",
       "      <td>no change</td>\n",
       "      <td>CBlock</td>\n",
       "    </tr>\n",
       "    <tr>\n",
       "      <th>2</th>\n",
       "      <td>1</td>\n",
       "      <td>68.0</td>\n",
       "      <td>9.328123</td>\n",
       "      <td>0</td>\n",
       "      <td>Inside</td>\n",
       "      <td>CollgCr</td>\n",
       "      <td>2</td>\n",
       "      <td>0</td>\n",
       "      <td>newer</td>\n",
       "      <td>recent</td>\n",
       "      <td>VinylSd</td>\n",
       "      <td>1</td>\n",
       "      <td>depreciated</td>\n",
       "      <td>PConc</td>\n",
       "    </tr>\n",
       "    <tr>\n",
       "      <th>3</th>\n",
       "      <td>2</td>\n",
       "      <td>60.0</td>\n",
       "      <td>9.164296</td>\n",
       "      <td>0</td>\n",
       "      <td>Corner</td>\n",
       "      <td>Crawfor</td>\n",
       "      <td>2</td>\n",
       "      <td>0</td>\n",
       "      <td>ancient</td>\n",
       "      <td>long ago</td>\n",
       "      <td>Wd Sdng</td>\n",
       "      <td>0</td>\n",
       "      <td>no change</td>\n",
       "      <td>Other</td>\n",
       "    </tr>\n",
       "    <tr>\n",
       "      <th>4</th>\n",
       "      <td>1</td>\n",
       "      <td>84.0</td>\n",
       "      <td>9.565214</td>\n",
       "      <td>0</td>\n",
       "      <td>FR</td>\n",
       "      <td>NoRidge</td>\n",
       "      <td>2</td>\n",
       "      <td>1</td>\n",
       "      <td>newer</td>\n",
       "      <td>Never</td>\n",
       "      <td>VinylSd</td>\n",
       "      <td>1</td>\n",
       "      <td>depreciated</td>\n",
       "      <td>PConc</td>\n",
       "    </tr>\n",
       "  </tbody>\n",
       "</table>\n",
       "</div>"
      ],
      "text/plain": [
       "   MSSubClass  LotFrontage  LogLotArea  LotShape LotConfig Neighborhood  \\\n",
       "0           1         65.0    9.041922         1    Inside      CollgCr   \n",
       "1           1         80.0    9.169518         1        FR      Veenker   \n",
       "2           1         68.0    9.328123         0    Inside      CollgCr   \n",
       "3           2         60.0    9.164296         0    Corner      Crawfor   \n",
       "4           1         84.0    9.565214         0        FR      NoRidge   \n",
       "\n",
       "   HouseStyle  OverallQual YearBuilt YearRemodAdd Exterior  MasVnr  \\\n",
       "0           2            0    modern        Never  VinylSd       1   \n",
       "1           1            0     newer        Never  MetalSd       0   \n",
       "2           2            0     newer       recent  VinylSd       1   \n",
       "3           2            0   ancient     long ago  Wd Sdng       0   \n",
       "4           2            1     newer        Never  VinylSd       1   \n",
       "\n",
       "     ExterCond Foundation  \n",
       "0  depreciated      PConc  \n",
       "1    no change     CBlock  \n",
       "2  depreciated      PConc  \n",
       "3    no change      Other  \n",
       "4  depreciated      PConc  "
      ]
     },
     "execution_count": 100,
     "metadata": {},
     "output_type": "execute_result"
    }
   ],
   "source": [
    "new.head()"
   ]
  },
  {
   "cell_type": "markdown",
   "metadata": {},
   "source": [
    "## BsmtQual"
   ]
  },
  {
   "cell_type": "markdown",
   "metadata": {},
   "source": [
    "This variable records the basement height."
   ]
  },
  {
   "cell_type": "code",
   "execution_count": 101,
   "metadata": {
    "collapsed": false
   },
   "outputs": [
    {
     "data": {
      "text/plain": [
       "81"
      ]
     },
     "execution_count": 101,
     "metadata": {},
     "output_type": "execute_result"
    }
   ],
   "source": [
    "data[\"BsmtQual\"].isnull().sum()"
   ]
  },
  {
   "cell_type": "code",
   "execution_count": 102,
   "metadata": {
    "collapsed": false
   },
   "outputs": [
    {
     "data": {
      "text/plain": [
       "TA    1283\n",
       "Gd    1209\n",
       "Ex     258\n",
       "Fa      88\n",
       "Name: BsmtQual, dtype: int64"
      ]
     },
     "execution_count": 102,
     "metadata": {},
     "output_type": "execute_result"
    }
   ],
   "source": [
    "data[\"BsmtQual\"].value_counts()"
   ]
  },
  {
   "cell_type": "markdown",
   "metadata": {},
   "source": [
    "NA means no basement, and not missing."
   ]
  },
  {
   "cell_type": "code",
   "execution_count": 103,
   "metadata": {
    "collapsed": false
   },
   "outputs": [
    {
     "data": {
      "text/plain": [
       "2    1283\n",
       "3    1209\n",
       "4     258\n",
       "1      88\n",
       "0      81\n",
       "Name: BsmtQual, dtype: int64"
      ]
     },
     "execution_count": 103,
     "metadata": {},
     "output_type": "execute_result"
    }
   ],
   "source": [
    "new[\"BsmtQual\"] = data[\"BsmtQual\"].fillna(\"None\").map({\"Ex\": 4, \"Gd\": 3, \"TA\": 2, \"Fa\": 1, \"Po\": 1, \"None\": 0})\n",
    "new[\"BsmtQual\"].value_counts()"
   ]
  },
  {
   "cell_type": "code",
   "execution_count": 104,
   "metadata": {
    "collapsed": false
   },
   "outputs": [
    {
     "data": {
      "text/html": [
       "<div>\n",
       "<table border=\"1\" class=\"dataframe\">\n",
       "  <thead>\n",
       "    <tr style=\"text-align: right;\">\n",
       "      <th></th>\n",
       "      <th>MSSubClass</th>\n",
       "      <th>LotFrontage</th>\n",
       "      <th>LogLotArea</th>\n",
       "      <th>LotShape</th>\n",
       "      <th>LotConfig</th>\n",
       "      <th>Neighborhood</th>\n",
       "      <th>HouseStyle</th>\n",
       "      <th>OverallQual</th>\n",
       "      <th>YearBuilt</th>\n",
       "      <th>YearRemodAdd</th>\n",
       "      <th>Exterior</th>\n",
       "      <th>MasVnr</th>\n",
       "      <th>ExterCond</th>\n",
       "      <th>Foundation</th>\n",
       "      <th>BsmtQual</th>\n",
       "    </tr>\n",
       "  </thead>\n",
       "  <tbody>\n",
       "    <tr>\n",
       "      <th>0</th>\n",
       "      <td>1</td>\n",
       "      <td>65.0</td>\n",
       "      <td>9.041922</td>\n",
       "      <td>1</td>\n",
       "      <td>Inside</td>\n",
       "      <td>CollgCr</td>\n",
       "      <td>2</td>\n",
       "      <td>0</td>\n",
       "      <td>modern</td>\n",
       "      <td>Never</td>\n",
       "      <td>VinylSd</td>\n",
       "      <td>1</td>\n",
       "      <td>depreciated</td>\n",
       "      <td>PConc</td>\n",
       "      <td>3</td>\n",
       "    </tr>\n",
       "    <tr>\n",
       "      <th>1</th>\n",
       "      <td>1</td>\n",
       "      <td>80.0</td>\n",
       "      <td>9.169518</td>\n",
       "      <td>1</td>\n",
       "      <td>FR</td>\n",
       "      <td>Veenker</td>\n",
       "      <td>1</td>\n",
       "      <td>0</td>\n",
       "      <td>newer</td>\n",
       "      <td>Never</td>\n",
       "      <td>MetalSd</td>\n",
       "      <td>0</td>\n",
       "      <td>no change</td>\n",
       "      <td>CBlock</td>\n",
       "      <td>3</td>\n",
       "    </tr>\n",
       "    <tr>\n",
       "      <th>2</th>\n",
       "      <td>1</td>\n",
       "      <td>68.0</td>\n",
       "      <td>9.328123</td>\n",
       "      <td>0</td>\n",
       "      <td>Inside</td>\n",
       "      <td>CollgCr</td>\n",
       "      <td>2</td>\n",
       "      <td>0</td>\n",
       "      <td>newer</td>\n",
       "      <td>recent</td>\n",
       "      <td>VinylSd</td>\n",
       "      <td>1</td>\n",
       "      <td>depreciated</td>\n",
       "      <td>PConc</td>\n",
       "      <td>3</td>\n",
       "    </tr>\n",
       "    <tr>\n",
       "      <th>3</th>\n",
       "      <td>2</td>\n",
       "      <td>60.0</td>\n",
       "      <td>9.164296</td>\n",
       "      <td>0</td>\n",
       "      <td>Corner</td>\n",
       "      <td>Crawfor</td>\n",
       "      <td>2</td>\n",
       "      <td>0</td>\n",
       "      <td>ancient</td>\n",
       "      <td>long ago</td>\n",
       "      <td>Wd Sdng</td>\n",
       "      <td>0</td>\n",
       "      <td>no change</td>\n",
       "      <td>Other</td>\n",
       "      <td>2</td>\n",
       "    </tr>\n",
       "    <tr>\n",
       "      <th>4</th>\n",
       "      <td>1</td>\n",
       "      <td>84.0</td>\n",
       "      <td>9.565214</td>\n",
       "      <td>0</td>\n",
       "      <td>FR</td>\n",
       "      <td>NoRidge</td>\n",
       "      <td>2</td>\n",
       "      <td>1</td>\n",
       "      <td>newer</td>\n",
       "      <td>Never</td>\n",
       "      <td>VinylSd</td>\n",
       "      <td>1</td>\n",
       "      <td>depreciated</td>\n",
       "      <td>PConc</td>\n",
       "      <td>3</td>\n",
       "    </tr>\n",
       "  </tbody>\n",
       "</table>\n",
       "</div>"
      ],
      "text/plain": [
       "   MSSubClass  LotFrontage  LogLotArea  LotShape LotConfig Neighborhood  \\\n",
       "0           1         65.0    9.041922         1    Inside      CollgCr   \n",
       "1           1         80.0    9.169518         1        FR      Veenker   \n",
       "2           1         68.0    9.328123         0    Inside      CollgCr   \n",
       "3           2         60.0    9.164296         0    Corner      Crawfor   \n",
       "4           1         84.0    9.565214         0        FR      NoRidge   \n",
       "\n",
       "   HouseStyle  OverallQual YearBuilt YearRemodAdd Exterior  MasVnr  \\\n",
       "0           2            0    modern        Never  VinylSd       1   \n",
       "1           1            0     newer        Never  MetalSd       0   \n",
       "2           2            0     newer       recent  VinylSd       1   \n",
       "3           2            0   ancient     long ago  Wd Sdng       0   \n",
       "4           2            1     newer        Never  VinylSd       1   \n",
       "\n",
       "     ExterCond Foundation  BsmtQual  \n",
       "0  depreciated      PConc         3  \n",
       "1    no change     CBlock         3  \n",
       "2  depreciated      PConc         3  \n",
       "3    no change      Other         2  \n",
       "4  depreciated      PConc         3  "
      ]
     },
     "execution_count": 104,
     "metadata": {},
     "output_type": "execute_result"
    }
   ],
   "source": [
    "new.head()"
   ]
  },
  {
   "cell_type": "markdown",
   "metadata": {},
   "source": [
    "## BsmtCond"
   ]
  },
  {
   "cell_type": "code",
   "execution_count": 105,
   "metadata": {
    "collapsed": false
   },
   "outputs": [
    {
     "data": {
      "text/plain": [
       "82"
      ]
     },
     "execution_count": 105,
     "metadata": {},
     "output_type": "execute_result"
    }
   ],
   "source": [
    "data[\"BsmtCond\"].isnull().sum()"
   ]
  },
  {
   "cell_type": "code",
   "execution_count": 106,
   "metadata": {
    "collapsed": false
   },
   "outputs": [
    {
     "data": {
      "text/plain": [
       "TA    2606\n",
       "Gd     122\n",
       "Fa     104\n",
       "Po       5\n",
       "Name: BsmtCond, dtype: int64"
      ]
     },
     "execution_count": 106,
     "metadata": {},
     "output_type": "execute_result"
    }
   ],
   "source": [
    "data[\"BsmtCond\"].value_counts()"
   ]
  },
  {
   "cell_type": "markdown",
   "metadata": {},
   "source": [
    "NA means no basement, and not missing."
   ]
  },
  {
   "cell_type": "code",
   "execution_count": 107,
   "metadata": {
    "collapsed": false
   },
   "outputs": [
    {
     "data": {
      "text/plain": [
       "2    2606\n",
       "3     122\n",
       "1     109\n",
       "0      82\n",
       "Name: BsmtCond, dtype: int64"
      ]
     },
     "execution_count": 107,
     "metadata": {},
     "output_type": "execute_result"
    }
   ],
   "source": [
    "BsmtCond = pd.Series(data[\"BsmtCond\"].fillna(\"None\").map({\"Ex\": 4, \"Gd\": 3, \"TA\": 2, \"Fa\": 1, \"Po\": 1, \"None\": 0}))\n",
    "BsmtCond.value_counts()"
   ]
  },
  {
   "cell_type": "markdown",
   "metadata": {},
   "source": [
    "Drop this variable since it lacks variability."
   ]
  },
  {
   "cell_type": "markdown",
   "metadata": {},
   "source": [
    "## BsmtExposure"
   ]
  },
  {
   "cell_type": "code",
   "execution_count": 108,
   "metadata": {
    "collapsed": false
   },
   "outputs": [
    {
     "data": {
      "text/plain": [
       "82"
      ]
     },
     "execution_count": 108,
     "metadata": {},
     "output_type": "execute_result"
    }
   ],
   "source": [
    "data[\"BsmtExposure\"].isnull().sum()"
   ]
  },
  {
   "cell_type": "markdown",
   "metadata": {},
   "source": [
    "NA means no basement, and not missing."
   ]
  },
  {
   "cell_type": "code",
   "execution_count": 109,
   "metadata": {
    "collapsed": false
   },
   "outputs": [
    {
     "data": {
      "text/plain": [
       "No    1904\n",
       "Av     418\n",
       "Gd     276\n",
       "Mn     239\n",
       "Name: BsmtExposure, dtype: int64"
      ]
     },
     "execution_count": 109,
     "metadata": {},
     "output_type": "execute_result"
    }
   ],
   "source": [
    "data[\"BsmtExposure\"].value_counts()"
   ]
  },
  {
   "cell_type": "code",
   "execution_count": 110,
   "metadata": {
    "collapsed": false
   },
   "outputs": [
    {
     "data": {
      "text/plain": [
       "0    1986\n",
       "2     418\n",
       "3     276\n",
       "1     239\n",
       "Name: BsmtExposure, dtype: int64"
      ]
     },
     "execution_count": 110,
     "metadata": {},
     "output_type": "execute_result"
    }
   ],
   "source": [
    "new[\"BsmtExposure\"] = data[\"BsmtExposure\"].fillna(\"None\").map({\"Gd\": 3, \"Av\": 2, \"Mn\": 1, \"No\": 0, \"None\": 0})\n",
    "new[\"BsmtExposure\"].value_counts()"
   ]
  },
  {
   "cell_type": "code",
   "execution_count": 111,
   "metadata": {
    "collapsed": false
   },
   "outputs": [
    {
     "data": {
      "text/html": [
       "<div>\n",
       "<table border=\"1\" class=\"dataframe\">\n",
       "  <thead>\n",
       "    <tr style=\"text-align: right;\">\n",
       "      <th></th>\n",
       "      <th>MSSubClass</th>\n",
       "      <th>LotFrontage</th>\n",
       "      <th>LogLotArea</th>\n",
       "      <th>LotShape</th>\n",
       "      <th>LotConfig</th>\n",
       "      <th>Neighborhood</th>\n",
       "      <th>HouseStyle</th>\n",
       "      <th>OverallQual</th>\n",
       "      <th>YearBuilt</th>\n",
       "      <th>YearRemodAdd</th>\n",
       "      <th>Exterior</th>\n",
       "      <th>MasVnr</th>\n",
       "      <th>ExterCond</th>\n",
       "      <th>Foundation</th>\n",
       "      <th>BsmtQual</th>\n",
       "      <th>BsmtExposure</th>\n",
       "    </tr>\n",
       "  </thead>\n",
       "  <tbody>\n",
       "    <tr>\n",
       "      <th>0</th>\n",
       "      <td>1</td>\n",
       "      <td>65.0</td>\n",
       "      <td>9.041922</td>\n",
       "      <td>1</td>\n",
       "      <td>Inside</td>\n",
       "      <td>CollgCr</td>\n",
       "      <td>2</td>\n",
       "      <td>0</td>\n",
       "      <td>modern</td>\n",
       "      <td>Never</td>\n",
       "      <td>VinylSd</td>\n",
       "      <td>1</td>\n",
       "      <td>depreciated</td>\n",
       "      <td>PConc</td>\n",
       "      <td>3</td>\n",
       "      <td>0</td>\n",
       "    </tr>\n",
       "    <tr>\n",
       "      <th>1</th>\n",
       "      <td>1</td>\n",
       "      <td>80.0</td>\n",
       "      <td>9.169518</td>\n",
       "      <td>1</td>\n",
       "      <td>FR</td>\n",
       "      <td>Veenker</td>\n",
       "      <td>1</td>\n",
       "      <td>0</td>\n",
       "      <td>newer</td>\n",
       "      <td>Never</td>\n",
       "      <td>MetalSd</td>\n",
       "      <td>0</td>\n",
       "      <td>no change</td>\n",
       "      <td>CBlock</td>\n",
       "      <td>3</td>\n",
       "      <td>3</td>\n",
       "    </tr>\n",
       "    <tr>\n",
       "      <th>2</th>\n",
       "      <td>1</td>\n",
       "      <td>68.0</td>\n",
       "      <td>9.328123</td>\n",
       "      <td>0</td>\n",
       "      <td>Inside</td>\n",
       "      <td>CollgCr</td>\n",
       "      <td>2</td>\n",
       "      <td>0</td>\n",
       "      <td>newer</td>\n",
       "      <td>recent</td>\n",
       "      <td>VinylSd</td>\n",
       "      <td>1</td>\n",
       "      <td>depreciated</td>\n",
       "      <td>PConc</td>\n",
       "      <td>3</td>\n",
       "      <td>1</td>\n",
       "    </tr>\n",
       "    <tr>\n",
       "      <th>3</th>\n",
       "      <td>2</td>\n",
       "      <td>60.0</td>\n",
       "      <td>9.164296</td>\n",
       "      <td>0</td>\n",
       "      <td>Corner</td>\n",
       "      <td>Crawfor</td>\n",
       "      <td>2</td>\n",
       "      <td>0</td>\n",
       "      <td>ancient</td>\n",
       "      <td>long ago</td>\n",
       "      <td>Wd Sdng</td>\n",
       "      <td>0</td>\n",
       "      <td>no change</td>\n",
       "      <td>Other</td>\n",
       "      <td>2</td>\n",
       "      <td>0</td>\n",
       "    </tr>\n",
       "    <tr>\n",
       "      <th>4</th>\n",
       "      <td>1</td>\n",
       "      <td>84.0</td>\n",
       "      <td>9.565214</td>\n",
       "      <td>0</td>\n",
       "      <td>FR</td>\n",
       "      <td>NoRidge</td>\n",
       "      <td>2</td>\n",
       "      <td>1</td>\n",
       "      <td>newer</td>\n",
       "      <td>Never</td>\n",
       "      <td>VinylSd</td>\n",
       "      <td>1</td>\n",
       "      <td>depreciated</td>\n",
       "      <td>PConc</td>\n",
       "      <td>3</td>\n",
       "      <td>2</td>\n",
       "    </tr>\n",
       "  </tbody>\n",
       "</table>\n",
       "</div>"
      ],
      "text/plain": [
       "   MSSubClass  LotFrontage  LogLotArea  LotShape LotConfig Neighborhood  \\\n",
       "0           1         65.0    9.041922         1    Inside      CollgCr   \n",
       "1           1         80.0    9.169518         1        FR      Veenker   \n",
       "2           1         68.0    9.328123         0    Inside      CollgCr   \n",
       "3           2         60.0    9.164296         0    Corner      Crawfor   \n",
       "4           1         84.0    9.565214         0        FR      NoRidge   \n",
       "\n",
       "   HouseStyle  OverallQual YearBuilt YearRemodAdd Exterior  MasVnr  \\\n",
       "0           2            0    modern        Never  VinylSd       1   \n",
       "1           1            0     newer        Never  MetalSd       0   \n",
       "2           2            0     newer       recent  VinylSd       1   \n",
       "3           2            0   ancient     long ago  Wd Sdng       0   \n",
       "4           2            1     newer        Never  VinylSd       1   \n",
       "\n",
       "     ExterCond Foundation  BsmtQual  BsmtExposure  \n",
       "0  depreciated      PConc         3             0  \n",
       "1    no change     CBlock         3             3  \n",
       "2  depreciated      PConc         3             1  \n",
       "3    no change      Other         2             0  \n",
       "4  depreciated      PConc         3             2  "
      ]
     },
     "execution_count": 111,
     "metadata": {},
     "output_type": "execute_result"
    }
   ],
   "source": [
    "new.head()"
   ]
  },
  {
   "cell_type": "markdown",
   "metadata": {},
   "source": [
    "## BsmtFinType1 and BsmtFinType2"
   ]
  },
  {
   "cell_type": "code",
   "execution_count": 112,
   "metadata": {
    "collapsed": false
   },
   "outputs": [
    {
     "name": "stdout",
     "output_type": "stream",
     "text": [
      "79\n",
      "80\n"
     ]
    }
   ],
   "source": [
    "print data[\"BsmtFinType1\"].isnull().sum()\n",
    "print data[\"BsmtFinType2\"].isnull().sum()"
   ]
  },
  {
   "cell_type": "markdown",
   "metadata": {},
   "source": [
    "NA means no basement, and not missing."
   ]
  },
  {
   "cell_type": "code",
   "execution_count": 113,
   "metadata": {
    "collapsed": false
   },
   "outputs": [
    {
     "data": {
      "text/plain": [
       "Unf    851\n",
       "GLQ    849\n",
       "ALQ    429\n",
       "Rec    288\n",
       "BLQ    269\n",
       "LwQ    154\n",
       "Name: BsmtFinType1, dtype: int64"
      ]
     },
     "execution_count": 113,
     "metadata": {},
     "output_type": "execute_result"
    }
   ],
   "source": [
    "data[\"BsmtFinType1\"].value_counts()"
   ]
  },
  {
   "cell_type": "code",
   "execution_count": 114,
   "metadata": {
    "collapsed": false
   },
   "outputs": [
    {
     "data": {
      "text/plain": [
       "Unf    2493\n",
       "Rec     105\n",
       "LwQ      87\n",
       "BLQ      68\n",
       "ALQ      52\n",
       "GLQ      34\n",
       "Name: BsmtFinType2, dtype: int64"
      ]
     },
     "execution_count": 114,
     "metadata": {},
     "output_type": "execute_result"
    }
   ],
   "source": [
    "data[\"BsmtFinType2\"].value_counts()"
   ]
  },
  {
   "cell_type": "code",
   "execution_count": 115,
   "metadata": {
    "collapsed": false
   },
   "outputs": [
    {
     "data": {
      "text/plain": [
       "0    930\n",
       "3    849\n",
       "2    717\n",
       "1    423\n",
       "Name: BsmtFinType1, dtype: int64"
      ]
     },
     "execution_count": 115,
     "metadata": {},
     "output_type": "execute_result"
    }
   ],
   "source": [
    "type1 = data[\"BsmtFinType1\"].fillna(\"None\").map({\"GLQ\": 3, \"ALQ\": 2, \"Rec\": 2, \"BLQ\": 1, \"LwQ\": 1, \"Unf\": 0, \"None\": 0})\n",
    "type2 = data[\"BsmtFinType2\"].fillna(\"None\").map({\"GLQ\": 3, \"ALQ\": 2, \"Rec\": 2, \"BLQ\": 1, \"LwQ\": 1, \"Unf\": 0, \"None\": 0})\n",
    "type1.value_counts()"
   ]
  },
  {
   "cell_type": "code",
   "execution_count": 116,
   "metadata": {
    "collapsed": false
   },
   "outputs": [
    {
     "data": {
      "text/plain": [
       "0    2573\n",
       "2     157\n",
       "1     155\n",
       "3      34\n",
       "Name: BsmtFinType2, dtype: int64"
      ]
     },
     "execution_count": 116,
     "metadata": {},
     "output_type": "execute_result"
    }
   ],
   "source": [
    "type2.value_counts()"
   ]
  },
  {
   "cell_type": "code",
   "execution_count": 117,
   "metadata": {
    "collapsed": false
   },
   "outputs": [
    {
     "data": {
      "text/plain": [
       "False    1899\n",
       "True     1020\n",
       "Name: BsmtFinType1, dtype: int64"
      ]
     },
     "execution_count": 117,
     "metadata": {},
     "output_type": "execute_result"
    }
   ],
   "source": [
    "np.equal(type1, type2).value_counts()  # most basements have a 2nd rating"
   ]
  },
  {
   "cell_type": "markdown",
   "metadata": {},
   "source": [
    "Most basements can be used as a living quarter, however that space is unfinished. Hence, it makes more sense here to record if the basement is unfinished and use TotalBsmtSF to provide the total basement area."
   ]
  },
  {
   "cell_type": "code",
   "execution_count": 118,
   "metadata": {
    "collapsed": false
   },
   "outputs": [
    {
     "data": {
      "text/plain": [
       "1    2573\n",
       "0     346\n",
       "Name: BsmtFinType, dtype: int64"
      ]
     },
     "execution_count": 118,
     "metadata": {},
     "output_type": "execute_result"
    }
   ],
   "source": [
    "new[\"BsmtFinType\"] = pd.Series(np.logical_or(type1 == 0.0, type2 == 0.0))\n",
    "new[\"BsmtFinType\"] = np.where(new[\"BsmtFinType\"] == True, 1, 0)\n",
    "new[\"BsmtFinType\"].value_counts()"
   ]
  },
  {
   "cell_type": "code",
   "execution_count": 119,
   "metadata": {
    "collapsed": false
   },
   "outputs": [
    {
     "data": {
      "text/html": [
       "<div>\n",
       "<table border=\"1\" class=\"dataframe\">\n",
       "  <thead>\n",
       "    <tr style=\"text-align: right;\">\n",
       "      <th></th>\n",
       "      <th>MSSubClass</th>\n",
       "      <th>LotFrontage</th>\n",
       "      <th>LogLotArea</th>\n",
       "      <th>LotShape</th>\n",
       "      <th>LotConfig</th>\n",
       "      <th>Neighborhood</th>\n",
       "      <th>HouseStyle</th>\n",
       "      <th>OverallQual</th>\n",
       "      <th>YearBuilt</th>\n",
       "      <th>YearRemodAdd</th>\n",
       "      <th>Exterior</th>\n",
       "      <th>MasVnr</th>\n",
       "      <th>ExterCond</th>\n",
       "      <th>Foundation</th>\n",
       "      <th>BsmtQual</th>\n",
       "      <th>BsmtExposure</th>\n",
       "      <th>BsmtFinType</th>\n",
       "    </tr>\n",
       "  </thead>\n",
       "  <tbody>\n",
       "    <tr>\n",
       "      <th>0</th>\n",
       "      <td>1</td>\n",
       "      <td>65.0</td>\n",
       "      <td>9.041922</td>\n",
       "      <td>1</td>\n",
       "      <td>Inside</td>\n",
       "      <td>CollgCr</td>\n",
       "      <td>2</td>\n",
       "      <td>0</td>\n",
       "      <td>modern</td>\n",
       "      <td>Never</td>\n",
       "      <td>VinylSd</td>\n",
       "      <td>1</td>\n",
       "      <td>depreciated</td>\n",
       "      <td>PConc</td>\n",
       "      <td>3</td>\n",
       "      <td>0</td>\n",
       "      <td>1</td>\n",
       "    </tr>\n",
       "    <tr>\n",
       "      <th>1</th>\n",
       "      <td>1</td>\n",
       "      <td>80.0</td>\n",
       "      <td>9.169518</td>\n",
       "      <td>1</td>\n",
       "      <td>FR</td>\n",
       "      <td>Veenker</td>\n",
       "      <td>1</td>\n",
       "      <td>0</td>\n",
       "      <td>newer</td>\n",
       "      <td>Never</td>\n",
       "      <td>MetalSd</td>\n",
       "      <td>0</td>\n",
       "      <td>no change</td>\n",
       "      <td>CBlock</td>\n",
       "      <td>3</td>\n",
       "      <td>3</td>\n",
       "      <td>1</td>\n",
       "    </tr>\n",
       "    <tr>\n",
       "      <th>2</th>\n",
       "      <td>1</td>\n",
       "      <td>68.0</td>\n",
       "      <td>9.328123</td>\n",
       "      <td>0</td>\n",
       "      <td>Inside</td>\n",
       "      <td>CollgCr</td>\n",
       "      <td>2</td>\n",
       "      <td>0</td>\n",
       "      <td>newer</td>\n",
       "      <td>recent</td>\n",
       "      <td>VinylSd</td>\n",
       "      <td>1</td>\n",
       "      <td>depreciated</td>\n",
       "      <td>PConc</td>\n",
       "      <td>3</td>\n",
       "      <td>1</td>\n",
       "      <td>1</td>\n",
       "    </tr>\n",
       "    <tr>\n",
       "      <th>3</th>\n",
       "      <td>2</td>\n",
       "      <td>60.0</td>\n",
       "      <td>9.164296</td>\n",
       "      <td>0</td>\n",
       "      <td>Corner</td>\n",
       "      <td>Crawfor</td>\n",
       "      <td>2</td>\n",
       "      <td>0</td>\n",
       "      <td>ancient</td>\n",
       "      <td>long ago</td>\n",
       "      <td>Wd Sdng</td>\n",
       "      <td>0</td>\n",
       "      <td>no change</td>\n",
       "      <td>Other</td>\n",
       "      <td>2</td>\n",
       "      <td>0</td>\n",
       "      <td>1</td>\n",
       "    </tr>\n",
       "    <tr>\n",
       "      <th>4</th>\n",
       "      <td>1</td>\n",
       "      <td>84.0</td>\n",
       "      <td>9.565214</td>\n",
       "      <td>0</td>\n",
       "      <td>FR</td>\n",
       "      <td>NoRidge</td>\n",
       "      <td>2</td>\n",
       "      <td>1</td>\n",
       "      <td>newer</td>\n",
       "      <td>Never</td>\n",
       "      <td>VinylSd</td>\n",
       "      <td>1</td>\n",
       "      <td>depreciated</td>\n",
       "      <td>PConc</td>\n",
       "      <td>3</td>\n",
       "      <td>2</td>\n",
       "      <td>1</td>\n",
       "    </tr>\n",
       "  </tbody>\n",
       "</table>\n",
       "</div>"
      ],
      "text/plain": [
       "   MSSubClass  LotFrontage  LogLotArea  LotShape LotConfig Neighborhood  \\\n",
       "0           1         65.0    9.041922         1    Inside      CollgCr   \n",
       "1           1         80.0    9.169518         1        FR      Veenker   \n",
       "2           1         68.0    9.328123         0    Inside      CollgCr   \n",
       "3           2         60.0    9.164296         0    Corner      Crawfor   \n",
       "4           1         84.0    9.565214         0        FR      NoRidge   \n",
       "\n",
       "   HouseStyle  OverallQual YearBuilt YearRemodAdd Exterior  MasVnr  \\\n",
       "0           2            0    modern        Never  VinylSd       1   \n",
       "1           1            0     newer        Never  MetalSd       0   \n",
       "2           2            0     newer       recent  VinylSd       1   \n",
       "3           2            0   ancient     long ago  Wd Sdng       0   \n",
       "4           2            1     newer        Never  VinylSd       1   \n",
       "\n",
       "     ExterCond Foundation  BsmtQual  BsmtExposure  BsmtFinType  \n",
       "0  depreciated      PConc         3             0            1  \n",
       "1    no change     CBlock         3             3            1  \n",
       "2  depreciated      PConc         3             1            1  \n",
       "3    no change      Other         2             0            1  \n",
       "4  depreciated      PConc         3             2            1  "
      ]
     },
     "execution_count": 119,
     "metadata": {},
     "output_type": "execute_result"
    }
   ],
   "source": [
    "new.head()"
   ]
  },
  {
   "cell_type": "markdown",
   "metadata": {},
   "source": [
    "## BsmtFinSF1, BsmtFinSF2, BsmtUnfSF"
   ]
  },
  {
   "cell_type": "code",
   "execution_count": 120,
   "metadata": {
    "collapsed": false
   },
   "outputs": [
    {
     "data": {
      "text/plain": [
       "count    2918.000000\n",
       "mean      441.423235\n",
       "std       455.610826\n",
       "min         0.000000\n",
       "25%         0.000000\n",
       "50%       368.500000\n",
       "75%       733.000000\n",
       "max      5644.000000\n",
       "Name: BsmtFinSF1, dtype: float64"
      ]
     },
     "execution_count": 120,
     "metadata": {},
     "output_type": "execute_result"
    }
   ],
   "source": [
    "data[\"BsmtFinSF1\"].describe()"
   ]
  },
  {
   "cell_type": "code",
   "execution_count": 121,
   "metadata": {
    "collapsed": false
   },
   "outputs": [
    {
     "data": {
      "text/plain": [
       "count    2918.000000\n",
       "mean       49.582248\n",
       "std       169.205611\n",
       "min         0.000000\n",
       "25%         0.000000\n",
       "50%         0.000000\n",
       "75%         0.000000\n",
       "max      1526.000000\n",
       "Name: BsmtFinSF2, dtype: float64"
      ]
     },
     "execution_count": 121,
     "metadata": {},
     "output_type": "execute_result"
    }
   ],
   "source": [
    "data[\"BsmtFinSF2\"].describe()"
   ]
  },
  {
   "cell_type": "code",
   "execution_count": 122,
   "metadata": {
    "collapsed": false
   },
   "outputs": [
    {
     "name": "stdout",
     "output_type": "stream",
     "text": [
      "929\n",
      "2571\n"
     ]
    }
   ],
   "source": [
    "print (data[\"BsmtFinSF1\"] == 0).sum()\n",
    "print (data[\"BsmtFinSF2\"] == 0).sum()"
   ]
  },
  {
   "cell_type": "markdown",
   "metadata": {},
   "source": [
    "Since most basements are unfinished, there are just as many zeroes as in type1 and type2."
   ]
  },
  {
   "cell_type": "code",
   "execution_count": 123,
   "metadata": {
    "collapsed": false
   },
   "outputs": [
    {
     "data": {
      "text/plain": [
       "2571"
      ]
     },
     "execution_count": 123,
     "metadata": {},
     "output_type": "execute_result"
    }
   ],
   "source": [
    "BsmtFinSF = np.logical_or(data[\"BsmtFinSF1\"] == 0, data[\"BsmtFinSF2\"] == 0)\n",
    "(BsmtFinSF == True).sum()"
   ]
  },
  {
   "cell_type": "markdown",
   "metadata": {},
   "source": [
    "Drop this variable since it is redundant with BsmtFinType."
   ]
  },
  {
   "cell_type": "code",
   "execution_count": 124,
   "metadata": {
    "collapsed": false
   },
   "outputs": [
    {
     "data": {
      "text/plain": [
       "count    2918.000000\n",
       "mean      560.772104\n",
       "std       439.543659\n",
       "min         0.000000\n",
       "25%       220.000000\n",
       "50%       467.000000\n",
       "75%       805.500000\n",
       "max      2336.000000\n",
       "Name: BsmtUnfSF, dtype: float64"
      ]
     },
     "execution_count": 124,
     "metadata": {},
     "output_type": "execute_result"
    }
   ],
   "source": [
    "data[\"BsmtUnfSF\"].describe()"
   ]
  },
  {
   "cell_type": "code",
   "execution_count": 125,
   "metadata": {
    "collapsed": false
   },
   "outputs": [
    {
     "data": {
      "text/plain": [
       "2678"
      ]
     },
     "execution_count": 125,
     "metadata": {},
     "output_type": "execute_result"
    }
   ],
   "source": [
    "(data[\"BsmtUnfSF\"] != 0).sum()"
   ]
  },
  {
   "cell_type": "markdown",
   "metadata": {},
   "source": [
    "There are many nonzero values since most basements are unfinished. Drop this variable since it is redundant with BsmtFinType."
   ]
  },
  {
   "cell_type": "markdown",
   "metadata": {},
   "source": [
    "## TotalBsmtSF"
   ]
  },
  {
   "cell_type": "code",
   "execution_count": 126,
   "metadata": {
    "collapsed": false
   },
   "outputs": [
    {
     "data": {
      "text/plain": [
       "count    2918.000000\n",
       "mean     1051.777587\n",
       "std       440.766258\n",
       "min         0.000000\n",
       "25%       793.000000\n",
       "50%       989.500000\n",
       "75%      1302.000000\n",
       "max      6110.000000\n",
       "Name: TotalBsmtSF, dtype: float64"
      ]
     },
     "execution_count": 126,
     "metadata": {},
     "output_type": "execute_result"
    }
   ],
   "source": [
    "data[\"TotalBsmtSF\"].describe()"
   ]
  },
  {
   "cell_type": "code",
   "execution_count": 127,
   "metadata": {
    "collapsed": false
   },
   "outputs": [
    {
     "data": {
      "text/plain": [
       "count    2919.000000\n",
       "mean        6.730833\n",
       "std         1.182460\n",
       "min         0.000000\n",
       "25%         6.677083\n",
       "50%         6.897705\n",
       "75%         7.172425\n",
       "max         8.717846\n",
       "Name: LogTotalBsmtSF, dtype: float64"
      ]
     },
     "execution_count": 127,
     "metadata": {},
     "output_type": "execute_result"
    }
   ],
   "source": [
    "data[\"TotalBsmtSF\"] = data[\"TotalBsmtSF\"].fillna(0)\n",
    "new[\"LogTotalBsmtSF\"] = np.log(data[\"TotalBsmtSF\"] + 1)\n",
    "new[\"LogTotalBsmtSF\"].describe()"
   ]
  },
  {
   "cell_type": "code",
   "execution_count": 128,
   "metadata": {
    "collapsed": false
   },
   "outputs": [
    {
     "data": {
      "text/html": [
       "<div>\n",
       "<table border=\"1\" class=\"dataframe\">\n",
       "  <thead>\n",
       "    <tr style=\"text-align: right;\">\n",
       "      <th></th>\n",
       "      <th>MSSubClass</th>\n",
       "      <th>LotFrontage</th>\n",
       "      <th>LogLotArea</th>\n",
       "      <th>LotShape</th>\n",
       "      <th>LotConfig</th>\n",
       "      <th>Neighborhood</th>\n",
       "      <th>HouseStyle</th>\n",
       "      <th>OverallQual</th>\n",
       "      <th>YearBuilt</th>\n",
       "      <th>YearRemodAdd</th>\n",
       "      <th>Exterior</th>\n",
       "      <th>MasVnr</th>\n",
       "      <th>ExterCond</th>\n",
       "      <th>Foundation</th>\n",
       "      <th>BsmtQual</th>\n",
       "      <th>BsmtExposure</th>\n",
       "      <th>BsmtFinType</th>\n",
       "      <th>LogTotalBsmtSF</th>\n",
       "    </tr>\n",
       "  </thead>\n",
       "  <tbody>\n",
       "    <tr>\n",
       "      <th>0</th>\n",
       "      <td>1</td>\n",
       "      <td>65.0</td>\n",
       "      <td>9.041922</td>\n",
       "      <td>1</td>\n",
       "      <td>Inside</td>\n",
       "      <td>CollgCr</td>\n",
       "      <td>2</td>\n",
       "      <td>0</td>\n",
       "      <td>modern</td>\n",
       "      <td>Never</td>\n",
       "      <td>VinylSd</td>\n",
       "      <td>1</td>\n",
       "      <td>depreciated</td>\n",
       "      <td>PConc</td>\n",
       "      <td>3</td>\n",
       "      <td>0</td>\n",
       "      <td>1</td>\n",
       "      <td>6.753438</td>\n",
       "    </tr>\n",
       "    <tr>\n",
       "      <th>1</th>\n",
       "      <td>1</td>\n",
       "      <td>80.0</td>\n",
       "      <td>9.169518</td>\n",
       "      <td>1</td>\n",
       "      <td>FR</td>\n",
       "      <td>Veenker</td>\n",
       "      <td>1</td>\n",
       "      <td>0</td>\n",
       "      <td>newer</td>\n",
       "      <td>Never</td>\n",
       "      <td>MetalSd</td>\n",
       "      <td>0</td>\n",
       "      <td>no change</td>\n",
       "      <td>CBlock</td>\n",
       "      <td>3</td>\n",
       "      <td>3</td>\n",
       "      <td>1</td>\n",
       "      <td>7.141245</td>\n",
       "    </tr>\n",
       "    <tr>\n",
       "      <th>2</th>\n",
       "      <td>1</td>\n",
       "      <td>68.0</td>\n",
       "      <td>9.328123</td>\n",
       "      <td>0</td>\n",
       "      <td>Inside</td>\n",
       "      <td>CollgCr</td>\n",
       "      <td>2</td>\n",
       "      <td>0</td>\n",
       "      <td>newer</td>\n",
       "      <td>recent</td>\n",
       "      <td>VinylSd</td>\n",
       "      <td>1</td>\n",
       "      <td>depreciated</td>\n",
       "      <td>PConc</td>\n",
       "      <td>3</td>\n",
       "      <td>1</td>\n",
       "      <td>1</td>\n",
       "      <td>6.825460</td>\n",
       "    </tr>\n",
       "    <tr>\n",
       "      <th>3</th>\n",
       "      <td>2</td>\n",
       "      <td>60.0</td>\n",
       "      <td>9.164296</td>\n",
       "      <td>0</td>\n",
       "      <td>Corner</td>\n",
       "      <td>Crawfor</td>\n",
       "      <td>2</td>\n",
       "      <td>0</td>\n",
       "      <td>ancient</td>\n",
       "      <td>long ago</td>\n",
       "      <td>Wd Sdng</td>\n",
       "      <td>0</td>\n",
       "      <td>no change</td>\n",
       "      <td>Other</td>\n",
       "      <td>2</td>\n",
       "      <td>0</td>\n",
       "      <td>1</td>\n",
       "      <td>6.629363</td>\n",
       "    </tr>\n",
       "    <tr>\n",
       "      <th>4</th>\n",
       "      <td>1</td>\n",
       "      <td>84.0</td>\n",
       "      <td>9.565214</td>\n",
       "      <td>0</td>\n",
       "      <td>FR</td>\n",
       "      <td>NoRidge</td>\n",
       "      <td>2</td>\n",
       "      <td>1</td>\n",
       "      <td>newer</td>\n",
       "      <td>Never</td>\n",
       "      <td>VinylSd</td>\n",
       "      <td>1</td>\n",
       "      <td>depreciated</td>\n",
       "      <td>PConc</td>\n",
       "      <td>3</td>\n",
       "      <td>2</td>\n",
       "      <td>1</td>\n",
       "      <td>7.044033</td>\n",
       "    </tr>\n",
       "  </tbody>\n",
       "</table>\n",
       "</div>"
      ],
      "text/plain": [
       "   MSSubClass  LotFrontage  LogLotArea  LotShape LotConfig Neighborhood  \\\n",
       "0           1         65.0    9.041922         1    Inside      CollgCr   \n",
       "1           1         80.0    9.169518         1        FR      Veenker   \n",
       "2           1         68.0    9.328123         0    Inside      CollgCr   \n",
       "3           2         60.0    9.164296         0    Corner      Crawfor   \n",
       "4           1         84.0    9.565214         0        FR      NoRidge   \n",
       "\n",
       "   HouseStyle  OverallQual YearBuilt YearRemodAdd Exterior  MasVnr  \\\n",
       "0           2            0    modern        Never  VinylSd       1   \n",
       "1           1            0     newer        Never  MetalSd       0   \n",
       "2           2            0     newer       recent  VinylSd       1   \n",
       "3           2            0   ancient     long ago  Wd Sdng       0   \n",
       "4           2            1     newer        Never  VinylSd       1   \n",
       "\n",
       "     ExterCond Foundation  BsmtQual  BsmtExposure  BsmtFinType  LogTotalBsmtSF  \n",
       "0  depreciated      PConc         3             0            1        6.753438  \n",
       "1    no change     CBlock         3             3            1        7.141245  \n",
       "2  depreciated      PConc         3             1            1        6.825460  \n",
       "3    no change      Other         2             0            1        6.629363  \n",
       "4  depreciated      PConc         3             2            1        7.044033  "
      ]
     },
     "execution_count": 128,
     "metadata": {},
     "output_type": "execute_result"
    }
   ],
   "source": [
    "new.head()"
   ]
  },
  {
   "cell_type": "markdown",
   "metadata": {},
   "source": [
    "## Heating"
   ]
  },
  {
   "cell_type": "code",
   "execution_count": 129,
   "metadata": {
    "collapsed": false
   },
   "outputs": [
    {
     "data": {
      "text/plain": [
       "GasA     2874\n",
       "GasW       27\n",
       "Grav        9\n",
       "Wall        6\n",
       "OthW        2\n",
       "Floor       1\n",
       "Name: Heating, dtype: int64"
      ]
     },
     "execution_count": 129,
     "metadata": {},
     "output_type": "execute_result"
    }
   ],
   "source": [
    "data[\"Heating\"].value_counts()"
   ]
  },
  {
   "cell_type": "markdown",
   "metadata": {},
   "source": [
    "Has gas air furnace?: Y (1) or No (0)."
   ]
  },
  {
   "cell_type": "code",
   "execution_count": 130,
   "metadata": {
    "collapsed": false,
    "scrolled": true
   },
   "outputs": [
    {
     "data": {
      "text/plain": [
       "1    2874\n",
       "0      45\n",
       "dtype: int64"
      ]
     },
     "execution_count": 130,
     "metadata": {},
     "output_type": "execute_result"
    }
   ],
   "source": [
    "Heating = pd.Series(np.where(data[\"Heating\"] == \"GasA\", 1, 0))\n",
    "Heating.value_counts()"
   ]
  },
  {
   "cell_type": "markdown",
   "metadata": {},
   "source": [
    "Drop this variable since it lacks variability."
   ]
  },
  {
   "cell_type": "markdown",
   "metadata": {},
   "source": [
    "## HeatingQC"
   ]
  },
  {
   "cell_type": "code",
   "execution_count": 131,
   "metadata": {
    "collapsed": false
   },
   "outputs": [
    {
     "data": {
      "text/plain": [
       "0"
      ]
     },
     "execution_count": 131,
     "metadata": {},
     "output_type": "execute_result"
    }
   ],
   "source": [
    "data[\"HeatingQC\"].isnull().sum()"
   ]
  },
  {
   "cell_type": "code",
   "execution_count": 132,
   "metadata": {
    "collapsed": false
   },
   "outputs": [
    {
     "data": {
      "text/plain": [
       "Ex    1493\n",
       "TA     857\n",
       "Gd     474\n",
       "Fa      92\n",
       "Po       3\n",
       "Name: HeatingQC, dtype: int64"
      ]
     },
     "execution_count": 132,
     "metadata": {},
     "output_type": "execute_result"
    }
   ],
   "source": [
    "data[\"HeatingQC\"].value_counts()"
   ]
  },
  {
   "cell_type": "code",
   "execution_count": 133,
   "metadata": {
    "collapsed": false
   },
   "outputs": [
    {
     "data": {
      "text/plain": [
       "4    1493\n",
       "2     857\n",
       "3     474\n",
       "1      95\n",
       "Name: HeatingQC, dtype: int64"
      ]
     },
     "execution_count": 133,
     "metadata": {},
     "output_type": "execute_result"
    }
   ],
   "source": [
    "new[\"HeatingQC\"] = data[\"HeatingQC\"].map({\"Ex\": 4, \"Gd\": 3, \"TA\": 2, \"Fa\": 1, \"Po\": 1})\n",
    "new[\"HeatingQC\"].value_counts()"
   ]
  },
  {
   "cell_type": "code",
   "execution_count": 134,
   "metadata": {
    "collapsed": false
   },
   "outputs": [
    {
     "data": {
      "text/html": [
       "<div>\n",
       "<table border=\"1\" class=\"dataframe\">\n",
       "  <thead>\n",
       "    <tr style=\"text-align: right;\">\n",
       "      <th></th>\n",
       "      <th>MSSubClass</th>\n",
       "      <th>LotFrontage</th>\n",
       "      <th>LogLotArea</th>\n",
       "      <th>LotShape</th>\n",
       "      <th>LotConfig</th>\n",
       "      <th>Neighborhood</th>\n",
       "      <th>HouseStyle</th>\n",
       "      <th>OverallQual</th>\n",
       "      <th>YearBuilt</th>\n",
       "      <th>YearRemodAdd</th>\n",
       "      <th>Exterior</th>\n",
       "      <th>MasVnr</th>\n",
       "      <th>ExterCond</th>\n",
       "      <th>Foundation</th>\n",
       "      <th>BsmtQual</th>\n",
       "      <th>BsmtExposure</th>\n",
       "      <th>BsmtFinType</th>\n",
       "      <th>LogTotalBsmtSF</th>\n",
       "      <th>HeatingQC</th>\n",
       "    </tr>\n",
       "  </thead>\n",
       "  <tbody>\n",
       "    <tr>\n",
       "      <th>0</th>\n",
       "      <td>1</td>\n",
       "      <td>65.0</td>\n",
       "      <td>9.041922</td>\n",
       "      <td>1</td>\n",
       "      <td>Inside</td>\n",
       "      <td>CollgCr</td>\n",
       "      <td>2</td>\n",
       "      <td>0</td>\n",
       "      <td>modern</td>\n",
       "      <td>Never</td>\n",
       "      <td>VinylSd</td>\n",
       "      <td>1</td>\n",
       "      <td>depreciated</td>\n",
       "      <td>PConc</td>\n",
       "      <td>3</td>\n",
       "      <td>0</td>\n",
       "      <td>1</td>\n",
       "      <td>6.753438</td>\n",
       "      <td>4</td>\n",
       "    </tr>\n",
       "    <tr>\n",
       "      <th>1</th>\n",
       "      <td>1</td>\n",
       "      <td>80.0</td>\n",
       "      <td>9.169518</td>\n",
       "      <td>1</td>\n",
       "      <td>FR</td>\n",
       "      <td>Veenker</td>\n",
       "      <td>1</td>\n",
       "      <td>0</td>\n",
       "      <td>newer</td>\n",
       "      <td>Never</td>\n",
       "      <td>MetalSd</td>\n",
       "      <td>0</td>\n",
       "      <td>no change</td>\n",
       "      <td>CBlock</td>\n",
       "      <td>3</td>\n",
       "      <td>3</td>\n",
       "      <td>1</td>\n",
       "      <td>7.141245</td>\n",
       "      <td>4</td>\n",
       "    </tr>\n",
       "    <tr>\n",
       "      <th>2</th>\n",
       "      <td>1</td>\n",
       "      <td>68.0</td>\n",
       "      <td>9.328123</td>\n",
       "      <td>0</td>\n",
       "      <td>Inside</td>\n",
       "      <td>CollgCr</td>\n",
       "      <td>2</td>\n",
       "      <td>0</td>\n",
       "      <td>newer</td>\n",
       "      <td>recent</td>\n",
       "      <td>VinylSd</td>\n",
       "      <td>1</td>\n",
       "      <td>depreciated</td>\n",
       "      <td>PConc</td>\n",
       "      <td>3</td>\n",
       "      <td>1</td>\n",
       "      <td>1</td>\n",
       "      <td>6.825460</td>\n",
       "      <td>4</td>\n",
       "    </tr>\n",
       "    <tr>\n",
       "      <th>3</th>\n",
       "      <td>2</td>\n",
       "      <td>60.0</td>\n",
       "      <td>9.164296</td>\n",
       "      <td>0</td>\n",
       "      <td>Corner</td>\n",
       "      <td>Crawfor</td>\n",
       "      <td>2</td>\n",
       "      <td>0</td>\n",
       "      <td>ancient</td>\n",
       "      <td>long ago</td>\n",
       "      <td>Wd Sdng</td>\n",
       "      <td>0</td>\n",
       "      <td>no change</td>\n",
       "      <td>Other</td>\n",
       "      <td>2</td>\n",
       "      <td>0</td>\n",
       "      <td>1</td>\n",
       "      <td>6.629363</td>\n",
       "      <td>3</td>\n",
       "    </tr>\n",
       "    <tr>\n",
       "      <th>4</th>\n",
       "      <td>1</td>\n",
       "      <td>84.0</td>\n",
       "      <td>9.565214</td>\n",
       "      <td>0</td>\n",
       "      <td>FR</td>\n",
       "      <td>NoRidge</td>\n",
       "      <td>2</td>\n",
       "      <td>1</td>\n",
       "      <td>newer</td>\n",
       "      <td>Never</td>\n",
       "      <td>VinylSd</td>\n",
       "      <td>1</td>\n",
       "      <td>depreciated</td>\n",
       "      <td>PConc</td>\n",
       "      <td>3</td>\n",
       "      <td>2</td>\n",
       "      <td>1</td>\n",
       "      <td>7.044033</td>\n",
       "      <td>4</td>\n",
       "    </tr>\n",
       "  </tbody>\n",
       "</table>\n",
       "</div>"
      ],
      "text/plain": [
       "   MSSubClass  LotFrontage  LogLotArea  LotShape LotConfig Neighborhood  \\\n",
       "0           1         65.0    9.041922         1    Inside      CollgCr   \n",
       "1           1         80.0    9.169518         1        FR      Veenker   \n",
       "2           1         68.0    9.328123         0    Inside      CollgCr   \n",
       "3           2         60.0    9.164296         0    Corner      Crawfor   \n",
       "4           1         84.0    9.565214         0        FR      NoRidge   \n",
       "\n",
       "   HouseStyle  OverallQual YearBuilt YearRemodAdd Exterior  MasVnr  \\\n",
       "0           2            0    modern        Never  VinylSd       1   \n",
       "1           1            0     newer        Never  MetalSd       0   \n",
       "2           2            0     newer       recent  VinylSd       1   \n",
       "3           2            0   ancient     long ago  Wd Sdng       0   \n",
       "4           2            1     newer        Never  VinylSd       1   \n",
       "\n",
       "     ExterCond Foundation  BsmtQual  BsmtExposure  BsmtFinType  \\\n",
       "0  depreciated      PConc         3             0            1   \n",
       "1    no change     CBlock         3             3            1   \n",
       "2  depreciated      PConc         3             1            1   \n",
       "3    no change      Other         2             0            1   \n",
       "4  depreciated      PConc         3             2            1   \n",
       "\n",
       "   LogTotalBsmtSF  HeatingQC  \n",
       "0        6.753438          4  \n",
       "1        7.141245          4  \n",
       "2        6.825460          4  \n",
       "3        6.629363          3  \n",
       "4        7.044033          4  "
      ]
     },
     "execution_count": 134,
     "metadata": {},
     "output_type": "execute_result"
    }
   ],
   "source": [
    "new.head()"
   ]
  },
  {
   "cell_type": "markdown",
   "metadata": {},
   "source": [
    "## CentralAir"
   ]
  },
  {
   "cell_type": "code",
   "execution_count": 135,
   "metadata": {
    "collapsed": false
   },
   "outputs": [
    {
     "data": {
      "text/plain": [
       "0"
      ]
     },
     "execution_count": 135,
     "metadata": {},
     "output_type": "execute_result"
    }
   ],
   "source": [
    "data[\"CentralAir\"].isnull().sum()"
   ]
  },
  {
   "cell_type": "code",
   "execution_count": 136,
   "metadata": {
    "collapsed": false
   },
   "outputs": [
    {
     "data": {
      "text/plain": [
       "Y    2723\n",
       "N     196\n",
       "Name: CentralAir, dtype: int64"
      ]
     },
     "execution_count": 136,
     "metadata": {},
     "output_type": "execute_result"
    }
   ],
   "source": [
    "data[\"CentralAir\"].value_counts()"
   ]
  },
  {
   "cell_type": "markdown",
   "metadata": {
    "collapsed": true
   },
   "source": [
    "Drop this variable since it lacks variability."
   ]
  },
  {
   "cell_type": "markdown",
   "metadata": {},
   "source": [
    "## Electrical"
   ]
  },
  {
   "cell_type": "code",
   "execution_count": 137,
   "metadata": {
    "collapsed": false
   },
   "outputs": [
    {
     "data": {
      "text/plain": [
       "1"
      ]
     },
     "execution_count": 137,
     "metadata": {},
     "output_type": "execute_result"
    }
   ],
   "source": [
    "data[\"Electrical\"].isnull().sum()"
   ]
  },
  {
   "cell_type": "code",
   "execution_count": 138,
   "metadata": {
    "collapsed": false
   },
   "outputs": [
    {
     "data": {
      "text/plain": [
       "SBrkr    2671\n",
       "FuseA     188\n",
       "FuseF      50\n",
       "FuseP       8\n",
       "Mix         1\n",
       "Name: Electrical, dtype: int64"
      ]
     },
     "execution_count": 138,
     "metadata": {},
     "output_type": "execute_result"
    }
   ],
   "source": [
    "data[\"Electrical\"].value_counts()"
   ]
  },
  {
   "cell_type": "markdown",
   "metadata": {},
   "source": [
    "Standard breaker?: Y (1) or No (0)"
   ]
  },
  {
   "cell_type": "code",
   "execution_count": 139,
   "metadata": {
    "collapsed": false
   },
   "outputs": [
    {
     "data": {
      "text/plain": [
       "1    2671\n",
       "0     248\n",
       "dtype: int64"
      ]
     },
     "execution_count": 139,
     "metadata": {},
     "output_type": "execute_result"
    }
   ],
   "source": [
    "Electrical = pd.Series(np.where(data[\"Electrical\"] == \"SBrkr\", 1, 0))\n",
    "Electrical.value_counts()"
   ]
  },
  {
   "cell_type": "markdown",
   "metadata": {
    "collapsed": true
   },
   "source": [
    "Drop this variable since it lacks variability."
   ]
  },
  {
   "cell_type": "markdown",
   "metadata": {},
   "source": [
    "## 1stFlrSF"
   ]
  },
  {
   "cell_type": "code",
   "execution_count": 140,
   "metadata": {
    "collapsed": false
   },
   "outputs": [
    {
     "data": {
      "text/plain": [
       "count    2919.000000\n",
       "mean     1159.581706\n",
       "std       392.362079\n",
       "min       334.000000\n",
       "25%       876.000000\n",
       "50%      1082.000000\n",
       "75%      1387.500000\n",
       "max      5095.000000\n",
       "Name: 1stFlrSF, dtype: float64"
      ]
     },
     "execution_count": 140,
     "metadata": {},
     "output_type": "execute_result"
    }
   ],
   "source": [
    "data[\"1stFlrSF\"].describe()"
   ]
  },
  {
   "cell_type": "code",
   "execution_count": 141,
   "metadata": {
    "collapsed": false
   },
   "outputs": [
    {
     "data": {
      "text/plain": [
       "count    2919.000000\n",
       "mean        7.003229\n",
       "std         0.322956\n",
       "min         5.811141\n",
       "25%         6.775366\n",
       "50%         6.986566\n",
       "75%         7.235259\n",
       "max         8.536015\n",
       "Name: Log1stFlrSF, dtype: float64"
      ]
     },
     "execution_count": 141,
     "metadata": {},
     "output_type": "execute_result"
    }
   ],
   "source": [
    "new[\"Log1stFlrSF\"] = np.log(data[\"1stFlrSF\"])\n",
    "new[\"Log1stFlrSF\"].describe()"
   ]
  },
  {
   "cell_type": "code",
   "execution_count": 142,
   "metadata": {
    "collapsed": false
   },
   "outputs": [
    {
     "data": {
      "text/html": [
       "<div>\n",
       "<table border=\"1\" class=\"dataframe\">\n",
       "  <thead>\n",
       "    <tr style=\"text-align: right;\">\n",
       "      <th></th>\n",
       "      <th>MSSubClass</th>\n",
       "      <th>LotFrontage</th>\n",
       "      <th>LogLotArea</th>\n",
       "      <th>LotShape</th>\n",
       "      <th>LotConfig</th>\n",
       "      <th>Neighborhood</th>\n",
       "      <th>HouseStyle</th>\n",
       "      <th>OverallQual</th>\n",
       "      <th>YearBuilt</th>\n",
       "      <th>YearRemodAdd</th>\n",
       "      <th>Exterior</th>\n",
       "      <th>MasVnr</th>\n",
       "      <th>ExterCond</th>\n",
       "      <th>Foundation</th>\n",
       "      <th>BsmtQual</th>\n",
       "      <th>BsmtExposure</th>\n",
       "      <th>BsmtFinType</th>\n",
       "      <th>LogTotalBsmtSF</th>\n",
       "      <th>HeatingQC</th>\n",
       "      <th>Log1stFlrSF</th>\n",
       "    </tr>\n",
       "  </thead>\n",
       "  <tbody>\n",
       "    <tr>\n",
       "      <th>0</th>\n",
       "      <td>1</td>\n",
       "      <td>65.0</td>\n",
       "      <td>9.041922</td>\n",
       "      <td>1</td>\n",
       "      <td>Inside</td>\n",
       "      <td>CollgCr</td>\n",
       "      <td>2</td>\n",
       "      <td>0</td>\n",
       "      <td>modern</td>\n",
       "      <td>Never</td>\n",
       "      <td>VinylSd</td>\n",
       "      <td>1</td>\n",
       "      <td>depreciated</td>\n",
       "      <td>PConc</td>\n",
       "      <td>3</td>\n",
       "      <td>0</td>\n",
       "      <td>1</td>\n",
       "      <td>6.753438</td>\n",
       "      <td>4</td>\n",
       "      <td>6.752270</td>\n",
       "    </tr>\n",
       "    <tr>\n",
       "      <th>1</th>\n",
       "      <td>1</td>\n",
       "      <td>80.0</td>\n",
       "      <td>9.169518</td>\n",
       "      <td>1</td>\n",
       "      <td>FR</td>\n",
       "      <td>Veenker</td>\n",
       "      <td>1</td>\n",
       "      <td>0</td>\n",
       "      <td>newer</td>\n",
       "      <td>Never</td>\n",
       "      <td>MetalSd</td>\n",
       "      <td>0</td>\n",
       "      <td>no change</td>\n",
       "      <td>CBlock</td>\n",
       "      <td>3</td>\n",
       "      <td>3</td>\n",
       "      <td>1</td>\n",
       "      <td>7.141245</td>\n",
       "      <td>4</td>\n",
       "      <td>7.140453</td>\n",
       "    </tr>\n",
       "    <tr>\n",
       "      <th>2</th>\n",
       "      <td>1</td>\n",
       "      <td>68.0</td>\n",
       "      <td>9.328123</td>\n",
       "      <td>0</td>\n",
       "      <td>Inside</td>\n",
       "      <td>CollgCr</td>\n",
       "      <td>2</td>\n",
       "      <td>0</td>\n",
       "      <td>newer</td>\n",
       "      <td>recent</td>\n",
       "      <td>VinylSd</td>\n",
       "      <td>1</td>\n",
       "      <td>depreciated</td>\n",
       "      <td>PConc</td>\n",
       "      <td>3</td>\n",
       "      <td>1</td>\n",
       "      <td>1</td>\n",
       "      <td>6.825460</td>\n",
       "      <td>4</td>\n",
       "      <td>6.824374</td>\n",
       "    </tr>\n",
       "    <tr>\n",
       "      <th>3</th>\n",
       "      <td>2</td>\n",
       "      <td>60.0</td>\n",
       "      <td>9.164296</td>\n",
       "      <td>0</td>\n",
       "      <td>Corner</td>\n",
       "      <td>Crawfor</td>\n",
       "      <td>2</td>\n",
       "      <td>0</td>\n",
       "      <td>ancient</td>\n",
       "      <td>long ago</td>\n",
       "      <td>Wd Sdng</td>\n",
       "      <td>0</td>\n",
       "      <td>no change</td>\n",
       "      <td>Other</td>\n",
       "      <td>2</td>\n",
       "      <td>0</td>\n",
       "      <td>1</td>\n",
       "      <td>6.629363</td>\n",
       "      <td>3</td>\n",
       "      <td>6.867974</td>\n",
       "    </tr>\n",
       "    <tr>\n",
       "      <th>4</th>\n",
       "      <td>1</td>\n",
       "      <td>84.0</td>\n",
       "      <td>9.565214</td>\n",
       "      <td>0</td>\n",
       "      <td>FR</td>\n",
       "      <td>NoRidge</td>\n",
       "      <td>2</td>\n",
       "      <td>1</td>\n",
       "      <td>newer</td>\n",
       "      <td>Never</td>\n",
       "      <td>VinylSd</td>\n",
       "      <td>1</td>\n",
       "      <td>depreciated</td>\n",
       "      <td>PConc</td>\n",
       "      <td>3</td>\n",
       "      <td>2</td>\n",
       "      <td>1</td>\n",
       "      <td>7.044033</td>\n",
       "      <td>4</td>\n",
       "      <td>7.043160</td>\n",
       "    </tr>\n",
       "  </tbody>\n",
       "</table>\n",
       "</div>"
      ],
      "text/plain": [
       "   MSSubClass  LotFrontage  LogLotArea  LotShape LotConfig Neighborhood  \\\n",
       "0           1         65.0    9.041922         1    Inside      CollgCr   \n",
       "1           1         80.0    9.169518         1        FR      Veenker   \n",
       "2           1         68.0    9.328123         0    Inside      CollgCr   \n",
       "3           2         60.0    9.164296         0    Corner      Crawfor   \n",
       "4           1         84.0    9.565214         0        FR      NoRidge   \n",
       "\n",
       "   HouseStyle  OverallQual YearBuilt YearRemodAdd Exterior  MasVnr  \\\n",
       "0           2            0    modern        Never  VinylSd       1   \n",
       "1           1            0     newer        Never  MetalSd       0   \n",
       "2           2            0     newer       recent  VinylSd       1   \n",
       "3           2            0   ancient     long ago  Wd Sdng       0   \n",
       "4           2            1     newer        Never  VinylSd       1   \n",
       "\n",
       "     ExterCond Foundation  BsmtQual  BsmtExposure  BsmtFinType  \\\n",
       "0  depreciated      PConc         3             0            1   \n",
       "1    no change     CBlock         3             3            1   \n",
       "2  depreciated      PConc         3             1            1   \n",
       "3    no change      Other         2             0            1   \n",
       "4  depreciated      PConc         3             2            1   \n",
       "\n",
       "   LogTotalBsmtSF  HeatingQC  Log1stFlrSF  \n",
       "0        6.753438          4     6.752270  \n",
       "1        7.141245          4     7.140453  \n",
       "2        6.825460          4     6.824374  \n",
       "3        6.629363          3     6.867974  \n",
       "4        7.044033          4     7.043160  "
      ]
     },
     "execution_count": 142,
     "metadata": {},
     "output_type": "execute_result"
    }
   ],
   "source": [
    "new.head()"
   ]
  },
  {
   "cell_type": "markdown",
   "metadata": {},
   "source": [
    "## 2ndFlrSF"
   ]
  },
  {
   "cell_type": "code",
   "execution_count": 143,
   "metadata": {
    "collapsed": false
   },
   "outputs": [
    {
     "data": {
      "text/plain": [
       "count    2919.000000\n",
       "mean      336.483727\n",
       "std       428.701456\n",
       "min         0.000000\n",
       "25%         0.000000\n",
       "50%         0.000000\n",
       "75%       704.000000\n",
       "max      2065.000000\n",
       "Name: 2ndFlrSF, dtype: float64"
      ]
     },
     "execution_count": 143,
     "metadata": {},
     "output_type": "execute_result"
    }
   ],
   "source": [
    "data[\"2ndFlrSF\"].describe()"
   ]
  },
  {
   "cell_type": "code",
   "execution_count": 144,
   "metadata": {
    "collapsed": false
   },
   "outputs": [
    {
     "data": {
      "text/plain": [
       "1668"
      ]
     },
     "execution_count": 144,
     "metadata": {},
     "output_type": "execute_result"
    }
   ],
   "source": [
    "np.sum(data[\"2ndFlrSF\"] == 0)"
   ]
  },
  {
   "cell_type": "markdown",
   "metadata": {},
   "source": [
    "Has 2nd floor?: Y (1) or No (0)."
   ]
  },
  {
   "cell_type": "code",
   "execution_count": 145,
   "metadata": {
    "collapsed": false
   },
   "outputs": [
    {
     "data": {
      "text/plain": [
       "0    1668\n",
       "1    1251\n",
       "Name: 2ndFlr, dtype: int64"
      ]
     },
     "execution_count": 145,
     "metadata": {},
     "output_type": "execute_result"
    }
   ],
   "source": [
    "new[\"2ndFlr\"] = np.where(data[\"2ndFlrSF\"] == 0, 0, 1)\n",
    "new[\"2ndFlr\"].value_counts()"
   ]
  },
  {
   "cell_type": "code",
   "execution_count": 146,
   "metadata": {
    "collapsed": false
   },
   "outputs": [
    {
     "data": {
      "text/html": [
       "<div>\n",
       "<table border=\"1\" class=\"dataframe\">\n",
       "  <thead>\n",
       "    <tr style=\"text-align: right;\">\n",
       "      <th></th>\n",
       "      <th>MSSubClass</th>\n",
       "      <th>LotFrontage</th>\n",
       "      <th>LogLotArea</th>\n",
       "      <th>LotShape</th>\n",
       "      <th>LotConfig</th>\n",
       "      <th>Neighborhood</th>\n",
       "      <th>HouseStyle</th>\n",
       "      <th>OverallQual</th>\n",
       "      <th>YearBuilt</th>\n",
       "      <th>YearRemodAdd</th>\n",
       "      <th>...</th>\n",
       "      <th>MasVnr</th>\n",
       "      <th>ExterCond</th>\n",
       "      <th>Foundation</th>\n",
       "      <th>BsmtQual</th>\n",
       "      <th>BsmtExposure</th>\n",
       "      <th>BsmtFinType</th>\n",
       "      <th>LogTotalBsmtSF</th>\n",
       "      <th>HeatingQC</th>\n",
       "      <th>Log1stFlrSF</th>\n",
       "      <th>2ndFlr</th>\n",
       "    </tr>\n",
       "  </thead>\n",
       "  <tbody>\n",
       "    <tr>\n",
       "      <th>0</th>\n",
       "      <td>1</td>\n",
       "      <td>65.0</td>\n",
       "      <td>9.041922</td>\n",
       "      <td>1</td>\n",
       "      <td>Inside</td>\n",
       "      <td>CollgCr</td>\n",
       "      <td>2</td>\n",
       "      <td>0</td>\n",
       "      <td>modern</td>\n",
       "      <td>Never</td>\n",
       "      <td>...</td>\n",
       "      <td>1</td>\n",
       "      <td>depreciated</td>\n",
       "      <td>PConc</td>\n",
       "      <td>3</td>\n",
       "      <td>0</td>\n",
       "      <td>1</td>\n",
       "      <td>6.753438</td>\n",
       "      <td>4</td>\n",
       "      <td>6.752270</td>\n",
       "      <td>1</td>\n",
       "    </tr>\n",
       "    <tr>\n",
       "      <th>1</th>\n",
       "      <td>1</td>\n",
       "      <td>80.0</td>\n",
       "      <td>9.169518</td>\n",
       "      <td>1</td>\n",
       "      <td>FR</td>\n",
       "      <td>Veenker</td>\n",
       "      <td>1</td>\n",
       "      <td>0</td>\n",
       "      <td>newer</td>\n",
       "      <td>Never</td>\n",
       "      <td>...</td>\n",
       "      <td>0</td>\n",
       "      <td>no change</td>\n",
       "      <td>CBlock</td>\n",
       "      <td>3</td>\n",
       "      <td>3</td>\n",
       "      <td>1</td>\n",
       "      <td>7.141245</td>\n",
       "      <td>4</td>\n",
       "      <td>7.140453</td>\n",
       "      <td>0</td>\n",
       "    </tr>\n",
       "    <tr>\n",
       "      <th>2</th>\n",
       "      <td>1</td>\n",
       "      <td>68.0</td>\n",
       "      <td>9.328123</td>\n",
       "      <td>0</td>\n",
       "      <td>Inside</td>\n",
       "      <td>CollgCr</td>\n",
       "      <td>2</td>\n",
       "      <td>0</td>\n",
       "      <td>newer</td>\n",
       "      <td>recent</td>\n",
       "      <td>...</td>\n",
       "      <td>1</td>\n",
       "      <td>depreciated</td>\n",
       "      <td>PConc</td>\n",
       "      <td>3</td>\n",
       "      <td>1</td>\n",
       "      <td>1</td>\n",
       "      <td>6.825460</td>\n",
       "      <td>4</td>\n",
       "      <td>6.824374</td>\n",
       "      <td>1</td>\n",
       "    </tr>\n",
       "    <tr>\n",
       "      <th>3</th>\n",
       "      <td>2</td>\n",
       "      <td>60.0</td>\n",
       "      <td>9.164296</td>\n",
       "      <td>0</td>\n",
       "      <td>Corner</td>\n",
       "      <td>Crawfor</td>\n",
       "      <td>2</td>\n",
       "      <td>0</td>\n",
       "      <td>ancient</td>\n",
       "      <td>long ago</td>\n",
       "      <td>...</td>\n",
       "      <td>0</td>\n",
       "      <td>no change</td>\n",
       "      <td>Other</td>\n",
       "      <td>2</td>\n",
       "      <td>0</td>\n",
       "      <td>1</td>\n",
       "      <td>6.629363</td>\n",
       "      <td>3</td>\n",
       "      <td>6.867974</td>\n",
       "      <td>1</td>\n",
       "    </tr>\n",
       "    <tr>\n",
       "      <th>4</th>\n",
       "      <td>1</td>\n",
       "      <td>84.0</td>\n",
       "      <td>9.565214</td>\n",
       "      <td>0</td>\n",
       "      <td>FR</td>\n",
       "      <td>NoRidge</td>\n",
       "      <td>2</td>\n",
       "      <td>1</td>\n",
       "      <td>newer</td>\n",
       "      <td>Never</td>\n",
       "      <td>...</td>\n",
       "      <td>1</td>\n",
       "      <td>depreciated</td>\n",
       "      <td>PConc</td>\n",
       "      <td>3</td>\n",
       "      <td>2</td>\n",
       "      <td>1</td>\n",
       "      <td>7.044033</td>\n",
       "      <td>4</td>\n",
       "      <td>7.043160</td>\n",
       "      <td>1</td>\n",
       "    </tr>\n",
       "  </tbody>\n",
       "</table>\n",
       "<p>5 rows × 21 columns</p>\n",
       "</div>"
      ],
      "text/plain": [
       "   MSSubClass  LotFrontage  LogLotArea  LotShape LotConfig Neighborhood  \\\n",
       "0           1         65.0    9.041922         1    Inside      CollgCr   \n",
       "1           1         80.0    9.169518         1        FR      Veenker   \n",
       "2           1         68.0    9.328123         0    Inside      CollgCr   \n",
       "3           2         60.0    9.164296         0    Corner      Crawfor   \n",
       "4           1         84.0    9.565214         0        FR      NoRidge   \n",
       "\n",
       "   HouseStyle  OverallQual YearBuilt YearRemodAdd   ...   MasVnr    ExterCond  \\\n",
       "0           2            0    modern        Never   ...        1  depreciated   \n",
       "1           1            0     newer        Never   ...        0    no change   \n",
       "2           2            0     newer       recent   ...        1  depreciated   \n",
       "3           2            0   ancient     long ago   ...        0    no change   \n",
       "4           2            1     newer        Never   ...        1  depreciated   \n",
       "\n",
       "  Foundation BsmtQual  BsmtExposure  BsmtFinType  LogTotalBsmtSF  HeatingQC  \\\n",
       "0      PConc        3             0            1        6.753438          4   \n",
       "1     CBlock        3             3            1        7.141245          4   \n",
       "2      PConc        3             1            1        6.825460          4   \n",
       "3      Other        2             0            1        6.629363          3   \n",
       "4      PConc        3             2            1        7.044033          4   \n",
       "\n",
       "   Log1stFlrSF  2ndFlr  \n",
       "0     6.752270       1  \n",
       "1     7.140453       0  \n",
       "2     6.824374       1  \n",
       "3     6.867974       1  \n",
       "4     7.043160       1  \n",
       "\n",
       "[5 rows x 21 columns]"
      ]
     },
     "execution_count": 146,
     "metadata": {},
     "output_type": "execute_result"
    }
   ],
   "source": [
    "new.head()"
   ]
  },
  {
   "cell_type": "markdown",
   "metadata": {},
   "source": [
    "## GrLivArea"
   ]
  },
  {
   "cell_type": "code",
   "execution_count": 147,
   "metadata": {
    "collapsed": false
   },
   "outputs": [
    {
     "data": {
      "text/plain": [
       "count    2919.000000\n",
       "mean     1500.759849\n",
       "std       506.051045\n",
       "min       334.000000\n",
       "25%      1126.000000\n",
       "50%      1444.000000\n",
       "75%      1743.500000\n",
       "max      5642.000000\n",
       "Name: GrLivArea, dtype: float64"
      ]
     },
     "execution_count": 147,
     "metadata": {},
     "output_type": "execute_result"
    }
   ],
   "source": [
    "data[\"GrLivArea\"].describe()"
   ]
  },
  {
   "cell_type": "code",
   "execution_count": 148,
   "metadata": {
    "collapsed": false
   },
   "outputs": [
    {
     "data": {
      "text/plain": [
       "array([[ 1.        ,  0.56253825],\n",
       "       [ 0.56253825,  1.        ]])"
      ]
     },
     "execution_count": 148,
     "metadata": {},
     "output_type": "execute_result"
    }
   ],
   "source": [
    "np.corrcoef(data[\"GrLivArea\"], data[\"1stFlrSF\"])"
   ]
  },
  {
   "cell_type": "markdown",
   "metadata": {},
   "source": [
    "There is a positive, moderate correlation between GrLivArea and 1stFlrSF."
   ]
  },
  {
   "cell_type": "code",
   "execution_count": 149,
   "metadata": {
    "collapsed": false
   },
   "outputs": [
    {
     "data": {
      "text/plain": [
       "count    2919.000000\n",
       "mean        7.260762\n",
       "std         0.324991\n",
       "min         5.811141\n",
       "25%         7.026427\n",
       "50%         7.275172\n",
       "75%         7.463650\n",
       "max         8.637994\n",
       "Name: LogGrLivArea, dtype: float64"
      ]
     },
     "execution_count": 149,
     "metadata": {},
     "output_type": "execute_result"
    }
   ],
   "source": [
    "new[\"LogGrLivArea\"] = np.log(data[\"GrLivArea\"])\n",
    "new[\"LogGrLivArea\"].describe()"
   ]
  },
  {
   "cell_type": "code",
   "execution_count": 150,
   "metadata": {
    "collapsed": false
   },
   "outputs": [
    {
     "data": {
      "text/html": [
       "<div>\n",
       "<table border=\"1\" class=\"dataframe\">\n",
       "  <thead>\n",
       "    <tr style=\"text-align: right;\">\n",
       "      <th></th>\n",
       "      <th>MSSubClass</th>\n",
       "      <th>LotFrontage</th>\n",
       "      <th>LogLotArea</th>\n",
       "      <th>LotShape</th>\n",
       "      <th>LotConfig</th>\n",
       "      <th>Neighborhood</th>\n",
       "      <th>HouseStyle</th>\n",
       "      <th>OverallQual</th>\n",
       "      <th>YearBuilt</th>\n",
       "      <th>YearRemodAdd</th>\n",
       "      <th>...</th>\n",
       "      <th>ExterCond</th>\n",
       "      <th>Foundation</th>\n",
       "      <th>BsmtQual</th>\n",
       "      <th>BsmtExposure</th>\n",
       "      <th>BsmtFinType</th>\n",
       "      <th>LogTotalBsmtSF</th>\n",
       "      <th>HeatingQC</th>\n",
       "      <th>Log1stFlrSF</th>\n",
       "      <th>2ndFlr</th>\n",
       "      <th>LogGrLivArea</th>\n",
       "    </tr>\n",
       "  </thead>\n",
       "  <tbody>\n",
       "    <tr>\n",
       "      <th>0</th>\n",
       "      <td>1</td>\n",
       "      <td>65.0</td>\n",
       "      <td>9.041922</td>\n",
       "      <td>1</td>\n",
       "      <td>Inside</td>\n",
       "      <td>CollgCr</td>\n",
       "      <td>2</td>\n",
       "      <td>0</td>\n",
       "      <td>modern</td>\n",
       "      <td>Never</td>\n",
       "      <td>...</td>\n",
       "      <td>depreciated</td>\n",
       "      <td>PConc</td>\n",
       "      <td>3</td>\n",
       "      <td>0</td>\n",
       "      <td>1</td>\n",
       "      <td>6.753438</td>\n",
       "      <td>4</td>\n",
       "      <td>6.752270</td>\n",
       "      <td>1</td>\n",
       "      <td>7.444249</td>\n",
       "    </tr>\n",
       "    <tr>\n",
       "      <th>1</th>\n",
       "      <td>1</td>\n",
       "      <td>80.0</td>\n",
       "      <td>9.169518</td>\n",
       "      <td>1</td>\n",
       "      <td>FR</td>\n",
       "      <td>Veenker</td>\n",
       "      <td>1</td>\n",
       "      <td>0</td>\n",
       "      <td>newer</td>\n",
       "      <td>Never</td>\n",
       "      <td>...</td>\n",
       "      <td>no change</td>\n",
       "      <td>CBlock</td>\n",
       "      <td>3</td>\n",
       "      <td>3</td>\n",
       "      <td>1</td>\n",
       "      <td>7.141245</td>\n",
       "      <td>4</td>\n",
       "      <td>7.140453</td>\n",
       "      <td>0</td>\n",
       "      <td>7.140453</td>\n",
       "    </tr>\n",
       "    <tr>\n",
       "      <th>2</th>\n",
       "      <td>1</td>\n",
       "      <td>68.0</td>\n",
       "      <td>9.328123</td>\n",
       "      <td>0</td>\n",
       "      <td>Inside</td>\n",
       "      <td>CollgCr</td>\n",
       "      <td>2</td>\n",
       "      <td>0</td>\n",
       "      <td>newer</td>\n",
       "      <td>recent</td>\n",
       "      <td>...</td>\n",
       "      <td>depreciated</td>\n",
       "      <td>PConc</td>\n",
       "      <td>3</td>\n",
       "      <td>1</td>\n",
       "      <td>1</td>\n",
       "      <td>6.825460</td>\n",
       "      <td>4</td>\n",
       "      <td>6.824374</td>\n",
       "      <td>1</td>\n",
       "      <td>7.487734</td>\n",
       "    </tr>\n",
       "    <tr>\n",
       "      <th>3</th>\n",
       "      <td>2</td>\n",
       "      <td>60.0</td>\n",
       "      <td>9.164296</td>\n",
       "      <td>0</td>\n",
       "      <td>Corner</td>\n",
       "      <td>Crawfor</td>\n",
       "      <td>2</td>\n",
       "      <td>0</td>\n",
       "      <td>ancient</td>\n",
       "      <td>long ago</td>\n",
       "      <td>...</td>\n",
       "      <td>no change</td>\n",
       "      <td>Other</td>\n",
       "      <td>2</td>\n",
       "      <td>0</td>\n",
       "      <td>1</td>\n",
       "      <td>6.629363</td>\n",
       "      <td>3</td>\n",
       "      <td>6.867974</td>\n",
       "      <td>1</td>\n",
       "      <td>7.448334</td>\n",
       "    </tr>\n",
       "    <tr>\n",
       "      <th>4</th>\n",
       "      <td>1</td>\n",
       "      <td>84.0</td>\n",
       "      <td>9.565214</td>\n",
       "      <td>0</td>\n",
       "      <td>FR</td>\n",
       "      <td>NoRidge</td>\n",
       "      <td>2</td>\n",
       "      <td>1</td>\n",
       "      <td>newer</td>\n",
       "      <td>Never</td>\n",
       "      <td>...</td>\n",
       "      <td>depreciated</td>\n",
       "      <td>PConc</td>\n",
       "      <td>3</td>\n",
       "      <td>2</td>\n",
       "      <td>1</td>\n",
       "      <td>7.044033</td>\n",
       "      <td>4</td>\n",
       "      <td>7.043160</td>\n",
       "      <td>1</td>\n",
       "      <td>7.695303</td>\n",
       "    </tr>\n",
       "  </tbody>\n",
       "</table>\n",
       "<p>5 rows × 22 columns</p>\n",
       "</div>"
      ],
      "text/plain": [
       "   MSSubClass  LotFrontage  LogLotArea  LotShape LotConfig Neighborhood  \\\n",
       "0           1         65.0    9.041922         1    Inside      CollgCr   \n",
       "1           1         80.0    9.169518         1        FR      Veenker   \n",
       "2           1         68.0    9.328123         0    Inside      CollgCr   \n",
       "3           2         60.0    9.164296         0    Corner      Crawfor   \n",
       "4           1         84.0    9.565214         0        FR      NoRidge   \n",
       "\n",
       "   HouseStyle  OverallQual YearBuilt YearRemodAdd      ...         ExterCond  \\\n",
       "0           2            0    modern        Never      ...       depreciated   \n",
       "1           1            0     newer        Never      ...         no change   \n",
       "2           2            0     newer       recent      ...       depreciated   \n",
       "3           2            0   ancient     long ago      ...         no change   \n",
       "4           2            1     newer        Never      ...       depreciated   \n",
       "\n",
       "   Foundation BsmtQual BsmtExposure  BsmtFinType  LogTotalBsmtSF  HeatingQC  \\\n",
       "0       PConc        3            0            1        6.753438          4   \n",
       "1      CBlock        3            3            1        7.141245          4   \n",
       "2       PConc        3            1            1        6.825460          4   \n",
       "3       Other        2            0            1        6.629363          3   \n",
       "4       PConc        3            2            1        7.044033          4   \n",
       "\n",
       "   Log1stFlrSF  2ndFlr  LogGrLivArea  \n",
       "0     6.752270       1      7.444249  \n",
       "1     7.140453       0      7.140453  \n",
       "2     6.824374       1      7.487734  \n",
       "3     6.867974       1      7.448334  \n",
       "4     7.043160       1      7.695303  \n",
       "\n",
       "[5 rows x 22 columns]"
      ]
     },
     "execution_count": 150,
     "metadata": {},
     "output_type": "execute_result"
    }
   ],
   "source": [
    "new.head()"
   ]
  },
  {
   "cell_type": "markdown",
   "metadata": {},
   "source": [
    "## TotalArea: NEW feature"
   ]
  },
  {
   "cell_type": "markdown",
   "metadata": {},
   "source": [
    "Ground living area only considers the space that is above the grade of the ground, and not the space that is below the grade of the ground, such as a basement. Lets combine the two to inform homeowners how much total area will be available to them."
   ]
  },
  {
   "cell_type": "code",
   "execution_count": 151,
   "metadata": {
    "collapsed": false
   },
   "outputs": [
    {
     "data": {
      "text/plain": [
       "count     2919.000000\n",
       "mean      2552.177115\n",
       "std        806.018663\n",
       "min        334.000000\n",
       "25%       2004.000000\n",
       "50%       2453.000000\n",
       "75%       2996.000000\n",
       "max      11752.000000\n",
       "Name: TotalArea, dtype: float64"
      ]
     },
     "execution_count": 151,
     "metadata": {},
     "output_type": "execute_result"
    }
   ],
   "source": [
    "new[\"TotalArea\"] = np.sum([data[\"GrLivArea\"], data[\"TotalBsmtSF\"]], axis = 0)\n",
    "new[\"TotalArea\"].describe()"
   ]
  },
  {
   "cell_type": "code",
   "execution_count": 152,
   "metadata": {
    "collapsed": false
   },
   "outputs": [
    {
     "data": {
      "text/plain": [
       "count    2919.000000\n",
       "mean        7.796990\n",
       "std         0.312961\n",
       "min         5.811141\n",
       "25%         7.602900\n",
       "50%         7.805067\n",
       "75%         8.005033\n",
       "max         9.371779\n",
       "Name: LogTotalArea, dtype: float64"
      ]
     },
     "execution_count": 152,
     "metadata": {},
     "output_type": "execute_result"
    }
   ],
   "source": [
    "new[\"LogTotalArea\"] = np.log(new[\"TotalArea\"])\n",
    "new[\"LogTotalArea\"].describe()"
   ]
  },
  {
   "cell_type": "code",
   "execution_count": 153,
   "metadata": {
    "collapsed": false
   },
   "outputs": [
    {
     "data": {
      "text/html": [
       "<div>\n",
       "<table border=\"1\" class=\"dataframe\">\n",
       "  <thead>\n",
       "    <tr style=\"text-align: right;\">\n",
       "      <th></th>\n",
       "      <th>MSSubClass</th>\n",
       "      <th>LotFrontage</th>\n",
       "      <th>LogLotArea</th>\n",
       "      <th>LotShape</th>\n",
       "      <th>LotConfig</th>\n",
       "      <th>Neighborhood</th>\n",
       "      <th>HouseStyle</th>\n",
       "      <th>OverallQual</th>\n",
       "      <th>YearBuilt</th>\n",
       "      <th>YearRemodAdd</th>\n",
       "      <th>...</th>\n",
       "      <th>BsmtQual</th>\n",
       "      <th>BsmtExposure</th>\n",
       "      <th>BsmtFinType</th>\n",
       "      <th>LogTotalBsmtSF</th>\n",
       "      <th>HeatingQC</th>\n",
       "      <th>Log1stFlrSF</th>\n",
       "      <th>2ndFlr</th>\n",
       "      <th>LogGrLivArea</th>\n",
       "      <th>TotalArea</th>\n",
       "      <th>LogTotalArea</th>\n",
       "    </tr>\n",
       "  </thead>\n",
       "  <tbody>\n",
       "    <tr>\n",
       "      <th>0</th>\n",
       "      <td>1</td>\n",
       "      <td>65.0</td>\n",
       "      <td>9.041922</td>\n",
       "      <td>1</td>\n",
       "      <td>Inside</td>\n",
       "      <td>CollgCr</td>\n",
       "      <td>2</td>\n",
       "      <td>0</td>\n",
       "      <td>modern</td>\n",
       "      <td>Never</td>\n",
       "      <td>...</td>\n",
       "      <td>3</td>\n",
       "      <td>0</td>\n",
       "      <td>1</td>\n",
       "      <td>6.753438</td>\n",
       "      <td>4</td>\n",
       "      <td>6.752270</td>\n",
       "      <td>1</td>\n",
       "      <td>7.444249</td>\n",
       "      <td>2566.0</td>\n",
       "      <td>7.850104</td>\n",
       "    </tr>\n",
       "    <tr>\n",
       "      <th>1</th>\n",
       "      <td>1</td>\n",
       "      <td>80.0</td>\n",
       "      <td>9.169518</td>\n",
       "      <td>1</td>\n",
       "      <td>FR</td>\n",
       "      <td>Veenker</td>\n",
       "      <td>1</td>\n",
       "      <td>0</td>\n",
       "      <td>newer</td>\n",
       "      <td>Never</td>\n",
       "      <td>...</td>\n",
       "      <td>3</td>\n",
       "      <td>3</td>\n",
       "      <td>1</td>\n",
       "      <td>7.141245</td>\n",
       "      <td>4</td>\n",
       "      <td>7.140453</td>\n",
       "      <td>0</td>\n",
       "      <td>7.140453</td>\n",
       "      <td>2524.0</td>\n",
       "      <td>7.833600</td>\n",
       "    </tr>\n",
       "    <tr>\n",
       "      <th>2</th>\n",
       "      <td>1</td>\n",
       "      <td>68.0</td>\n",
       "      <td>9.328123</td>\n",
       "      <td>0</td>\n",
       "      <td>Inside</td>\n",
       "      <td>CollgCr</td>\n",
       "      <td>2</td>\n",
       "      <td>0</td>\n",
       "      <td>newer</td>\n",
       "      <td>recent</td>\n",
       "      <td>...</td>\n",
       "      <td>3</td>\n",
       "      <td>1</td>\n",
       "      <td>1</td>\n",
       "      <td>6.825460</td>\n",
       "      <td>4</td>\n",
       "      <td>6.824374</td>\n",
       "      <td>1</td>\n",
       "      <td>7.487734</td>\n",
       "      <td>2706.0</td>\n",
       "      <td>7.903227</td>\n",
       "    </tr>\n",
       "    <tr>\n",
       "      <th>3</th>\n",
       "      <td>2</td>\n",
       "      <td>60.0</td>\n",
       "      <td>9.164296</td>\n",
       "      <td>0</td>\n",
       "      <td>Corner</td>\n",
       "      <td>Crawfor</td>\n",
       "      <td>2</td>\n",
       "      <td>0</td>\n",
       "      <td>ancient</td>\n",
       "      <td>long ago</td>\n",
       "      <td>...</td>\n",
       "      <td>2</td>\n",
       "      <td>0</td>\n",
       "      <td>1</td>\n",
       "      <td>6.629363</td>\n",
       "      <td>3</td>\n",
       "      <td>6.867974</td>\n",
       "      <td>1</td>\n",
       "      <td>7.448334</td>\n",
       "      <td>2473.0</td>\n",
       "      <td>7.813187</td>\n",
       "    </tr>\n",
       "    <tr>\n",
       "      <th>4</th>\n",
       "      <td>1</td>\n",
       "      <td>84.0</td>\n",
       "      <td>9.565214</td>\n",
       "      <td>0</td>\n",
       "      <td>FR</td>\n",
       "      <td>NoRidge</td>\n",
       "      <td>2</td>\n",
       "      <td>1</td>\n",
       "      <td>newer</td>\n",
       "      <td>Never</td>\n",
       "      <td>...</td>\n",
       "      <td>3</td>\n",
       "      <td>2</td>\n",
       "      <td>1</td>\n",
       "      <td>7.044033</td>\n",
       "      <td>4</td>\n",
       "      <td>7.043160</td>\n",
       "      <td>1</td>\n",
       "      <td>7.695303</td>\n",
       "      <td>3343.0</td>\n",
       "      <td>8.114624</td>\n",
       "    </tr>\n",
       "  </tbody>\n",
       "</table>\n",
       "<p>5 rows × 24 columns</p>\n",
       "</div>"
      ],
      "text/plain": [
       "   MSSubClass  LotFrontage  LogLotArea  LotShape LotConfig Neighborhood  \\\n",
       "0           1         65.0    9.041922         1    Inside      CollgCr   \n",
       "1           1         80.0    9.169518         1        FR      Veenker   \n",
       "2           1         68.0    9.328123         0    Inside      CollgCr   \n",
       "3           2         60.0    9.164296         0    Corner      Crawfor   \n",
       "4           1         84.0    9.565214         0        FR      NoRidge   \n",
       "\n",
       "   HouseStyle  OverallQual YearBuilt YearRemodAdd      ...      BsmtQual  \\\n",
       "0           2            0    modern        Never      ...             3   \n",
       "1           1            0     newer        Never      ...             3   \n",
       "2           2            0     newer       recent      ...             3   \n",
       "3           2            0   ancient     long ago      ...             2   \n",
       "4           2            1     newer        Never      ...             3   \n",
       "\n",
       "   BsmtExposure BsmtFinType LogTotalBsmtSF  HeatingQC  Log1stFlrSF  2ndFlr  \\\n",
       "0             0           1       6.753438          4     6.752270       1   \n",
       "1             3           1       7.141245          4     7.140453       0   \n",
       "2             1           1       6.825460          4     6.824374       1   \n",
       "3             0           1       6.629363          3     6.867974       1   \n",
       "4             2           1       7.044033          4     7.043160       1   \n",
       "\n",
       "   LogGrLivArea  TotalArea  LogTotalArea  \n",
       "0      7.444249     2566.0      7.850104  \n",
       "1      7.140453     2524.0      7.833600  \n",
       "2      7.487734     2706.0      7.903227  \n",
       "3      7.448334     2473.0      7.813187  \n",
       "4      7.695303     3343.0      8.114624  \n",
       "\n",
       "[5 rows x 24 columns]"
      ]
     },
     "execution_count": 153,
     "metadata": {},
     "output_type": "execute_result"
    }
   ],
   "source": [
    "new.head()"
   ]
  },
  {
   "cell_type": "markdown",
   "metadata": {},
   "source": [
    "## LowQualFinSF"
   ]
  },
  {
   "cell_type": "code",
   "execution_count": 154,
   "metadata": {
    "collapsed": false
   },
   "outputs": [
    {
     "data": {
      "text/plain": [
       "count    2919.000000\n",
       "mean        4.694416\n",
       "std        46.396825\n",
       "min         0.000000\n",
       "25%         0.000000\n",
       "50%         0.000000\n",
       "75%         0.000000\n",
       "max      1064.000000\n",
       "Name: LowQualFinSF, dtype: float64"
      ]
     },
     "execution_count": 154,
     "metadata": {},
     "output_type": "execute_result"
    }
   ],
   "source": [
    "data[\"LowQualFinSF\"].describe()"
   ]
  },
  {
   "cell_type": "code",
   "execution_count": 155,
   "metadata": {
    "collapsed": false
   },
   "outputs": [
    {
     "data": {
      "text/plain": [
       "2879"
      ]
     },
     "execution_count": 155,
     "metadata": {},
     "output_type": "execute_result"
    }
   ],
   "source": [
    "np.sum(data[\"LowQualFinSF\"] == 0)"
   ]
  },
  {
   "cell_type": "markdown",
   "metadata": {},
   "source": [
    "Drop this variable due to lack of data."
   ]
  },
  {
   "cell_type": "markdown",
   "metadata": {},
   "source": [
    "## BsmtFullBath, BsmtHalfBath, FullBath, HalfBath"
   ]
  },
  {
   "cell_type": "code",
   "execution_count": 156,
   "metadata": {
    "collapsed": false
   },
   "outputs": [
    {
     "name": "stdout",
     "output_type": "stream",
     "text": [
      "2\n",
      "2\n",
      "0\n",
      "0\n"
     ]
    }
   ],
   "source": [
    "print data[\"BsmtFullBath\"].isnull().sum()\n",
    "print data[\"BsmtHalfBath\"].isnull().sum()\n",
    "print data[\"FullBath\"].isnull().sum()\n",
    "print data[\"HalfBath\"].isnull().sum()"
   ]
  },
  {
   "cell_type": "code",
   "execution_count": 157,
   "metadata": {
    "collapsed": false
   },
   "outputs": [
    {
     "data": {
      "text/plain": [
       "0.0    1705\n",
       "1.0    1172\n",
       "2.0      38\n",
       "3.0       2\n",
       "Name: BsmtFullBath, dtype: int64"
      ]
     },
     "execution_count": 157,
     "metadata": {},
     "output_type": "execute_result"
    }
   ],
   "source": [
    "data[\"BsmtFullBath\"].value_counts()"
   ]
  },
  {
   "cell_type": "code",
   "execution_count": 158,
   "metadata": {
    "collapsed": false,
    "scrolled": true
   },
   "outputs": [
    {
     "data": {
      "text/plain": [
       "2    1530\n",
       "1    1309\n",
       "3      64\n",
       "0      12\n",
       "4       4\n",
       "Name: FullBath, dtype: int64"
      ]
     },
     "execution_count": 158,
     "metadata": {},
     "output_type": "execute_result"
    }
   ],
   "source": [
    "data[\"FullBath\"].value_counts()"
   ]
  },
  {
   "cell_type": "markdown",
   "metadata": {},
   "source": [
    "Combine all full bathrooms regardless of whether it is in the basement or not."
   ]
  },
  {
   "cell_type": "code",
   "execution_count": 159,
   "metadata": {
    "collapsed": false,
    "scrolled": true
   },
   "outputs": [
    {
     "data": {
      "text/plain": [
       "2.0    1466\n",
       "1.0     758\n",
       "3.0     645\n",
       "4.0      44\n",
       "6.0       5\n",
       "0.0       1\n",
       "dtype: int64"
      ]
     },
     "execution_count": 159,
     "metadata": {},
     "output_type": "execute_result"
    }
   ],
   "source": [
    "data[\"BsmtFullBath\"] = data[\"BsmtFullBath\"].fillna(0)\n",
    "full = pd.Series(np.sum([data[\"BsmtFullBath\"], data[\"FullBath\"]], axis = 0))\n",
    "full.value_counts()"
   ]
  },
  {
   "cell_type": "code",
   "execution_count": 160,
   "metadata": {
    "collapsed": false
   },
   "outputs": [
    {
     "data": {
      "text/plain": [
       "2.0    1499\n",
       "1.0     744\n",
       "3.0     676\n",
       "Name: FullBath, dtype: int64"
      ]
     },
     "execution_count": 160,
     "metadata": {},
     "output_type": "execute_result"
    }
   ],
   "source": [
    "new[\"FullBath\"] = full.replace([0], 1).replace([3, 4, 6], 3)\n",
    "new[\"FullBath\"].value_counts()"
   ]
  },
  {
   "cell_type": "code",
   "execution_count": 161,
   "metadata": {
    "collapsed": false
   },
   "outputs": [
    {
     "data": {
      "text/plain": [
       "0.0    2742\n",
       "1.0     171\n",
       "2.0       4\n",
       "Name: BsmtHalfBath, dtype: int64"
      ]
     },
     "execution_count": 161,
     "metadata": {},
     "output_type": "execute_result"
    }
   ],
   "source": [
    "data[\"BsmtHalfBath\"].value_counts()"
   ]
  },
  {
   "cell_type": "code",
   "execution_count": 162,
   "metadata": {
    "collapsed": false
   },
   "outputs": [
    {
     "data": {
      "text/plain": [
       "0    1834\n",
       "1    1060\n",
       "2      25\n",
       "Name: HalfBath, dtype: int64"
      ]
     },
     "execution_count": 162,
     "metadata": {},
     "output_type": "execute_result"
    }
   ],
   "source": [
    "data[\"HalfBath\"].value_counts()"
   ]
  },
  {
   "cell_type": "markdown",
   "metadata": {},
   "source": [
    "Similarly, combine all half bathrooms."
   ]
  },
  {
   "cell_type": "code",
   "execution_count": 163,
   "metadata": {
    "collapsed": false
   },
   "outputs": [
    {
     "data": {
      "text/plain": [
       "0.0    1700\n",
       "1.0    1154\n",
       "2.0      61\n",
       "3.0       3\n",
       "4.0       1\n",
       "dtype: int64"
      ]
     },
     "execution_count": 163,
     "metadata": {},
     "output_type": "execute_result"
    }
   ],
   "source": [
    "data[\"BsmtHalfBath\"] = data[\"BsmtHalfBath\"].fillna(0)\n",
    "half = pd.Series(np.sum([data[\"BsmtHalfBath\"], data[\"HalfBath\"]], axis = 0))\n",
    "half.value_counts()"
   ]
  },
  {
   "cell_type": "markdown",
   "metadata": {},
   "source": [
    "Has half bathroom?: Y (1) or No (0)"
   ]
  },
  {
   "cell_type": "code",
   "execution_count": 164,
   "metadata": {
    "collapsed": false
   },
   "outputs": [
    {
     "data": {
      "text/plain": [
       "0.0    1710\n",
       "1.0    1209\n",
       "Name: HalfBath, dtype: int64"
      ]
     },
     "execution_count": 164,
     "metadata": {},
     "output_type": "execute_result"
    }
   ],
   "source": [
    "new[\"HalfBath\"] = half.replace([2, 3, 4], 1)\n",
    "new[\"HalfBath\"].value_counts()"
   ]
  },
  {
   "cell_type": "code",
   "execution_count": 165,
   "metadata": {
    "collapsed": false
   },
   "outputs": [
    {
     "data": {
      "text/html": [
       "<div>\n",
       "<table border=\"1\" class=\"dataframe\">\n",
       "  <thead>\n",
       "    <tr style=\"text-align: right;\">\n",
       "      <th></th>\n",
       "      <th>MSSubClass</th>\n",
       "      <th>LotFrontage</th>\n",
       "      <th>LogLotArea</th>\n",
       "      <th>LotShape</th>\n",
       "      <th>LotConfig</th>\n",
       "      <th>Neighborhood</th>\n",
       "      <th>HouseStyle</th>\n",
       "      <th>OverallQual</th>\n",
       "      <th>YearBuilt</th>\n",
       "      <th>YearRemodAdd</th>\n",
       "      <th>...</th>\n",
       "      <th>BsmtFinType</th>\n",
       "      <th>LogTotalBsmtSF</th>\n",
       "      <th>HeatingQC</th>\n",
       "      <th>Log1stFlrSF</th>\n",
       "      <th>2ndFlr</th>\n",
       "      <th>LogGrLivArea</th>\n",
       "      <th>TotalArea</th>\n",
       "      <th>LogTotalArea</th>\n",
       "      <th>FullBath</th>\n",
       "      <th>HalfBath</th>\n",
       "    </tr>\n",
       "  </thead>\n",
       "  <tbody>\n",
       "    <tr>\n",
       "      <th>0</th>\n",
       "      <td>1</td>\n",
       "      <td>65.0</td>\n",
       "      <td>9.041922</td>\n",
       "      <td>1</td>\n",
       "      <td>Inside</td>\n",
       "      <td>CollgCr</td>\n",
       "      <td>2</td>\n",
       "      <td>0</td>\n",
       "      <td>modern</td>\n",
       "      <td>Never</td>\n",
       "      <td>...</td>\n",
       "      <td>1</td>\n",
       "      <td>6.753438</td>\n",
       "      <td>4</td>\n",
       "      <td>6.752270</td>\n",
       "      <td>1</td>\n",
       "      <td>7.444249</td>\n",
       "      <td>2566.0</td>\n",
       "      <td>7.850104</td>\n",
       "      <td>3.0</td>\n",
       "      <td>1.0</td>\n",
       "    </tr>\n",
       "    <tr>\n",
       "      <th>1</th>\n",
       "      <td>1</td>\n",
       "      <td>80.0</td>\n",
       "      <td>9.169518</td>\n",
       "      <td>1</td>\n",
       "      <td>FR</td>\n",
       "      <td>Veenker</td>\n",
       "      <td>1</td>\n",
       "      <td>0</td>\n",
       "      <td>newer</td>\n",
       "      <td>Never</td>\n",
       "      <td>...</td>\n",
       "      <td>1</td>\n",
       "      <td>7.141245</td>\n",
       "      <td>4</td>\n",
       "      <td>7.140453</td>\n",
       "      <td>0</td>\n",
       "      <td>7.140453</td>\n",
       "      <td>2524.0</td>\n",
       "      <td>7.833600</td>\n",
       "      <td>2.0</td>\n",
       "      <td>1.0</td>\n",
       "    </tr>\n",
       "    <tr>\n",
       "      <th>2</th>\n",
       "      <td>1</td>\n",
       "      <td>68.0</td>\n",
       "      <td>9.328123</td>\n",
       "      <td>0</td>\n",
       "      <td>Inside</td>\n",
       "      <td>CollgCr</td>\n",
       "      <td>2</td>\n",
       "      <td>0</td>\n",
       "      <td>newer</td>\n",
       "      <td>recent</td>\n",
       "      <td>...</td>\n",
       "      <td>1</td>\n",
       "      <td>6.825460</td>\n",
       "      <td>4</td>\n",
       "      <td>6.824374</td>\n",
       "      <td>1</td>\n",
       "      <td>7.487734</td>\n",
       "      <td>2706.0</td>\n",
       "      <td>7.903227</td>\n",
       "      <td>3.0</td>\n",
       "      <td>1.0</td>\n",
       "    </tr>\n",
       "    <tr>\n",
       "      <th>3</th>\n",
       "      <td>2</td>\n",
       "      <td>60.0</td>\n",
       "      <td>9.164296</td>\n",
       "      <td>0</td>\n",
       "      <td>Corner</td>\n",
       "      <td>Crawfor</td>\n",
       "      <td>2</td>\n",
       "      <td>0</td>\n",
       "      <td>ancient</td>\n",
       "      <td>long ago</td>\n",
       "      <td>...</td>\n",
       "      <td>1</td>\n",
       "      <td>6.629363</td>\n",
       "      <td>3</td>\n",
       "      <td>6.867974</td>\n",
       "      <td>1</td>\n",
       "      <td>7.448334</td>\n",
       "      <td>2473.0</td>\n",
       "      <td>7.813187</td>\n",
       "      <td>2.0</td>\n",
       "      <td>0.0</td>\n",
       "    </tr>\n",
       "    <tr>\n",
       "      <th>4</th>\n",
       "      <td>1</td>\n",
       "      <td>84.0</td>\n",
       "      <td>9.565214</td>\n",
       "      <td>0</td>\n",
       "      <td>FR</td>\n",
       "      <td>NoRidge</td>\n",
       "      <td>2</td>\n",
       "      <td>1</td>\n",
       "      <td>newer</td>\n",
       "      <td>Never</td>\n",
       "      <td>...</td>\n",
       "      <td>1</td>\n",
       "      <td>7.044033</td>\n",
       "      <td>4</td>\n",
       "      <td>7.043160</td>\n",
       "      <td>1</td>\n",
       "      <td>7.695303</td>\n",
       "      <td>3343.0</td>\n",
       "      <td>8.114624</td>\n",
       "      <td>3.0</td>\n",
       "      <td>1.0</td>\n",
       "    </tr>\n",
       "  </tbody>\n",
       "</table>\n",
       "<p>5 rows × 26 columns</p>\n",
       "</div>"
      ],
      "text/plain": [
       "   MSSubClass  LotFrontage  LogLotArea  LotShape LotConfig Neighborhood  \\\n",
       "0           1         65.0    9.041922         1    Inside      CollgCr   \n",
       "1           1         80.0    9.169518         1        FR      Veenker   \n",
       "2           1         68.0    9.328123         0    Inside      CollgCr   \n",
       "3           2         60.0    9.164296         0    Corner      Crawfor   \n",
       "4           1         84.0    9.565214         0        FR      NoRidge   \n",
       "\n",
       "   HouseStyle  OverallQual YearBuilt YearRemodAdd    ...    BsmtFinType  \\\n",
       "0           2            0    modern        Never    ...              1   \n",
       "1           1            0     newer        Never    ...              1   \n",
       "2           2            0     newer       recent    ...              1   \n",
       "3           2            0   ancient     long ago    ...              1   \n",
       "4           2            1     newer        Never    ...              1   \n",
       "\n",
       "   LogTotalBsmtSF HeatingQC Log1stFlrSF  2ndFlr  LogGrLivArea  TotalArea  \\\n",
       "0        6.753438         4    6.752270       1      7.444249     2566.0   \n",
       "1        7.141245         4    7.140453       0      7.140453     2524.0   \n",
       "2        6.825460         4    6.824374       1      7.487734     2706.0   \n",
       "3        6.629363         3    6.867974       1      7.448334     2473.0   \n",
       "4        7.044033         4    7.043160       1      7.695303     3343.0   \n",
       "\n",
       "   LogTotalArea  FullBath  HalfBath  \n",
       "0      7.850104       3.0       1.0  \n",
       "1      7.833600       2.0       1.0  \n",
       "2      7.903227       3.0       1.0  \n",
       "3      7.813187       2.0       0.0  \n",
       "4      8.114624       3.0       1.0  \n",
       "\n",
       "[5 rows x 26 columns]"
      ]
     },
     "execution_count": 165,
     "metadata": {},
     "output_type": "execute_result"
    }
   ],
   "source": [
    "new.head()"
   ]
  },
  {
   "cell_type": "markdown",
   "metadata": {},
   "source": [
    "## Bedroom"
   ]
  },
  {
   "cell_type": "code",
   "execution_count": 166,
   "metadata": {
    "collapsed": false
   },
   "outputs": [
    {
     "data": {
      "text/plain": [
       "3    1596\n",
       "2     742\n",
       "4     400\n",
       "1     103\n",
       "5      48\n",
       "6      21\n",
       "0       8\n",
       "8       1\n",
       "Name: BedroomAbvGr, dtype: int64"
      ]
     },
     "execution_count": 166,
     "metadata": {},
     "output_type": "execute_result"
    }
   ],
   "source": [
    "data[\"BedroomAbvGr\"].value_counts()"
   ]
  },
  {
   "cell_type": "code",
   "execution_count": 167,
   "metadata": {
    "collapsed": false
   },
   "outputs": [
    {
     "data": {
      "text/plain": [
       "0"
      ]
     },
     "execution_count": 167,
     "metadata": {},
     "output_type": "execute_result"
    }
   ],
   "source": [
    "data[\"BedroomAbvGr\"].isnull().sum()"
   ]
  },
  {
   "cell_type": "code",
   "execution_count": 168,
   "metadata": {
    "collapsed": false
   },
   "outputs": [
    {
     "data": {
      "text/plain": [
       "3    1596\n",
       "2     742\n",
       "4     400\n",
       "1     103\n",
       "5      70\n",
       "0       8\n",
       "Name: BedroomAbvGr, dtype: int64"
      ]
     },
     "execution_count": 168,
     "metadata": {},
     "output_type": "execute_result"
    }
   ],
   "source": [
    "new[\"BedroomAbvGr\"] = data[\"BedroomAbvGr\"].replace([5, 6, 8], 5)\n",
    "new[\"BedroomAbvGr\"].value_counts()"
   ]
  },
  {
   "cell_type": "code",
   "execution_count": 169,
   "metadata": {
    "collapsed": false
   },
   "outputs": [
    {
     "data": {
      "text/html": [
       "<div>\n",
       "<table border=\"1\" class=\"dataframe\">\n",
       "  <thead>\n",
       "    <tr style=\"text-align: right;\">\n",
       "      <th></th>\n",
       "      <th>MSSubClass</th>\n",
       "      <th>LotFrontage</th>\n",
       "      <th>LogLotArea</th>\n",
       "      <th>LotShape</th>\n",
       "      <th>LotConfig</th>\n",
       "      <th>Neighborhood</th>\n",
       "      <th>HouseStyle</th>\n",
       "      <th>OverallQual</th>\n",
       "      <th>YearBuilt</th>\n",
       "      <th>YearRemodAdd</th>\n",
       "      <th>...</th>\n",
       "      <th>LogTotalBsmtSF</th>\n",
       "      <th>HeatingQC</th>\n",
       "      <th>Log1stFlrSF</th>\n",
       "      <th>2ndFlr</th>\n",
       "      <th>LogGrLivArea</th>\n",
       "      <th>TotalArea</th>\n",
       "      <th>LogTotalArea</th>\n",
       "      <th>FullBath</th>\n",
       "      <th>HalfBath</th>\n",
       "      <th>BedroomAbvGr</th>\n",
       "    </tr>\n",
       "  </thead>\n",
       "  <tbody>\n",
       "    <tr>\n",
       "      <th>0</th>\n",
       "      <td>1</td>\n",
       "      <td>65.0</td>\n",
       "      <td>9.041922</td>\n",
       "      <td>1</td>\n",
       "      <td>Inside</td>\n",
       "      <td>CollgCr</td>\n",
       "      <td>2</td>\n",
       "      <td>0</td>\n",
       "      <td>modern</td>\n",
       "      <td>Never</td>\n",
       "      <td>...</td>\n",
       "      <td>6.753438</td>\n",
       "      <td>4</td>\n",
       "      <td>6.752270</td>\n",
       "      <td>1</td>\n",
       "      <td>7.444249</td>\n",
       "      <td>2566.0</td>\n",
       "      <td>7.850104</td>\n",
       "      <td>3.0</td>\n",
       "      <td>1.0</td>\n",
       "      <td>3</td>\n",
       "    </tr>\n",
       "    <tr>\n",
       "      <th>1</th>\n",
       "      <td>1</td>\n",
       "      <td>80.0</td>\n",
       "      <td>9.169518</td>\n",
       "      <td>1</td>\n",
       "      <td>FR</td>\n",
       "      <td>Veenker</td>\n",
       "      <td>1</td>\n",
       "      <td>0</td>\n",
       "      <td>newer</td>\n",
       "      <td>Never</td>\n",
       "      <td>...</td>\n",
       "      <td>7.141245</td>\n",
       "      <td>4</td>\n",
       "      <td>7.140453</td>\n",
       "      <td>0</td>\n",
       "      <td>7.140453</td>\n",
       "      <td>2524.0</td>\n",
       "      <td>7.833600</td>\n",
       "      <td>2.0</td>\n",
       "      <td>1.0</td>\n",
       "      <td>3</td>\n",
       "    </tr>\n",
       "    <tr>\n",
       "      <th>2</th>\n",
       "      <td>1</td>\n",
       "      <td>68.0</td>\n",
       "      <td>9.328123</td>\n",
       "      <td>0</td>\n",
       "      <td>Inside</td>\n",
       "      <td>CollgCr</td>\n",
       "      <td>2</td>\n",
       "      <td>0</td>\n",
       "      <td>newer</td>\n",
       "      <td>recent</td>\n",
       "      <td>...</td>\n",
       "      <td>6.825460</td>\n",
       "      <td>4</td>\n",
       "      <td>6.824374</td>\n",
       "      <td>1</td>\n",
       "      <td>7.487734</td>\n",
       "      <td>2706.0</td>\n",
       "      <td>7.903227</td>\n",
       "      <td>3.0</td>\n",
       "      <td>1.0</td>\n",
       "      <td>3</td>\n",
       "    </tr>\n",
       "    <tr>\n",
       "      <th>3</th>\n",
       "      <td>2</td>\n",
       "      <td>60.0</td>\n",
       "      <td>9.164296</td>\n",
       "      <td>0</td>\n",
       "      <td>Corner</td>\n",
       "      <td>Crawfor</td>\n",
       "      <td>2</td>\n",
       "      <td>0</td>\n",
       "      <td>ancient</td>\n",
       "      <td>long ago</td>\n",
       "      <td>...</td>\n",
       "      <td>6.629363</td>\n",
       "      <td>3</td>\n",
       "      <td>6.867974</td>\n",
       "      <td>1</td>\n",
       "      <td>7.448334</td>\n",
       "      <td>2473.0</td>\n",
       "      <td>7.813187</td>\n",
       "      <td>2.0</td>\n",
       "      <td>0.0</td>\n",
       "      <td>3</td>\n",
       "    </tr>\n",
       "    <tr>\n",
       "      <th>4</th>\n",
       "      <td>1</td>\n",
       "      <td>84.0</td>\n",
       "      <td>9.565214</td>\n",
       "      <td>0</td>\n",
       "      <td>FR</td>\n",
       "      <td>NoRidge</td>\n",
       "      <td>2</td>\n",
       "      <td>1</td>\n",
       "      <td>newer</td>\n",
       "      <td>Never</td>\n",
       "      <td>...</td>\n",
       "      <td>7.044033</td>\n",
       "      <td>4</td>\n",
       "      <td>7.043160</td>\n",
       "      <td>1</td>\n",
       "      <td>7.695303</td>\n",
       "      <td>3343.0</td>\n",
       "      <td>8.114624</td>\n",
       "      <td>3.0</td>\n",
       "      <td>1.0</td>\n",
       "      <td>4</td>\n",
       "    </tr>\n",
       "  </tbody>\n",
       "</table>\n",
       "<p>5 rows × 27 columns</p>\n",
       "</div>"
      ],
      "text/plain": [
       "   MSSubClass  LotFrontage  LogLotArea  LotShape LotConfig Neighborhood  \\\n",
       "0           1         65.0    9.041922         1    Inside      CollgCr   \n",
       "1           1         80.0    9.169518         1        FR      Veenker   \n",
       "2           1         68.0    9.328123         0    Inside      CollgCr   \n",
       "3           2         60.0    9.164296         0    Corner      Crawfor   \n",
       "4           1         84.0    9.565214         0        FR      NoRidge   \n",
       "\n",
       "   HouseStyle  OverallQual YearBuilt YearRemodAdd      ...       \\\n",
       "0           2            0    modern        Never      ...        \n",
       "1           1            0     newer        Never      ...        \n",
       "2           2            0     newer       recent      ...        \n",
       "3           2            0   ancient     long ago      ...        \n",
       "4           2            1     newer        Never      ...        \n",
       "\n",
       "  LogTotalBsmtSF  HeatingQC Log1stFlrSF 2ndFlr  LogGrLivArea  TotalArea  \\\n",
       "0       6.753438          4    6.752270      1      7.444249     2566.0   \n",
       "1       7.141245          4    7.140453      0      7.140453     2524.0   \n",
       "2       6.825460          4    6.824374      1      7.487734     2706.0   \n",
       "3       6.629363          3    6.867974      1      7.448334     2473.0   \n",
       "4       7.044033          4    7.043160      1      7.695303     3343.0   \n",
       "\n",
       "   LogTotalArea  FullBath  HalfBath  BedroomAbvGr  \n",
       "0      7.850104       3.0       1.0             3  \n",
       "1      7.833600       2.0       1.0             3  \n",
       "2      7.903227       3.0       1.0             3  \n",
       "3      7.813187       2.0       0.0             3  \n",
       "4      8.114624       3.0       1.0             4  \n",
       "\n",
       "[5 rows x 27 columns]"
      ]
     },
     "execution_count": 169,
     "metadata": {},
     "output_type": "execute_result"
    }
   ],
   "source": [
    "new.head()"
   ]
  },
  {
   "cell_type": "markdown",
   "metadata": {},
   "source": [
    "## KitchenAbvGr"
   ]
  },
  {
   "cell_type": "code",
   "execution_count": 170,
   "metadata": {
    "collapsed": false
   },
   "outputs": [
    {
     "data": {
      "text/plain": [
       "1    2785\n",
       "2     129\n",
       "0       3\n",
       "3       2\n",
       "Name: KitchenAbvGr, dtype: int64"
      ]
     },
     "execution_count": 170,
     "metadata": {},
     "output_type": "execute_result"
    }
   ],
   "source": [
    "data[\"KitchenAbvGr\"].value_counts()"
   ]
  },
  {
   "cell_type": "code",
   "execution_count": 171,
   "metadata": {
    "collapsed": false
   },
   "outputs": [
    {
     "data": {
      "text/plain": [
       "0"
      ]
     },
     "execution_count": 171,
     "metadata": {},
     "output_type": "execute_result"
    }
   ],
   "source": [
    "data[\"KitchenAbvGr\"].isnull().sum()"
   ]
  },
  {
   "cell_type": "markdown",
   "metadata": {},
   "source": [
    "Drop this variable due to lack of data. Also, KitchenQual assumes that a kitchen is available."
   ]
  },
  {
   "cell_type": "markdown",
   "metadata": {},
   "source": [
    "## KitchenQual"
   ]
  },
  {
   "cell_type": "code",
   "execution_count": 172,
   "metadata": {
    "collapsed": false
   },
   "outputs": [
    {
     "data": {
      "text/plain": [
       "TA    1492\n",
       "Gd    1151\n",
       "Ex     205\n",
       "Fa      70\n",
       "Name: KitchenQual, dtype: int64"
      ]
     },
     "execution_count": 172,
     "metadata": {},
     "output_type": "execute_result"
    }
   ],
   "source": [
    "data[\"KitchenQual\"].value_counts()"
   ]
  },
  {
   "cell_type": "code",
   "execution_count": 173,
   "metadata": {
    "collapsed": false
   },
   "outputs": [
    {
     "data": {
      "text/plain": [
       "1"
      ]
     },
     "execution_count": 173,
     "metadata": {},
     "output_type": "execute_result"
    }
   ],
   "source": [
    "data[\"KitchenQual\"].isnull().sum()"
   ]
  },
  {
   "cell_type": "code",
   "execution_count": 174,
   "metadata": {
    "collapsed": false
   },
   "outputs": [
    {
     "data": {
      "text/plain": [
       "2    1493\n",
       "3    1151\n",
       "4     205\n",
       "1      70\n",
       "Name: KitchenQual, dtype: int64"
      ]
     },
     "execution_count": 174,
     "metadata": {},
     "output_type": "execute_result"
    }
   ],
   "source": [
    "new[\"KitchenQual\"] = data[\"KitchenQual\"].fillna(\"TA\").map({\"Ex\": 4, \"Gd\": 3, \"TA\": 2, \"Fa\": 1, \"Po\": 1})\n",
    "new[\"KitchenQual\"].value_counts()"
   ]
  },
  {
   "cell_type": "code",
   "execution_count": 175,
   "metadata": {
    "collapsed": false
   },
   "outputs": [
    {
     "data": {
      "text/html": [
       "<div>\n",
       "<table border=\"1\" class=\"dataframe\">\n",
       "  <thead>\n",
       "    <tr style=\"text-align: right;\">\n",
       "      <th></th>\n",
       "      <th>MSSubClass</th>\n",
       "      <th>LotFrontage</th>\n",
       "      <th>LogLotArea</th>\n",
       "      <th>LotShape</th>\n",
       "      <th>LotConfig</th>\n",
       "      <th>Neighborhood</th>\n",
       "      <th>HouseStyle</th>\n",
       "      <th>OverallQual</th>\n",
       "      <th>YearBuilt</th>\n",
       "      <th>YearRemodAdd</th>\n",
       "      <th>...</th>\n",
       "      <th>HeatingQC</th>\n",
       "      <th>Log1stFlrSF</th>\n",
       "      <th>2ndFlr</th>\n",
       "      <th>LogGrLivArea</th>\n",
       "      <th>TotalArea</th>\n",
       "      <th>LogTotalArea</th>\n",
       "      <th>FullBath</th>\n",
       "      <th>HalfBath</th>\n",
       "      <th>BedroomAbvGr</th>\n",
       "      <th>KitchenQual</th>\n",
       "    </tr>\n",
       "  </thead>\n",
       "  <tbody>\n",
       "    <tr>\n",
       "      <th>0</th>\n",
       "      <td>1</td>\n",
       "      <td>65.0</td>\n",
       "      <td>9.041922</td>\n",
       "      <td>1</td>\n",
       "      <td>Inside</td>\n",
       "      <td>CollgCr</td>\n",
       "      <td>2</td>\n",
       "      <td>0</td>\n",
       "      <td>modern</td>\n",
       "      <td>Never</td>\n",
       "      <td>...</td>\n",
       "      <td>4</td>\n",
       "      <td>6.752270</td>\n",
       "      <td>1</td>\n",
       "      <td>7.444249</td>\n",
       "      <td>2566.0</td>\n",
       "      <td>7.850104</td>\n",
       "      <td>3.0</td>\n",
       "      <td>1.0</td>\n",
       "      <td>3</td>\n",
       "      <td>3</td>\n",
       "    </tr>\n",
       "    <tr>\n",
       "      <th>1</th>\n",
       "      <td>1</td>\n",
       "      <td>80.0</td>\n",
       "      <td>9.169518</td>\n",
       "      <td>1</td>\n",
       "      <td>FR</td>\n",
       "      <td>Veenker</td>\n",
       "      <td>1</td>\n",
       "      <td>0</td>\n",
       "      <td>newer</td>\n",
       "      <td>Never</td>\n",
       "      <td>...</td>\n",
       "      <td>4</td>\n",
       "      <td>7.140453</td>\n",
       "      <td>0</td>\n",
       "      <td>7.140453</td>\n",
       "      <td>2524.0</td>\n",
       "      <td>7.833600</td>\n",
       "      <td>2.0</td>\n",
       "      <td>1.0</td>\n",
       "      <td>3</td>\n",
       "      <td>2</td>\n",
       "    </tr>\n",
       "    <tr>\n",
       "      <th>2</th>\n",
       "      <td>1</td>\n",
       "      <td>68.0</td>\n",
       "      <td>9.328123</td>\n",
       "      <td>0</td>\n",
       "      <td>Inside</td>\n",
       "      <td>CollgCr</td>\n",
       "      <td>2</td>\n",
       "      <td>0</td>\n",
       "      <td>newer</td>\n",
       "      <td>recent</td>\n",
       "      <td>...</td>\n",
       "      <td>4</td>\n",
       "      <td>6.824374</td>\n",
       "      <td>1</td>\n",
       "      <td>7.487734</td>\n",
       "      <td>2706.0</td>\n",
       "      <td>7.903227</td>\n",
       "      <td>3.0</td>\n",
       "      <td>1.0</td>\n",
       "      <td>3</td>\n",
       "      <td>3</td>\n",
       "    </tr>\n",
       "    <tr>\n",
       "      <th>3</th>\n",
       "      <td>2</td>\n",
       "      <td>60.0</td>\n",
       "      <td>9.164296</td>\n",
       "      <td>0</td>\n",
       "      <td>Corner</td>\n",
       "      <td>Crawfor</td>\n",
       "      <td>2</td>\n",
       "      <td>0</td>\n",
       "      <td>ancient</td>\n",
       "      <td>long ago</td>\n",
       "      <td>...</td>\n",
       "      <td>3</td>\n",
       "      <td>6.867974</td>\n",
       "      <td>1</td>\n",
       "      <td>7.448334</td>\n",
       "      <td>2473.0</td>\n",
       "      <td>7.813187</td>\n",
       "      <td>2.0</td>\n",
       "      <td>0.0</td>\n",
       "      <td>3</td>\n",
       "      <td>3</td>\n",
       "    </tr>\n",
       "    <tr>\n",
       "      <th>4</th>\n",
       "      <td>1</td>\n",
       "      <td>84.0</td>\n",
       "      <td>9.565214</td>\n",
       "      <td>0</td>\n",
       "      <td>FR</td>\n",
       "      <td>NoRidge</td>\n",
       "      <td>2</td>\n",
       "      <td>1</td>\n",
       "      <td>newer</td>\n",
       "      <td>Never</td>\n",
       "      <td>...</td>\n",
       "      <td>4</td>\n",
       "      <td>7.043160</td>\n",
       "      <td>1</td>\n",
       "      <td>7.695303</td>\n",
       "      <td>3343.0</td>\n",
       "      <td>8.114624</td>\n",
       "      <td>3.0</td>\n",
       "      <td>1.0</td>\n",
       "      <td>4</td>\n",
       "      <td>3</td>\n",
       "    </tr>\n",
       "  </tbody>\n",
       "</table>\n",
       "<p>5 rows × 28 columns</p>\n",
       "</div>"
      ],
      "text/plain": [
       "   MSSubClass  LotFrontage  LogLotArea  LotShape LotConfig Neighborhood  \\\n",
       "0           1         65.0    9.041922         1    Inside      CollgCr   \n",
       "1           1         80.0    9.169518         1        FR      Veenker   \n",
       "2           1         68.0    9.328123         0    Inside      CollgCr   \n",
       "3           2         60.0    9.164296         0    Corner      Crawfor   \n",
       "4           1         84.0    9.565214         0        FR      NoRidge   \n",
       "\n",
       "   HouseStyle  OverallQual YearBuilt YearRemodAdd     ...      HeatingQC  \\\n",
       "0           2            0    modern        Never     ...              4   \n",
       "1           1            0     newer        Never     ...              4   \n",
       "2           2            0     newer       recent     ...              4   \n",
       "3           2            0   ancient     long ago     ...              3   \n",
       "4           2            1     newer        Never     ...              4   \n",
       "\n",
       "   Log1stFlrSF 2ndFlr LogGrLivArea  TotalArea  LogTotalArea  FullBath  \\\n",
       "0     6.752270      1     7.444249     2566.0      7.850104       3.0   \n",
       "1     7.140453      0     7.140453     2524.0      7.833600       2.0   \n",
       "2     6.824374      1     7.487734     2706.0      7.903227       3.0   \n",
       "3     6.867974      1     7.448334     2473.0      7.813187       2.0   \n",
       "4     7.043160      1     7.695303     3343.0      8.114624       3.0   \n",
       "\n",
       "   HalfBath  BedroomAbvGr  KitchenQual  \n",
       "0       1.0             3            3  \n",
       "1       1.0             3            2  \n",
       "2       1.0             3            3  \n",
       "3       0.0             3            3  \n",
       "4       1.0             4            3  \n",
       "\n",
       "[5 rows x 28 columns]"
      ]
     },
     "execution_count": 175,
     "metadata": {},
     "output_type": "execute_result"
    }
   ],
   "source": [
    "new.head()"
   ]
  },
  {
   "cell_type": "markdown",
   "metadata": {},
   "source": [
    "## TotRmsAbvGrd"
   ]
  },
  {
   "cell_type": "code",
   "execution_count": 176,
   "metadata": {
    "collapsed": false
   },
   "outputs": [
    {
     "data": {
      "text/html": [
       "<iframe id=\"igraph\" scrolling=\"no\" style=\"border:none;\" seamless=\"seamless\" src=\"https://plot.ly/~dsnair/192.embed\" height=\"525px\" width=\"100%\"></iframe>"
      ],
      "text/plain": [
       "<plotly.tools.PlotlyDisplay object>"
      ]
     },
     "execution_count": 176,
     "metadata": {},
     "output_type": "execute_result"
    }
   ],
   "source": [
    "freq = data[\"TotRmsAbvGrd\"].value_counts()\n",
    "py.iplot([go.Bar(x = freq.keys(), y = freq.values)])"
   ]
  },
  {
   "cell_type": "code",
   "execution_count": 177,
   "metadata": {
    "collapsed": false
   },
   "outputs": [
    {
     "data": {
      "text/plain": [
       "6    844\n",
       "7    649\n",
       "5    583\n",
       "8    347\n",
       "9    274\n",
       "4    222\n",
       "Name: TotRmsAbvGrd, dtype: int64"
      ]
     },
     "execution_count": 177,
     "metadata": {},
     "output_type": "execute_result"
    }
   ],
   "source": [
    "new[\"TotRmsAbvGrd\"] = data[\"TotRmsAbvGrd\"].replace([2, 3], 4).replace([10, 11, 12, 13, 14, 15], 9)\n",
    "new[\"TotRmsAbvGrd\"].value_counts()"
   ]
  },
  {
   "cell_type": "markdown",
   "metadata": {},
   "source": [
    "## Functional"
   ]
  },
  {
   "cell_type": "code",
   "execution_count": 178,
   "metadata": {
    "collapsed": false
   },
   "outputs": [
    {
     "data": {
      "text/plain": [
       "Typ     2717\n",
       "Min2      70\n",
       "Min1      65\n",
       "Mod       35\n",
       "Maj1      19\n",
       "Maj2       9\n",
       "Sev        2\n",
       "Name: Functional, dtype: int64"
      ]
     },
     "execution_count": 178,
     "metadata": {},
     "output_type": "execute_result"
    }
   ],
   "source": [
    "data[\"Functional\"].value_counts()"
   ]
  },
  {
   "cell_type": "code",
   "execution_count": 179,
   "metadata": {
    "collapsed": false
   },
   "outputs": [
    {
     "data": {
      "text/plain": [
       "2"
      ]
     },
     "execution_count": 179,
     "metadata": {},
     "output_type": "execute_result"
    }
   ],
   "source": [
    "data[\"Functional\"].isnull().sum()"
   ]
  },
  {
   "cell_type": "markdown",
   "metadata": {},
   "source": [
    "Typical home functionality?: Y (1) or No (0)"
   ]
  },
  {
   "cell_type": "code",
   "execution_count": 180,
   "metadata": {
    "collapsed": false
   },
   "outputs": [
    {
     "data": {
      "text/plain": [
       "1    2719\n",
       "0     200\n",
       "dtype: int64"
      ]
     },
     "execution_count": 180,
     "metadata": {},
     "output_type": "execute_result"
    }
   ],
   "source": [
    "data[\"Functional\"] = data[\"Functional\"].fillna(\"Typ\")\n",
    "Functional = pd.Series(np.where(data[\"Functional\"] == \"Typ\", 1, 0))\n",
    "Functional.value_counts()"
   ]
  },
  {
   "cell_type": "markdown",
   "metadata": {},
   "source": [
    "Drop this variable since it lacks variability."
   ]
  },
  {
   "cell_type": "markdown",
   "metadata": {},
   "source": [
    "## Fireplaces"
   ]
  },
  {
   "cell_type": "code",
   "execution_count": 181,
   "metadata": {
    "collapsed": false
   },
   "outputs": [
    {
     "data": {
      "text/plain": [
       "0"
      ]
     },
     "execution_count": 181,
     "metadata": {},
     "output_type": "execute_result"
    }
   ],
   "source": [
    "data[\"Fireplaces\"].isnull().sum()"
   ]
  },
  {
   "cell_type": "code",
   "execution_count": 182,
   "metadata": {
    "collapsed": false
   },
   "outputs": [
    {
     "data": {
      "text/plain": [
       "0    1420\n",
       "1    1268\n",
       "2     219\n",
       "3      11\n",
       "4       1\n",
       "Name: Fireplaces, dtype: int64"
      ]
     },
     "execution_count": 182,
     "metadata": {},
     "output_type": "execute_result"
    }
   ],
   "source": [
    "data[\"Fireplaces\"].value_counts()"
   ]
  },
  {
   "cell_type": "markdown",
   "metadata": {},
   "source": [
    "Has a fireplace?: Y (1) or No (0)"
   ]
  },
  {
   "cell_type": "code",
   "execution_count": 183,
   "metadata": {
    "collapsed": false
   },
   "outputs": [
    {
     "data": {
      "text/plain": [
       "1    1499\n",
       "0    1420\n",
       "Name: Fireplaces, dtype: int64"
      ]
     },
     "execution_count": 183,
     "metadata": {},
     "output_type": "execute_result"
    }
   ],
   "source": [
    "new[\"Fireplaces\"] = np.where(data[\"Fireplaces\"] > 0, 1, 0)\n",
    "new[\"Fireplaces\"].value_counts()"
   ]
  },
  {
   "cell_type": "code",
   "execution_count": 184,
   "metadata": {
    "collapsed": false
   },
   "outputs": [
    {
     "data": {
      "text/html": [
       "<div>\n",
       "<table border=\"1\" class=\"dataframe\">\n",
       "  <thead>\n",
       "    <tr style=\"text-align: right;\">\n",
       "      <th></th>\n",
       "      <th>MSSubClass</th>\n",
       "      <th>LotFrontage</th>\n",
       "      <th>LogLotArea</th>\n",
       "      <th>LotShape</th>\n",
       "      <th>LotConfig</th>\n",
       "      <th>Neighborhood</th>\n",
       "      <th>HouseStyle</th>\n",
       "      <th>OverallQual</th>\n",
       "      <th>YearBuilt</th>\n",
       "      <th>YearRemodAdd</th>\n",
       "      <th>...</th>\n",
       "      <th>2ndFlr</th>\n",
       "      <th>LogGrLivArea</th>\n",
       "      <th>TotalArea</th>\n",
       "      <th>LogTotalArea</th>\n",
       "      <th>FullBath</th>\n",
       "      <th>HalfBath</th>\n",
       "      <th>BedroomAbvGr</th>\n",
       "      <th>KitchenQual</th>\n",
       "      <th>TotRmsAbvGrd</th>\n",
       "      <th>Fireplaces</th>\n",
       "    </tr>\n",
       "  </thead>\n",
       "  <tbody>\n",
       "    <tr>\n",
       "      <th>0</th>\n",
       "      <td>1</td>\n",
       "      <td>65.0</td>\n",
       "      <td>9.041922</td>\n",
       "      <td>1</td>\n",
       "      <td>Inside</td>\n",
       "      <td>CollgCr</td>\n",
       "      <td>2</td>\n",
       "      <td>0</td>\n",
       "      <td>modern</td>\n",
       "      <td>Never</td>\n",
       "      <td>...</td>\n",
       "      <td>1</td>\n",
       "      <td>7.444249</td>\n",
       "      <td>2566.0</td>\n",
       "      <td>7.850104</td>\n",
       "      <td>3.0</td>\n",
       "      <td>1.0</td>\n",
       "      <td>3</td>\n",
       "      <td>3</td>\n",
       "      <td>8</td>\n",
       "      <td>0</td>\n",
       "    </tr>\n",
       "    <tr>\n",
       "      <th>1</th>\n",
       "      <td>1</td>\n",
       "      <td>80.0</td>\n",
       "      <td>9.169518</td>\n",
       "      <td>1</td>\n",
       "      <td>FR</td>\n",
       "      <td>Veenker</td>\n",
       "      <td>1</td>\n",
       "      <td>0</td>\n",
       "      <td>newer</td>\n",
       "      <td>Never</td>\n",
       "      <td>...</td>\n",
       "      <td>0</td>\n",
       "      <td>7.140453</td>\n",
       "      <td>2524.0</td>\n",
       "      <td>7.833600</td>\n",
       "      <td>2.0</td>\n",
       "      <td>1.0</td>\n",
       "      <td>3</td>\n",
       "      <td>2</td>\n",
       "      <td>6</td>\n",
       "      <td>1</td>\n",
       "    </tr>\n",
       "    <tr>\n",
       "      <th>2</th>\n",
       "      <td>1</td>\n",
       "      <td>68.0</td>\n",
       "      <td>9.328123</td>\n",
       "      <td>0</td>\n",
       "      <td>Inside</td>\n",
       "      <td>CollgCr</td>\n",
       "      <td>2</td>\n",
       "      <td>0</td>\n",
       "      <td>newer</td>\n",
       "      <td>recent</td>\n",
       "      <td>...</td>\n",
       "      <td>1</td>\n",
       "      <td>7.487734</td>\n",
       "      <td>2706.0</td>\n",
       "      <td>7.903227</td>\n",
       "      <td>3.0</td>\n",
       "      <td>1.0</td>\n",
       "      <td>3</td>\n",
       "      <td>3</td>\n",
       "      <td>6</td>\n",
       "      <td>1</td>\n",
       "    </tr>\n",
       "    <tr>\n",
       "      <th>3</th>\n",
       "      <td>2</td>\n",
       "      <td>60.0</td>\n",
       "      <td>9.164296</td>\n",
       "      <td>0</td>\n",
       "      <td>Corner</td>\n",
       "      <td>Crawfor</td>\n",
       "      <td>2</td>\n",
       "      <td>0</td>\n",
       "      <td>ancient</td>\n",
       "      <td>long ago</td>\n",
       "      <td>...</td>\n",
       "      <td>1</td>\n",
       "      <td>7.448334</td>\n",
       "      <td>2473.0</td>\n",
       "      <td>7.813187</td>\n",
       "      <td>2.0</td>\n",
       "      <td>0.0</td>\n",
       "      <td>3</td>\n",
       "      <td>3</td>\n",
       "      <td>7</td>\n",
       "      <td>1</td>\n",
       "    </tr>\n",
       "    <tr>\n",
       "      <th>4</th>\n",
       "      <td>1</td>\n",
       "      <td>84.0</td>\n",
       "      <td>9.565214</td>\n",
       "      <td>0</td>\n",
       "      <td>FR</td>\n",
       "      <td>NoRidge</td>\n",
       "      <td>2</td>\n",
       "      <td>1</td>\n",
       "      <td>newer</td>\n",
       "      <td>Never</td>\n",
       "      <td>...</td>\n",
       "      <td>1</td>\n",
       "      <td>7.695303</td>\n",
       "      <td>3343.0</td>\n",
       "      <td>8.114624</td>\n",
       "      <td>3.0</td>\n",
       "      <td>1.0</td>\n",
       "      <td>4</td>\n",
       "      <td>3</td>\n",
       "      <td>9</td>\n",
       "      <td>1</td>\n",
       "    </tr>\n",
       "  </tbody>\n",
       "</table>\n",
       "<p>5 rows × 30 columns</p>\n",
       "</div>"
      ],
      "text/plain": [
       "   MSSubClass  LotFrontage  LogLotArea  LotShape LotConfig Neighborhood  \\\n",
       "0           1         65.0    9.041922         1    Inside      CollgCr   \n",
       "1           1         80.0    9.169518         1        FR      Veenker   \n",
       "2           1         68.0    9.328123         0    Inside      CollgCr   \n",
       "3           2         60.0    9.164296         0    Corner      Crawfor   \n",
       "4           1         84.0    9.565214         0        FR      NoRidge   \n",
       "\n",
       "   HouseStyle  OverallQual YearBuilt YearRemodAdd     ...     2ndFlr  \\\n",
       "0           2            0    modern        Never     ...          1   \n",
       "1           1            0     newer        Never     ...          0   \n",
       "2           2            0     newer       recent     ...          1   \n",
       "3           2            0   ancient     long ago     ...          1   \n",
       "4           2            1     newer        Never     ...          1   \n",
       "\n",
       "   LogGrLivArea TotalArea LogTotalArea  FullBath  HalfBath  BedroomAbvGr  \\\n",
       "0      7.444249    2566.0     7.850104       3.0       1.0             3   \n",
       "1      7.140453    2524.0     7.833600       2.0       1.0             3   \n",
       "2      7.487734    2706.0     7.903227       3.0       1.0             3   \n",
       "3      7.448334    2473.0     7.813187       2.0       0.0             3   \n",
       "4      7.695303    3343.0     8.114624       3.0       1.0             4   \n",
       "\n",
       "   KitchenQual  TotRmsAbvGrd  Fireplaces  \n",
       "0            3             8           0  \n",
       "1            2             6           1  \n",
       "2            3             6           1  \n",
       "3            3             7           1  \n",
       "4            3             9           1  \n",
       "\n",
       "[5 rows x 30 columns]"
      ]
     },
     "execution_count": 184,
     "metadata": {},
     "output_type": "execute_result"
    }
   ],
   "source": [
    "new.head()"
   ]
  },
  {
   "cell_type": "markdown",
   "metadata": {},
   "source": [
    "## FireplaceQu"
   ]
  },
  {
   "cell_type": "code",
   "execution_count": 185,
   "metadata": {
    "collapsed": false
   },
   "outputs": [
    {
     "data": {
      "text/plain": [
       "1420"
      ]
     },
     "execution_count": 185,
     "metadata": {},
     "output_type": "execute_result"
    }
   ],
   "source": [
    "data[\"FireplaceQu\"].isnull().sum()"
   ]
  },
  {
   "cell_type": "code",
   "execution_count": 186,
   "metadata": {
    "collapsed": false
   },
   "outputs": [
    {
     "data": {
      "text/plain": [
       "Gd    744\n",
       "TA    592\n",
       "Fa     74\n",
       "Po     46\n",
       "Ex     43\n",
       "Name: FireplaceQu, dtype: int64"
      ]
     },
     "execution_count": 186,
     "metadata": {},
     "output_type": "execute_result"
    }
   ],
   "source": [
    "data[\"FireplaceQu\"].value_counts()"
   ]
  },
  {
   "cell_type": "markdown",
   "metadata": {},
   "source": [
    "NA means no fireplace, and not missing."
   ]
  },
  {
   "cell_type": "code",
   "execution_count": 187,
   "metadata": {
    "collapsed": false
   },
   "outputs": [
    {
     "data": {
      "text/plain": [
       "0    1420\n",
       "3     787\n",
       "2     592\n",
       "1     120\n",
       "Name: FireplaceQu, dtype: int64"
      ]
     },
     "execution_count": 187,
     "metadata": {},
     "output_type": "execute_result"
    }
   ],
   "source": [
    "new[\"FireplaceQu\"] = data[\"FireplaceQu\"].fillna(\"None\").map({\"Ex\": 3, \"Gd\": 3, \"TA\": 2, \"Fa\": 1, \"Po\": 1, \"None\": 0})\n",
    "new[\"FireplaceQu\"].value_counts()"
   ]
  },
  {
   "cell_type": "code",
   "execution_count": 188,
   "metadata": {
    "collapsed": false
   },
   "outputs": [
    {
     "data": {
      "text/html": [
       "<div>\n",
       "<table border=\"1\" class=\"dataframe\">\n",
       "  <thead>\n",
       "    <tr style=\"text-align: right;\">\n",
       "      <th></th>\n",
       "      <th>MSSubClass</th>\n",
       "      <th>LotFrontage</th>\n",
       "      <th>LogLotArea</th>\n",
       "      <th>LotShape</th>\n",
       "      <th>LotConfig</th>\n",
       "      <th>Neighborhood</th>\n",
       "      <th>HouseStyle</th>\n",
       "      <th>OverallQual</th>\n",
       "      <th>YearBuilt</th>\n",
       "      <th>YearRemodAdd</th>\n",
       "      <th>...</th>\n",
       "      <th>LogGrLivArea</th>\n",
       "      <th>TotalArea</th>\n",
       "      <th>LogTotalArea</th>\n",
       "      <th>FullBath</th>\n",
       "      <th>HalfBath</th>\n",
       "      <th>BedroomAbvGr</th>\n",
       "      <th>KitchenQual</th>\n",
       "      <th>TotRmsAbvGrd</th>\n",
       "      <th>Fireplaces</th>\n",
       "      <th>FireplaceQu</th>\n",
       "    </tr>\n",
       "  </thead>\n",
       "  <tbody>\n",
       "    <tr>\n",
       "      <th>0</th>\n",
       "      <td>1</td>\n",
       "      <td>65.0</td>\n",
       "      <td>9.041922</td>\n",
       "      <td>1</td>\n",
       "      <td>Inside</td>\n",
       "      <td>CollgCr</td>\n",
       "      <td>2</td>\n",
       "      <td>0</td>\n",
       "      <td>modern</td>\n",
       "      <td>Never</td>\n",
       "      <td>...</td>\n",
       "      <td>7.444249</td>\n",
       "      <td>2566.0</td>\n",
       "      <td>7.850104</td>\n",
       "      <td>3.0</td>\n",
       "      <td>1.0</td>\n",
       "      <td>3</td>\n",
       "      <td>3</td>\n",
       "      <td>8</td>\n",
       "      <td>0</td>\n",
       "      <td>0</td>\n",
       "    </tr>\n",
       "    <tr>\n",
       "      <th>1</th>\n",
       "      <td>1</td>\n",
       "      <td>80.0</td>\n",
       "      <td>9.169518</td>\n",
       "      <td>1</td>\n",
       "      <td>FR</td>\n",
       "      <td>Veenker</td>\n",
       "      <td>1</td>\n",
       "      <td>0</td>\n",
       "      <td>newer</td>\n",
       "      <td>Never</td>\n",
       "      <td>...</td>\n",
       "      <td>7.140453</td>\n",
       "      <td>2524.0</td>\n",
       "      <td>7.833600</td>\n",
       "      <td>2.0</td>\n",
       "      <td>1.0</td>\n",
       "      <td>3</td>\n",
       "      <td>2</td>\n",
       "      <td>6</td>\n",
       "      <td>1</td>\n",
       "      <td>2</td>\n",
       "    </tr>\n",
       "    <tr>\n",
       "      <th>2</th>\n",
       "      <td>1</td>\n",
       "      <td>68.0</td>\n",
       "      <td>9.328123</td>\n",
       "      <td>0</td>\n",
       "      <td>Inside</td>\n",
       "      <td>CollgCr</td>\n",
       "      <td>2</td>\n",
       "      <td>0</td>\n",
       "      <td>newer</td>\n",
       "      <td>recent</td>\n",
       "      <td>...</td>\n",
       "      <td>7.487734</td>\n",
       "      <td>2706.0</td>\n",
       "      <td>7.903227</td>\n",
       "      <td>3.0</td>\n",
       "      <td>1.0</td>\n",
       "      <td>3</td>\n",
       "      <td>3</td>\n",
       "      <td>6</td>\n",
       "      <td>1</td>\n",
       "      <td>2</td>\n",
       "    </tr>\n",
       "    <tr>\n",
       "      <th>3</th>\n",
       "      <td>2</td>\n",
       "      <td>60.0</td>\n",
       "      <td>9.164296</td>\n",
       "      <td>0</td>\n",
       "      <td>Corner</td>\n",
       "      <td>Crawfor</td>\n",
       "      <td>2</td>\n",
       "      <td>0</td>\n",
       "      <td>ancient</td>\n",
       "      <td>long ago</td>\n",
       "      <td>...</td>\n",
       "      <td>7.448334</td>\n",
       "      <td>2473.0</td>\n",
       "      <td>7.813187</td>\n",
       "      <td>2.0</td>\n",
       "      <td>0.0</td>\n",
       "      <td>3</td>\n",
       "      <td>3</td>\n",
       "      <td>7</td>\n",
       "      <td>1</td>\n",
       "      <td>3</td>\n",
       "    </tr>\n",
       "    <tr>\n",
       "      <th>4</th>\n",
       "      <td>1</td>\n",
       "      <td>84.0</td>\n",
       "      <td>9.565214</td>\n",
       "      <td>0</td>\n",
       "      <td>FR</td>\n",
       "      <td>NoRidge</td>\n",
       "      <td>2</td>\n",
       "      <td>1</td>\n",
       "      <td>newer</td>\n",
       "      <td>Never</td>\n",
       "      <td>...</td>\n",
       "      <td>7.695303</td>\n",
       "      <td>3343.0</td>\n",
       "      <td>8.114624</td>\n",
       "      <td>3.0</td>\n",
       "      <td>1.0</td>\n",
       "      <td>4</td>\n",
       "      <td>3</td>\n",
       "      <td>9</td>\n",
       "      <td>1</td>\n",
       "      <td>2</td>\n",
       "    </tr>\n",
       "  </tbody>\n",
       "</table>\n",
       "<p>5 rows × 31 columns</p>\n",
       "</div>"
      ],
      "text/plain": [
       "   MSSubClass  LotFrontage  LogLotArea  LotShape LotConfig Neighborhood  \\\n",
       "0           1         65.0    9.041922         1    Inside      CollgCr   \n",
       "1           1         80.0    9.169518         1        FR      Veenker   \n",
       "2           1         68.0    9.328123         0    Inside      CollgCr   \n",
       "3           2         60.0    9.164296         0    Corner      Crawfor   \n",
       "4           1         84.0    9.565214         0        FR      NoRidge   \n",
       "\n",
       "   HouseStyle  OverallQual YearBuilt YearRemodAdd     ...      LogGrLivArea  \\\n",
       "0           2            0    modern        Never     ...          7.444249   \n",
       "1           1            0     newer        Never     ...          7.140453   \n",
       "2           2            0     newer       recent     ...          7.487734   \n",
       "3           2            0   ancient     long ago     ...          7.448334   \n",
       "4           2            1     newer        Never     ...          7.695303   \n",
       "\n",
       "   TotalArea LogTotalArea FullBath  HalfBath  BedroomAbvGr  KitchenQual  \\\n",
       "0     2566.0     7.850104      3.0       1.0             3            3   \n",
       "1     2524.0     7.833600      2.0       1.0             3            2   \n",
       "2     2706.0     7.903227      3.0       1.0             3            3   \n",
       "3     2473.0     7.813187      2.0       0.0             3            3   \n",
       "4     3343.0     8.114624      3.0       1.0             4            3   \n",
       "\n",
       "   TotRmsAbvGrd  Fireplaces  FireplaceQu  \n",
       "0             8           0            0  \n",
       "1             6           1            2  \n",
       "2             6           1            2  \n",
       "3             7           1            3  \n",
       "4             9           1            2  \n",
       "\n",
       "[5 rows x 31 columns]"
      ]
     },
     "execution_count": 188,
     "metadata": {},
     "output_type": "execute_result"
    }
   ],
   "source": [
    "new.head()"
   ]
  },
  {
   "cell_type": "markdown",
   "metadata": {},
   "source": [
    "## GarageType"
   ]
  },
  {
   "cell_type": "code",
   "execution_count": 189,
   "metadata": {
    "collapsed": false
   },
   "outputs": [
    {
     "data": {
      "text/plain": [
       "157"
      ]
     },
     "execution_count": 189,
     "metadata": {},
     "output_type": "execute_result"
    }
   ],
   "source": [
    "data[\"GarageType\"].isnull().sum()"
   ]
  },
  {
   "cell_type": "markdown",
   "metadata": {},
   "source": [
    "NA means No Garage, and doesn't mean missing."
   ]
  },
  {
   "cell_type": "code",
   "execution_count": 190,
   "metadata": {
    "collapsed": false,
    "scrolled": true
   },
   "outputs": [
    {
     "data": {
      "text/plain": [
       "Attchd     1723\n",
       "Detchd      779\n",
       "BuiltIn     186\n",
       "None        157\n",
       "Basment      36\n",
       "2Types       23\n",
       "CarPort      15\n",
       "Name: GarageType, dtype: int64"
      ]
     },
     "execution_count": 190,
     "metadata": {},
     "output_type": "execute_result"
    }
   ],
   "source": [
    "data[\"GarageType\"] = data[\"GarageType\"].fillna(\"None\")\n",
    "data[\"GarageType\"].value_counts()"
   ]
  },
  {
   "cell_type": "code",
   "execution_count": 191,
   "metadata": {
    "collapsed": false
   },
   "outputs": [
    {
     "data": {
      "text/plain": [
       "Attchd     1723\n",
       "Detchd      779\n",
       "BuiltIn     186\n",
       "None        157\n",
       "Other        74\n",
       "Name: GarageType, dtype: int64"
      ]
     },
     "execution_count": 191,
     "metadata": {},
     "output_type": "execute_result"
    }
   ],
   "source": [
    "new[\"GarageType\"] = data[\"GarageType\"].replace([\"Basment\", \"2Types\", \"CarPort\"], \"Other\")\n",
    "new[\"GarageType\"].value_counts()"
   ]
  },
  {
   "cell_type": "code",
   "execution_count": 192,
   "metadata": {
    "collapsed": false
   },
   "outputs": [
    {
     "data": {
      "text/html": [
       "<div>\n",
       "<table border=\"1\" class=\"dataframe\">\n",
       "  <thead>\n",
       "    <tr style=\"text-align: right;\">\n",
       "      <th></th>\n",
       "      <th>MSSubClass</th>\n",
       "      <th>LotFrontage</th>\n",
       "      <th>LogLotArea</th>\n",
       "      <th>LotShape</th>\n",
       "      <th>LotConfig</th>\n",
       "      <th>Neighborhood</th>\n",
       "      <th>HouseStyle</th>\n",
       "      <th>OverallQual</th>\n",
       "      <th>YearBuilt</th>\n",
       "      <th>YearRemodAdd</th>\n",
       "      <th>...</th>\n",
       "      <th>TotalArea</th>\n",
       "      <th>LogTotalArea</th>\n",
       "      <th>FullBath</th>\n",
       "      <th>HalfBath</th>\n",
       "      <th>BedroomAbvGr</th>\n",
       "      <th>KitchenQual</th>\n",
       "      <th>TotRmsAbvGrd</th>\n",
       "      <th>Fireplaces</th>\n",
       "      <th>FireplaceQu</th>\n",
       "      <th>GarageType</th>\n",
       "    </tr>\n",
       "  </thead>\n",
       "  <tbody>\n",
       "    <tr>\n",
       "      <th>0</th>\n",
       "      <td>1</td>\n",
       "      <td>65.0</td>\n",
       "      <td>9.041922</td>\n",
       "      <td>1</td>\n",
       "      <td>Inside</td>\n",
       "      <td>CollgCr</td>\n",
       "      <td>2</td>\n",
       "      <td>0</td>\n",
       "      <td>modern</td>\n",
       "      <td>Never</td>\n",
       "      <td>...</td>\n",
       "      <td>2566.0</td>\n",
       "      <td>7.850104</td>\n",
       "      <td>3.0</td>\n",
       "      <td>1.0</td>\n",
       "      <td>3</td>\n",
       "      <td>3</td>\n",
       "      <td>8</td>\n",
       "      <td>0</td>\n",
       "      <td>0</td>\n",
       "      <td>Attchd</td>\n",
       "    </tr>\n",
       "    <tr>\n",
       "      <th>1</th>\n",
       "      <td>1</td>\n",
       "      <td>80.0</td>\n",
       "      <td>9.169518</td>\n",
       "      <td>1</td>\n",
       "      <td>FR</td>\n",
       "      <td>Veenker</td>\n",
       "      <td>1</td>\n",
       "      <td>0</td>\n",
       "      <td>newer</td>\n",
       "      <td>Never</td>\n",
       "      <td>...</td>\n",
       "      <td>2524.0</td>\n",
       "      <td>7.833600</td>\n",
       "      <td>2.0</td>\n",
       "      <td>1.0</td>\n",
       "      <td>3</td>\n",
       "      <td>2</td>\n",
       "      <td>6</td>\n",
       "      <td>1</td>\n",
       "      <td>2</td>\n",
       "      <td>Attchd</td>\n",
       "    </tr>\n",
       "    <tr>\n",
       "      <th>2</th>\n",
       "      <td>1</td>\n",
       "      <td>68.0</td>\n",
       "      <td>9.328123</td>\n",
       "      <td>0</td>\n",
       "      <td>Inside</td>\n",
       "      <td>CollgCr</td>\n",
       "      <td>2</td>\n",
       "      <td>0</td>\n",
       "      <td>newer</td>\n",
       "      <td>recent</td>\n",
       "      <td>...</td>\n",
       "      <td>2706.0</td>\n",
       "      <td>7.903227</td>\n",
       "      <td>3.0</td>\n",
       "      <td>1.0</td>\n",
       "      <td>3</td>\n",
       "      <td>3</td>\n",
       "      <td>6</td>\n",
       "      <td>1</td>\n",
       "      <td>2</td>\n",
       "      <td>Attchd</td>\n",
       "    </tr>\n",
       "    <tr>\n",
       "      <th>3</th>\n",
       "      <td>2</td>\n",
       "      <td>60.0</td>\n",
       "      <td>9.164296</td>\n",
       "      <td>0</td>\n",
       "      <td>Corner</td>\n",
       "      <td>Crawfor</td>\n",
       "      <td>2</td>\n",
       "      <td>0</td>\n",
       "      <td>ancient</td>\n",
       "      <td>long ago</td>\n",
       "      <td>...</td>\n",
       "      <td>2473.0</td>\n",
       "      <td>7.813187</td>\n",
       "      <td>2.0</td>\n",
       "      <td>0.0</td>\n",
       "      <td>3</td>\n",
       "      <td>3</td>\n",
       "      <td>7</td>\n",
       "      <td>1</td>\n",
       "      <td>3</td>\n",
       "      <td>Detchd</td>\n",
       "    </tr>\n",
       "    <tr>\n",
       "      <th>4</th>\n",
       "      <td>1</td>\n",
       "      <td>84.0</td>\n",
       "      <td>9.565214</td>\n",
       "      <td>0</td>\n",
       "      <td>FR</td>\n",
       "      <td>NoRidge</td>\n",
       "      <td>2</td>\n",
       "      <td>1</td>\n",
       "      <td>newer</td>\n",
       "      <td>Never</td>\n",
       "      <td>...</td>\n",
       "      <td>3343.0</td>\n",
       "      <td>8.114624</td>\n",
       "      <td>3.0</td>\n",
       "      <td>1.0</td>\n",
       "      <td>4</td>\n",
       "      <td>3</td>\n",
       "      <td>9</td>\n",
       "      <td>1</td>\n",
       "      <td>2</td>\n",
       "      <td>Attchd</td>\n",
       "    </tr>\n",
       "  </tbody>\n",
       "</table>\n",
       "<p>5 rows × 32 columns</p>\n",
       "</div>"
      ],
      "text/plain": [
       "   MSSubClass  LotFrontage  LogLotArea  LotShape LotConfig Neighborhood  \\\n",
       "0           1         65.0    9.041922         1    Inside      CollgCr   \n",
       "1           1         80.0    9.169518         1        FR      Veenker   \n",
       "2           1         68.0    9.328123         0    Inside      CollgCr   \n",
       "3           2         60.0    9.164296         0    Corner      Crawfor   \n",
       "4           1         84.0    9.565214         0        FR      NoRidge   \n",
       "\n",
       "   HouseStyle  OverallQual YearBuilt YearRemodAdd     ...     TotalArea  \\\n",
       "0           2            0    modern        Never     ...        2566.0   \n",
       "1           1            0     newer        Never     ...        2524.0   \n",
       "2           2            0     newer       recent     ...        2706.0   \n",
       "3           2            0   ancient     long ago     ...        2473.0   \n",
       "4           2            1     newer        Never     ...        3343.0   \n",
       "\n",
       "   LogTotalArea FullBath HalfBath  BedroomAbvGr  KitchenQual  TotRmsAbvGrd  \\\n",
       "0      7.850104      3.0      1.0             3            3             8   \n",
       "1      7.833600      2.0      1.0             3            2             6   \n",
       "2      7.903227      3.0      1.0             3            3             6   \n",
       "3      7.813187      2.0      0.0             3            3             7   \n",
       "4      8.114624      3.0      1.0             4            3             9   \n",
       "\n",
       "   Fireplaces  FireplaceQu  GarageType  \n",
       "0           0            0      Attchd  \n",
       "1           1            2      Attchd  \n",
       "2           1            2      Attchd  \n",
       "3           1            3      Detchd  \n",
       "4           1            2      Attchd  \n",
       "\n",
       "[5 rows x 32 columns]"
      ]
     },
     "execution_count": 192,
     "metadata": {},
     "output_type": "execute_result"
    }
   ],
   "source": [
    "new.head()"
   ]
  },
  {
   "cell_type": "markdown",
   "metadata": {},
   "source": [
    "## GarageYrBlt"
   ]
  },
  {
   "cell_type": "code",
   "execution_count": 193,
   "metadata": {
    "collapsed": false
   },
   "outputs": [
    {
     "data": {
      "text/plain": [
       "count    2760.000000\n",
       "mean     1978.113406\n",
       "std        25.574285\n",
       "min      1895.000000\n",
       "25%      1960.000000\n",
       "50%      1979.000000\n",
       "75%      2002.000000\n",
       "max      2207.000000\n",
       "Name: GarageYrBlt, dtype: float64"
      ]
     },
     "execution_count": 193,
     "metadata": {},
     "output_type": "execute_result"
    }
   ],
   "source": [
    "data[\"GarageYrBlt\"].describe()"
   ]
  },
  {
   "cell_type": "code",
   "execution_count": 194,
   "metadata": {
    "collapsed": false
   },
   "outputs": [
    {
     "data": {
      "text/plain": [
       "159"
      ]
     },
     "execution_count": 194,
     "metadata": {},
     "output_type": "execute_result"
    }
   ],
   "source": [
    "data[\"GarageYrBlt\"].isnull().sum()"
   ]
  },
  {
   "cell_type": "markdown",
   "metadata": {},
   "source": [
    "Since 159 houses don't have garages, replace NA with 0, including the max year!"
   ]
  },
  {
   "cell_type": "code",
   "execution_count": 195,
   "metadata": {
    "collapsed": false
   },
   "outputs": [
    {
     "data": {
      "text/plain": [
       "count    2919.000000\n",
       "mean     1869.608085\n",
       "std       450.973653\n",
       "min         0.000000\n",
       "25%      1957.000000\n",
       "50%      1977.000000\n",
       "75%      2001.000000\n",
       "max      2010.000000\n",
       "Name: GarageYrBlt, dtype: float64"
      ]
     },
     "execution_count": 195,
     "metadata": {},
     "output_type": "execute_result"
    }
   ],
   "source": [
    "data[\"GarageYrBlt\"] = data[\"GarageYrBlt\"].fillna(0).replace([data[\"GarageYrBlt\"].max()], 0)\n",
    "data[\"GarageYrBlt\"].describe()"
   ]
  },
  {
   "cell_type": "code",
   "execution_count": 196,
   "metadata": {
    "collapsed": false
   },
   "outputs": [
    {
     "data": {
      "text/plain": [
       "newer      748\n",
       "older      741\n",
       "ancient    730\n",
       "modern     700\n",
       "Name: GarageYrBlt, dtype: int64"
      ]
     },
     "execution_count": 196,
     "metadata": {},
     "output_type": "execute_result"
    }
   ],
   "source": [
    "new[\"GarageYrBlt\"] = pd.qcut(data[\"YearBuilt\"], q = 4, labels = [\"ancient\", \"older\", \"newer\", \"modern\"])\n",
    "new[\"GarageYrBlt\"].value_counts()"
   ]
  },
  {
   "cell_type": "markdown",
   "metadata": {},
   "source": [
    "## GarageFinish"
   ]
  },
  {
   "cell_type": "code",
   "execution_count": 197,
   "metadata": {
    "collapsed": false
   },
   "outputs": [
    {
     "data": {
      "text/plain": [
       "159"
      ]
     },
     "execution_count": 197,
     "metadata": {},
     "output_type": "execute_result"
    }
   ],
   "source": [
    "data[\"GarageFinish\"].isnull().sum()"
   ]
  },
  {
   "cell_type": "markdown",
   "metadata": {},
   "source": [
    "NA means no garage, and not missing."
   ]
  },
  {
   "cell_type": "code",
   "execution_count": 198,
   "metadata": {
    "collapsed": false
   },
   "outputs": [
    {
     "data": {
      "text/plain": [
       "Unf     1230\n",
       "RFn      811\n",
       "Fin      719\n",
       "None     159\n",
       "Name: GarageFinish, dtype: int64"
      ]
     },
     "execution_count": 198,
     "metadata": {},
     "output_type": "execute_result"
    }
   ],
   "source": [
    "data[\"GarageFinish\"] = data[\"GarageFinish\"].fillna(\"None\")\n",
    "data[\"GarageFinish\"].value_counts()"
   ]
  },
  {
   "cell_type": "code",
   "execution_count": 199,
   "metadata": {
    "collapsed": false
   },
   "outputs": [
    {
     "data": {
      "text/plain": [
       "Unf     1230\n",
       "RFn      811\n",
       "Fin      719\n",
       "None     159\n",
       "Name: GarageFinish, dtype: int64"
      ]
     },
     "execution_count": 199,
     "metadata": {},
     "output_type": "execute_result"
    }
   ],
   "source": [
    "new[\"GarageFinish\"] = data[\"GarageFinish\"]\n",
    "new[\"GarageFinish\"].value_counts()"
   ]
  },
  {
   "cell_type": "code",
   "execution_count": 200,
   "metadata": {
    "collapsed": false
   },
   "outputs": [
    {
     "data": {
      "text/html": [
       "<div>\n",
       "<table border=\"1\" class=\"dataframe\">\n",
       "  <thead>\n",
       "    <tr style=\"text-align: right;\">\n",
       "      <th></th>\n",
       "      <th>MSSubClass</th>\n",
       "      <th>LotFrontage</th>\n",
       "      <th>LogLotArea</th>\n",
       "      <th>LotShape</th>\n",
       "      <th>LotConfig</th>\n",
       "      <th>Neighborhood</th>\n",
       "      <th>HouseStyle</th>\n",
       "      <th>OverallQual</th>\n",
       "      <th>YearBuilt</th>\n",
       "      <th>YearRemodAdd</th>\n",
       "      <th>...</th>\n",
       "      <th>FullBath</th>\n",
       "      <th>HalfBath</th>\n",
       "      <th>BedroomAbvGr</th>\n",
       "      <th>KitchenQual</th>\n",
       "      <th>TotRmsAbvGrd</th>\n",
       "      <th>Fireplaces</th>\n",
       "      <th>FireplaceQu</th>\n",
       "      <th>GarageType</th>\n",
       "      <th>GarageYrBlt</th>\n",
       "      <th>GarageFinish</th>\n",
       "    </tr>\n",
       "  </thead>\n",
       "  <tbody>\n",
       "    <tr>\n",
       "      <th>0</th>\n",
       "      <td>1</td>\n",
       "      <td>65.0</td>\n",
       "      <td>9.041922</td>\n",
       "      <td>1</td>\n",
       "      <td>Inside</td>\n",
       "      <td>CollgCr</td>\n",
       "      <td>2</td>\n",
       "      <td>0</td>\n",
       "      <td>modern</td>\n",
       "      <td>Never</td>\n",
       "      <td>...</td>\n",
       "      <td>3.0</td>\n",
       "      <td>1.0</td>\n",
       "      <td>3</td>\n",
       "      <td>3</td>\n",
       "      <td>8</td>\n",
       "      <td>0</td>\n",
       "      <td>0</td>\n",
       "      <td>Attchd</td>\n",
       "      <td>modern</td>\n",
       "      <td>RFn</td>\n",
       "    </tr>\n",
       "    <tr>\n",
       "      <th>1</th>\n",
       "      <td>1</td>\n",
       "      <td>80.0</td>\n",
       "      <td>9.169518</td>\n",
       "      <td>1</td>\n",
       "      <td>FR</td>\n",
       "      <td>Veenker</td>\n",
       "      <td>1</td>\n",
       "      <td>0</td>\n",
       "      <td>newer</td>\n",
       "      <td>Never</td>\n",
       "      <td>...</td>\n",
       "      <td>2.0</td>\n",
       "      <td>1.0</td>\n",
       "      <td>3</td>\n",
       "      <td>2</td>\n",
       "      <td>6</td>\n",
       "      <td>1</td>\n",
       "      <td>2</td>\n",
       "      <td>Attchd</td>\n",
       "      <td>newer</td>\n",
       "      <td>RFn</td>\n",
       "    </tr>\n",
       "    <tr>\n",
       "      <th>2</th>\n",
       "      <td>1</td>\n",
       "      <td>68.0</td>\n",
       "      <td>9.328123</td>\n",
       "      <td>0</td>\n",
       "      <td>Inside</td>\n",
       "      <td>CollgCr</td>\n",
       "      <td>2</td>\n",
       "      <td>0</td>\n",
       "      <td>newer</td>\n",
       "      <td>recent</td>\n",
       "      <td>...</td>\n",
       "      <td>3.0</td>\n",
       "      <td>1.0</td>\n",
       "      <td>3</td>\n",
       "      <td>3</td>\n",
       "      <td>6</td>\n",
       "      <td>1</td>\n",
       "      <td>2</td>\n",
       "      <td>Attchd</td>\n",
       "      <td>newer</td>\n",
       "      <td>RFn</td>\n",
       "    </tr>\n",
       "    <tr>\n",
       "      <th>3</th>\n",
       "      <td>2</td>\n",
       "      <td>60.0</td>\n",
       "      <td>9.164296</td>\n",
       "      <td>0</td>\n",
       "      <td>Corner</td>\n",
       "      <td>Crawfor</td>\n",
       "      <td>2</td>\n",
       "      <td>0</td>\n",
       "      <td>ancient</td>\n",
       "      <td>long ago</td>\n",
       "      <td>...</td>\n",
       "      <td>2.0</td>\n",
       "      <td>0.0</td>\n",
       "      <td>3</td>\n",
       "      <td>3</td>\n",
       "      <td>7</td>\n",
       "      <td>1</td>\n",
       "      <td>3</td>\n",
       "      <td>Detchd</td>\n",
       "      <td>ancient</td>\n",
       "      <td>Unf</td>\n",
       "    </tr>\n",
       "    <tr>\n",
       "      <th>4</th>\n",
       "      <td>1</td>\n",
       "      <td>84.0</td>\n",
       "      <td>9.565214</td>\n",
       "      <td>0</td>\n",
       "      <td>FR</td>\n",
       "      <td>NoRidge</td>\n",
       "      <td>2</td>\n",
       "      <td>1</td>\n",
       "      <td>newer</td>\n",
       "      <td>Never</td>\n",
       "      <td>...</td>\n",
       "      <td>3.0</td>\n",
       "      <td>1.0</td>\n",
       "      <td>4</td>\n",
       "      <td>3</td>\n",
       "      <td>9</td>\n",
       "      <td>1</td>\n",
       "      <td>2</td>\n",
       "      <td>Attchd</td>\n",
       "      <td>newer</td>\n",
       "      <td>RFn</td>\n",
       "    </tr>\n",
       "  </tbody>\n",
       "</table>\n",
       "<p>5 rows × 34 columns</p>\n",
       "</div>"
      ],
      "text/plain": [
       "   MSSubClass  LotFrontage  LogLotArea  LotShape LotConfig Neighborhood  \\\n",
       "0           1         65.0    9.041922         1    Inside      CollgCr   \n",
       "1           1         80.0    9.169518         1        FR      Veenker   \n",
       "2           1         68.0    9.328123         0    Inside      CollgCr   \n",
       "3           2         60.0    9.164296         0    Corner      Crawfor   \n",
       "4           1         84.0    9.565214         0        FR      NoRidge   \n",
       "\n",
       "   HouseStyle  OverallQual YearBuilt YearRemodAdd      ...      FullBath  \\\n",
       "0           2            0    modern        Never      ...           3.0   \n",
       "1           1            0     newer        Never      ...           2.0   \n",
       "2           2            0     newer       recent      ...           3.0   \n",
       "3           2            0   ancient     long ago      ...           2.0   \n",
       "4           2            1     newer        Never      ...           3.0   \n",
       "\n",
       "   HalfBath BedroomAbvGr KitchenQual  TotRmsAbvGrd  Fireplaces  FireplaceQu  \\\n",
       "0       1.0            3           3             8           0            0   \n",
       "1       1.0            3           2             6           1            2   \n",
       "2       1.0            3           3             6           1            2   \n",
       "3       0.0            3           3             7           1            3   \n",
       "4       1.0            4           3             9           1            2   \n",
       "\n",
       "   GarageType  GarageYrBlt  GarageFinish  \n",
       "0      Attchd       modern           RFn  \n",
       "1      Attchd        newer           RFn  \n",
       "2      Attchd        newer           RFn  \n",
       "3      Detchd      ancient           Unf  \n",
       "4      Attchd        newer           RFn  \n",
       "\n",
       "[5 rows x 34 columns]"
      ]
     },
     "execution_count": 200,
     "metadata": {},
     "output_type": "execute_result"
    }
   ],
   "source": [
    "new.head()"
   ]
  },
  {
   "cell_type": "markdown",
   "metadata": {},
   "source": [
    "## GarageCars and GarageArea"
   ]
  },
  {
   "cell_type": "code",
   "execution_count": 201,
   "metadata": {
    "collapsed": false
   },
   "outputs": [
    {
     "data": {
      "text/plain": [
       "1"
      ]
     },
     "execution_count": 201,
     "metadata": {},
     "output_type": "execute_result"
    }
   ],
   "source": [
    "data[\"GarageCars\"].isnull().sum()"
   ]
  },
  {
   "cell_type": "code",
   "execution_count": 202,
   "metadata": {
    "collapsed": false
   },
   "outputs": [
    {
     "data": {
      "text/plain": [
       "2.0    1594\n",
       "1.0     776\n",
       "3.0     374\n",
       "0.0     157\n",
       "4.0      16\n",
       "5.0       1\n",
       "Name: GarageCars, dtype: int64"
      ]
     },
     "execution_count": 202,
     "metadata": {},
     "output_type": "execute_result"
    }
   ],
   "source": [
    "data[\"GarageCars\"].value_counts()"
   ]
  },
  {
   "cell_type": "code",
   "execution_count": 203,
   "metadata": {
    "collapsed": false
   },
   "outputs": [
    {
     "data": {
      "text/plain": [
       "count    2918.000000\n",
       "mean      472.874572\n",
       "std       215.394815\n",
       "min         0.000000\n",
       "25%       320.000000\n",
       "50%       480.000000\n",
       "75%       576.000000\n",
       "max      1488.000000\n",
       "Name: GarageArea, dtype: float64"
      ]
     },
     "execution_count": 203,
     "metadata": {},
     "output_type": "execute_result"
    }
   ],
   "source": [
    "data[\"GarageArea\"].describe()"
   ]
  },
  {
   "cell_type": "code",
   "execution_count": 204,
   "metadata": {
    "collapsed": false
   },
   "outputs": [
    {
     "data": {
      "text/html": [
       "<iframe id=\"igraph\" scrolling=\"no\" style=\"border:none;\" seamless=\"seamless\" src=\"https://plot.ly/~dsnair/194.embed\" height=\"525px\" width=\"100%\"></iframe>"
      ],
      "text/plain": [
       "<plotly.tools.PlotlyDisplay object>"
      ]
     },
     "execution_count": 204,
     "metadata": {},
     "output_type": "execute_result"
    }
   ],
   "source": [
    "data[\"GarageCars\"] = data[\"GarageCars\"].fillna(2)\n",
    "data[\"GarageArea\"] = data[\"GarageArea\"].fillna(data[\"GarageArea\"].mean())\n",
    "py.iplot([go.Scatter(x = data[\"GarageArea\"], y = data[\"GarageCars\"], mode = \"markers\")])"
   ]
  },
  {
   "cell_type": "code",
   "execution_count": 205,
   "metadata": {
    "collapsed": false
   },
   "outputs": [
    {
     "data": {
      "text/plain": [
       "array([[ 1.       ,  0.8896861],\n",
       "       [ 0.8896861,  1.       ]])"
      ]
     },
     "execution_count": 205,
     "metadata": {},
     "output_type": "execute_result"
    }
   ],
   "source": [
    "np.corrcoef(data[\"GarageCars\"], data[\"GarageArea\"])"
   ]
  },
  {
   "cell_type": "markdown",
   "metadata": {},
   "source": [
    "It is clear from the graph that there is a relationship between GarageCars and GarageArea. In fact, both variables have a strong positive correlation of 0.89. Garages that can fit 1-3 cars form the three biggest clusters in the graph. The minimum square footage in each cluster increases, with no bound on the maximum, allowing more cars to be fit in those garages. We choose to merge garages that can fit more than 3 cars with the garages that can fit exactly three cars since their area square footage is in the same range and that data doesn't have much density. Also, in order to reduce redundancy, we keep only one of the two variables. We picked GarageCars since most people understand how many cars they can fit in their garage as opposed to its area."
   ]
  },
  {
   "cell_type": "code",
   "execution_count": 206,
   "metadata": {
    "collapsed": false
   },
   "outputs": [
    {
     "data": {
      "text/plain": [
       "2.0    1595\n",
       "1.0     776\n",
       "3.0     391\n",
       "0.0     157\n",
       "Name: GarageCars, dtype: int64"
      ]
     },
     "execution_count": 206,
     "metadata": {},
     "output_type": "execute_result"
    }
   ],
   "source": [
    "new[\"GarageCars\"] = data[\"GarageCars\"].replace([4, 5], 3)\n",
    "new[\"GarageCars\"].value_counts()"
   ]
  },
  {
   "cell_type": "code",
   "execution_count": 207,
   "metadata": {
    "collapsed": false
   },
   "outputs": [
    {
     "data": {
      "text/html": [
       "<div>\n",
       "<table border=\"1\" class=\"dataframe\">\n",
       "  <thead>\n",
       "    <tr style=\"text-align: right;\">\n",
       "      <th></th>\n",
       "      <th>MSSubClass</th>\n",
       "      <th>LotFrontage</th>\n",
       "      <th>LogLotArea</th>\n",
       "      <th>LotShape</th>\n",
       "      <th>LotConfig</th>\n",
       "      <th>Neighborhood</th>\n",
       "      <th>HouseStyle</th>\n",
       "      <th>OverallQual</th>\n",
       "      <th>YearBuilt</th>\n",
       "      <th>YearRemodAdd</th>\n",
       "      <th>...</th>\n",
       "      <th>HalfBath</th>\n",
       "      <th>BedroomAbvGr</th>\n",
       "      <th>KitchenQual</th>\n",
       "      <th>TotRmsAbvGrd</th>\n",
       "      <th>Fireplaces</th>\n",
       "      <th>FireplaceQu</th>\n",
       "      <th>GarageType</th>\n",
       "      <th>GarageYrBlt</th>\n",
       "      <th>GarageFinish</th>\n",
       "      <th>GarageCars</th>\n",
       "    </tr>\n",
       "  </thead>\n",
       "  <tbody>\n",
       "    <tr>\n",
       "      <th>0</th>\n",
       "      <td>1</td>\n",
       "      <td>65.0</td>\n",
       "      <td>9.041922</td>\n",
       "      <td>1</td>\n",
       "      <td>Inside</td>\n",
       "      <td>CollgCr</td>\n",
       "      <td>2</td>\n",
       "      <td>0</td>\n",
       "      <td>modern</td>\n",
       "      <td>Never</td>\n",
       "      <td>...</td>\n",
       "      <td>1.0</td>\n",
       "      <td>3</td>\n",
       "      <td>3</td>\n",
       "      <td>8</td>\n",
       "      <td>0</td>\n",
       "      <td>0</td>\n",
       "      <td>Attchd</td>\n",
       "      <td>modern</td>\n",
       "      <td>RFn</td>\n",
       "      <td>2.0</td>\n",
       "    </tr>\n",
       "    <tr>\n",
       "      <th>1</th>\n",
       "      <td>1</td>\n",
       "      <td>80.0</td>\n",
       "      <td>9.169518</td>\n",
       "      <td>1</td>\n",
       "      <td>FR</td>\n",
       "      <td>Veenker</td>\n",
       "      <td>1</td>\n",
       "      <td>0</td>\n",
       "      <td>newer</td>\n",
       "      <td>Never</td>\n",
       "      <td>...</td>\n",
       "      <td>1.0</td>\n",
       "      <td>3</td>\n",
       "      <td>2</td>\n",
       "      <td>6</td>\n",
       "      <td>1</td>\n",
       "      <td>2</td>\n",
       "      <td>Attchd</td>\n",
       "      <td>newer</td>\n",
       "      <td>RFn</td>\n",
       "      <td>2.0</td>\n",
       "    </tr>\n",
       "    <tr>\n",
       "      <th>2</th>\n",
       "      <td>1</td>\n",
       "      <td>68.0</td>\n",
       "      <td>9.328123</td>\n",
       "      <td>0</td>\n",
       "      <td>Inside</td>\n",
       "      <td>CollgCr</td>\n",
       "      <td>2</td>\n",
       "      <td>0</td>\n",
       "      <td>newer</td>\n",
       "      <td>recent</td>\n",
       "      <td>...</td>\n",
       "      <td>1.0</td>\n",
       "      <td>3</td>\n",
       "      <td>3</td>\n",
       "      <td>6</td>\n",
       "      <td>1</td>\n",
       "      <td>2</td>\n",
       "      <td>Attchd</td>\n",
       "      <td>newer</td>\n",
       "      <td>RFn</td>\n",
       "      <td>2.0</td>\n",
       "    </tr>\n",
       "    <tr>\n",
       "      <th>3</th>\n",
       "      <td>2</td>\n",
       "      <td>60.0</td>\n",
       "      <td>9.164296</td>\n",
       "      <td>0</td>\n",
       "      <td>Corner</td>\n",
       "      <td>Crawfor</td>\n",
       "      <td>2</td>\n",
       "      <td>0</td>\n",
       "      <td>ancient</td>\n",
       "      <td>long ago</td>\n",
       "      <td>...</td>\n",
       "      <td>0.0</td>\n",
       "      <td>3</td>\n",
       "      <td>3</td>\n",
       "      <td>7</td>\n",
       "      <td>1</td>\n",
       "      <td>3</td>\n",
       "      <td>Detchd</td>\n",
       "      <td>ancient</td>\n",
       "      <td>Unf</td>\n",
       "      <td>3.0</td>\n",
       "    </tr>\n",
       "    <tr>\n",
       "      <th>4</th>\n",
       "      <td>1</td>\n",
       "      <td>84.0</td>\n",
       "      <td>9.565214</td>\n",
       "      <td>0</td>\n",
       "      <td>FR</td>\n",
       "      <td>NoRidge</td>\n",
       "      <td>2</td>\n",
       "      <td>1</td>\n",
       "      <td>newer</td>\n",
       "      <td>Never</td>\n",
       "      <td>...</td>\n",
       "      <td>1.0</td>\n",
       "      <td>4</td>\n",
       "      <td>3</td>\n",
       "      <td>9</td>\n",
       "      <td>1</td>\n",
       "      <td>2</td>\n",
       "      <td>Attchd</td>\n",
       "      <td>newer</td>\n",
       "      <td>RFn</td>\n",
       "      <td>3.0</td>\n",
       "    </tr>\n",
       "  </tbody>\n",
       "</table>\n",
       "<p>5 rows × 35 columns</p>\n",
       "</div>"
      ],
      "text/plain": [
       "   MSSubClass  LotFrontage  LogLotArea  LotShape LotConfig Neighborhood  \\\n",
       "0           1         65.0    9.041922         1    Inside      CollgCr   \n",
       "1           1         80.0    9.169518         1        FR      Veenker   \n",
       "2           1         68.0    9.328123         0    Inside      CollgCr   \n",
       "3           2         60.0    9.164296         0    Corner      Crawfor   \n",
       "4           1         84.0    9.565214         0        FR      NoRidge   \n",
       "\n",
       "   HouseStyle  OverallQual YearBuilt YearRemodAdd     ...     HalfBath  \\\n",
       "0           2            0    modern        Never     ...          1.0   \n",
       "1           1            0     newer        Never     ...          1.0   \n",
       "2           2            0     newer       recent     ...          1.0   \n",
       "3           2            0   ancient     long ago     ...          0.0   \n",
       "4           2            1     newer        Never     ...          1.0   \n",
       "\n",
       "   BedroomAbvGr KitchenQual TotRmsAbvGrd  Fireplaces  FireplaceQu  GarageType  \\\n",
       "0             3           3            8           0            0      Attchd   \n",
       "1             3           2            6           1            2      Attchd   \n",
       "2             3           3            6           1            2      Attchd   \n",
       "3             3           3            7           1            3      Detchd   \n",
       "4             4           3            9           1            2      Attchd   \n",
       "\n",
       "   GarageYrBlt  GarageFinish  GarageCars  \n",
       "0       modern           RFn         2.0  \n",
       "1        newer           RFn         2.0  \n",
       "2        newer           RFn         2.0  \n",
       "3      ancient           Unf         3.0  \n",
       "4        newer           RFn         3.0  \n",
       "\n",
       "[5 rows x 35 columns]"
      ]
     },
     "execution_count": 207,
     "metadata": {},
     "output_type": "execute_result"
    }
   ],
   "source": [
    "new.head()"
   ]
  },
  {
   "cell_type": "markdown",
   "metadata": {},
   "source": [
    "## GarageQual and GarageCond"
   ]
  },
  {
   "cell_type": "code",
   "execution_count": 208,
   "metadata": {
    "collapsed": false
   },
   "outputs": [
    {
     "data": {
      "text/plain": [
       "159"
      ]
     },
     "execution_count": 208,
     "metadata": {},
     "output_type": "execute_result"
    }
   ],
   "source": [
    "data[\"GarageQual\"].isnull().sum()"
   ]
  },
  {
   "cell_type": "markdown",
   "metadata": {},
   "source": [
    "NA means no garage, and not missing."
   ]
  },
  {
   "cell_type": "code",
   "execution_count": 209,
   "metadata": {
    "collapsed": false
   },
   "outputs": [
    {
     "data": {
      "text/plain": [
       "TA      2604\n",
       "None     159\n",
       "Fa       124\n",
       "Gd        24\n",
       "Po         5\n",
       "Ex         3\n",
       "Name: GarageQual, dtype: int64"
      ]
     },
     "execution_count": 209,
     "metadata": {},
     "output_type": "execute_result"
    }
   ],
   "source": [
    "data[\"GarageQual\"] = data[\"GarageQual\"].fillna(\"None\")\n",
    "data[\"GarageQual\"].value_counts()"
   ]
  },
  {
   "cell_type": "code",
   "execution_count": 210,
   "metadata": {
    "collapsed": false
   },
   "outputs": [
    {
     "data": {
      "text/plain": [
       "159"
      ]
     },
     "execution_count": 210,
     "metadata": {},
     "output_type": "execute_result"
    }
   ],
   "source": [
    "data[\"GarageCond\"].isnull().sum()"
   ]
  },
  {
   "cell_type": "code",
   "execution_count": 211,
   "metadata": {
    "collapsed": false
   },
   "outputs": [
    {
     "data": {
      "text/plain": [
       "TA      2654\n",
       "None     159\n",
       "Fa        74\n",
       "Gd        15\n",
       "Po        14\n",
       "Ex         3\n",
       "Name: GarageCond, dtype: int64"
      ]
     },
     "execution_count": 211,
     "metadata": {},
     "output_type": "execute_result"
    }
   ],
   "source": [
    "data[\"GarageCond\"] = data[\"GarageCond\"].fillna(\"None\")\n",
    "data[\"GarageCond\"].value_counts()"
   ]
  },
  {
   "cell_type": "markdown",
   "metadata": {},
   "source": [
    "Let's compare the original garage quality (GarageQual) to the current garage condition (GarageCond)."
   ]
  },
  {
   "cell_type": "code",
   "execution_count": 212,
   "metadata": {
    "collapsed": false
   },
   "outputs": [
    {
     "data": {
      "text/plain": [
       " 0    2770\n",
       " 1      78\n",
       "-1      42\n",
       "-2      20\n",
       " 2       9\n",
       "Name: GarageCond, dtype: int64"
      ]
     },
     "execution_count": 212,
     "metadata": {},
     "output_type": "execute_result"
    }
   ],
   "source": [
    "original = data[\"GarageQual\"].map({\"Ex\": 4, \"Gd\": 4, \"TA\": 2, \"Fa\": 1, \"Po\": 0, \"None\": 0})\n",
    "current = data[\"GarageCond\"].map({\"Ex\": 4, \"Gd\": 4, \"TA\": 2, \"Fa\": 1, \"Po\": 0, \"None\": 0})\n",
    "cond = np.subtract(current, original)\n",
    "cond.value_counts()"
   ]
  },
  {
   "cell_type": "code",
   "execution_count": 213,
   "metadata": {
    "collapsed": false
   },
   "outputs": [
    {
     "data": {
      "text/plain": [
       "no change      2770\n",
       "improved         87\n",
       "depreciated      62\n",
       "Name: GarageRemod, dtype: int64"
      ]
     },
     "execution_count": 213,
     "metadata": {},
     "output_type": "execute_result"
    }
   ],
   "source": [
    "new[\"GarageRemod\"] = pd.Series(cond.map(lambda x: \"depreciated\" if x < 0 else \"improved\" if x > 0 else \"no change\"))\n",
    "new[\"GarageRemod\"].value_counts()"
   ]
  },
  {
   "cell_type": "markdown",
   "metadata": {},
   "source": [
    "Was garage remodeled?: Y (1) or No (0)."
   ]
  },
  {
   "cell_type": "code",
   "execution_count": 214,
   "metadata": {
    "collapsed": false
   },
   "outputs": [
    {
     "data": {
      "text/plain": [
       "1    2770\n",
       "0     149\n",
       "dtype: int64"
      ]
     },
     "execution_count": 214,
     "metadata": {},
     "output_type": "execute_result"
    }
   ],
   "source": [
    "GarageRemod = pd.Series(np.where(new[\"GarageRemod\"] == \"no change\", 1, 0))\n",
    "GarageRemod.value_counts()"
   ]
  },
  {
   "cell_type": "markdown",
   "metadata": {
    "collapsed": false
   },
   "source": [
    "Drop these variables since they do not provide much information."
   ]
  },
  {
   "cell_type": "markdown",
   "metadata": {},
   "source": [
    "## WoodDeckSF"
   ]
  },
  {
   "cell_type": "code",
   "execution_count": 215,
   "metadata": {
    "collapsed": false
   },
   "outputs": [
    {
     "data": {
      "text/plain": [
       "count    2919.000000\n",
       "mean       93.709832\n",
       "std       126.526589\n",
       "min         0.000000\n",
       "25%         0.000000\n",
       "50%         0.000000\n",
       "75%       168.000000\n",
       "max      1424.000000\n",
       "Name: WoodDeckSF, dtype: float64"
      ]
     },
     "execution_count": 215,
     "metadata": {},
     "output_type": "execute_result"
    }
   ],
   "source": [
    "data[\"WoodDeckSF\"].describe()"
   ]
  },
  {
   "cell_type": "code",
   "execution_count": 216,
   "metadata": {
    "collapsed": false
   },
   "outputs": [
    {
     "data": {
      "text/plain": [
       "1523"
      ]
     },
     "execution_count": 216,
     "metadata": {},
     "output_type": "execute_result"
    }
   ],
   "source": [
    "np.sum(data[\"WoodDeckSF\"] == 0)"
   ]
  },
  {
   "cell_type": "markdown",
   "metadata": {},
   "source": [
    "Has a wood deck?: Y(1) or No (0)"
   ]
  },
  {
   "cell_type": "code",
   "execution_count": 217,
   "metadata": {
    "collapsed": false
   },
   "outputs": [
    {
     "data": {
      "text/plain": [
       "0    1523\n",
       "1    1396\n",
       "Name: WoodDeck, dtype: int64"
      ]
     },
     "execution_count": 217,
     "metadata": {},
     "output_type": "execute_result"
    }
   ],
   "source": [
    "new[\"WoodDeck\"] = np.where(data[\"WoodDeckSF\"] == 0, 0, 1)\n",
    "new[\"WoodDeck\"].value_counts()"
   ]
  },
  {
   "cell_type": "code",
   "execution_count": 218,
   "metadata": {
    "collapsed": false
   },
   "outputs": [
    {
     "data": {
      "text/html": [
       "<div>\n",
       "<table border=\"1\" class=\"dataframe\">\n",
       "  <thead>\n",
       "    <tr style=\"text-align: right;\">\n",
       "      <th></th>\n",
       "      <th>MSSubClass</th>\n",
       "      <th>LotFrontage</th>\n",
       "      <th>LogLotArea</th>\n",
       "      <th>LotShape</th>\n",
       "      <th>LotConfig</th>\n",
       "      <th>Neighborhood</th>\n",
       "      <th>HouseStyle</th>\n",
       "      <th>OverallQual</th>\n",
       "      <th>YearBuilt</th>\n",
       "      <th>YearRemodAdd</th>\n",
       "      <th>...</th>\n",
       "      <th>KitchenQual</th>\n",
       "      <th>TotRmsAbvGrd</th>\n",
       "      <th>Fireplaces</th>\n",
       "      <th>FireplaceQu</th>\n",
       "      <th>GarageType</th>\n",
       "      <th>GarageYrBlt</th>\n",
       "      <th>GarageFinish</th>\n",
       "      <th>GarageCars</th>\n",
       "      <th>GarageRemod</th>\n",
       "      <th>WoodDeck</th>\n",
       "    </tr>\n",
       "  </thead>\n",
       "  <tbody>\n",
       "    <tr>\n",
       "      <th>0</th>\n",
       "      <td>1</td>\n",
       "      <td>65.0</td>\n",
       "      <td>9.041922</td>\n",
       "      <td>1</td>\n",
       "      <td>Inside</td>\n",
       "      <td>CollgCr</td>\n",
       "      <td>2</td>\n",
       "      <td>0</td>\n",
       "      <td>modern</td>\n",
       "      <td>Never</td>\n",
       "      <td>...</td>\n",
       "      <td>3</td>\n",
       "      <td>8</td>\n",
       "      <td>0</td>\n",
       "      <td>0</td>\n",
       "      <td>Attchd</td>\n",
       "      <td>modern</td>\n",
       "      <td>RFn</td>\n",
       "      <td>2.0</td>\n",
       "      <td>no change</td>\n",
       "      <td>0</td>\n",
       "    </tr>\n",
       "    <tr>\n",
       "      <th>1</th>\n",
       "      <td>1</td>\n",
       "      <td>80.0</td>\n",
       "      <td>9.169518</td>\n",
       "      <td>1</td>\n",
       "      <td>FR</td>\n",
       "      <td>Veenker</td>\n",
       "      <td>1</td>\n",
       "      <td>0</td>\n",
       "      <td>newer</td>\n",
       "      <td>Never</td>\n",
       "      <td>...</td>\n",
       "      <td>2</td>\n",
       "      <td>6</td>\n",
       "      <td>1</td>\n",
       "      <td>2</td>\n",
       "      <td>Attchd</td>\n",
       "      <td>newer</td>\n",
       "      <td>RFn</td>\n",
       "      <td>2.0</td>\n",
       "      <td>no change</td>\n",
       "      <td>1</td>\n",
       "    </tr>\n",
       "    <tr>\n",
       "      <th>2</th>\n",
       "      <td>1</td>\n",
       "      <td>68.0</td>\n",
       "      <td>9.328123</td>\n",
       "      <td>0</td>\n",
       "      <td>Inside</td>\n",
       "      <td>CollgCr</td>\n",
       "      <td>2</td>\n",
       "      <td>0</td>\n",
       "      <td>newer</td>\n",
       "      <td>recent</td>\n",
       "      <td>...</td>\n",
       "      <td>3</td>\n",
       "      <td>6</td>\n",
       "      <td>1</td>\n",
       "      <td>2</td>\n",
       "      <td>Attchd</td>\n",
       "      <td>newer</td>\n",
       "      <td>RFn</td>\n",
       "      <td>2.0</td>\n",
       "      <td>no change</td>\n",
       "      <td>0</td>\n",
       "    </tr>\n",
       "    <tr>\n",
       "      <th>3</th>\n",
       "      <td>2</td>\n",
       "      <td>60.0</td>\n",
       "      <td>9.164296</td>\n",
       "      <td>0</td>\n",
       "      <td>Corner</td>\n",
       "      <td>Crawfor</td>\n",
       "      <td>2</td>\n",
       "      <td>0</td>\n",
       "      <td>ancient</td>\n",
       "      <td>long ago</td>\n",
       "      <td>...</td>\n",
       "      <td>3</td>\n",
       "      <td>7</td>\n",
       "      <td>1</td>\n",
       "      <td>3</td>\n",
       "      <td>Detchd</td>\n",
       "      <td>ancient</td>\n",
       "      <td>Unf</td>\n",
       "      <td>3.0</td>\n",
       "      <td>no change</td>\n",
       "      <td>0</td>\n",
       "    </tr>\n",
       "    <tr>\n",
       "      <th>4</th>\n",
       "      <td>1</td>\n",
       "      <td>84.0</td>\n",
       "      <td>9.565214</td>\n",
       "      <td>0</td>\n",
       "      <td>FR</td>\n",
       "      <td>NoRidge</td>\n",
       "      <td>2</td>\n",
       "      <td>1</td>\n",
       "      <td>newer</td>\n",
       "      <td>Never</td>\n",
       "      <td>...</td>\n",
       "      <td>3</td>\n",
       "      <td>9</td>\n",
       "      <td>1</td>\n",
       "      <td>2</td>\n",
       "      <td>Attchd</td>\n",
       "      <td>newer</td>\n",
       "      <td>RFn</td>\n",
       "      <td>3.0</td>\n",
       "      <td>no change</td>\n",
       "      <td>1</td>\n",
       "    </tr>\n",
       "  </tbody>\n",
       "</table>\n",
       "<p>5 rows × 37 columns</p>\n",
       "</div>"
      ],
      "text/plain": [
       "   MSSubClass  LotFrontage  LogLotArea  LotShape LotConfig Neighborhood  \\\n",
       "0           1         65.0    9.041922         1    Inside      CollgCr   \n",
       "1           1         80.0    9.169518         1        FR      Veenker   \n",
       "2           1         68.0    9.328123         0    Inside      CollgCr   \n",
       "3           2         60.0    9.164296         0    Corner      Crawfor   \n",
       "4           1         84.0    9.565214         0        FR      NoRidge   \n",
       "\n",
       "   HouseStyle  OverallQual YearBuilt YearRemodAdd    ...    KitchenQual  \\\n",
       "0           2            0    modern        Never    ...              3   \n",
       "1           1            0     newer        Never    ...              2   \n",
       "2           2            0     newer       recent    ...              3   \n",
       "3           2            0   ancient     long ago    ...              3   \n",
       "4           2            1     newer        Never    ...              3   \n",
       "\n",
       "   TotRmsAbvGrd Fireplaces FireplaceQu  GarageType  GarageYrBlt  GarageFinish  \\\n",
       "0             8          0           0      Attchd       modern           RFn   \n",
       "1             6          1           2      Attchd        newer           RFn   \n",
       "2             6          1           2      Attchd        newer           RFn   \n",
       "3             7          1           3      Detchd      ancient           Unf   \n",
       "4             9          1           2      Attchd        newer           RFn   \n",
       "\n",
       "   GarageCars  GarageRemod  WoodDeck  \n",
       "0         2.0    no change         0  \n",
       "1         2.0    no change         1  \n",
       "2         2.0    no change         0  \n",
       "3         3.0    no change         0  \n",
       "4         3.0    no change         1  \n",
       "\n",
       "[5 rows x 37 columns]"
      ]
     },
     "execution_count": 218,
     "metadata": {},
     "output_type": "execute_result"
    }
   ],
   "source": [
    "new.head()"
   ]
  },
  {
   "cell_type": "markdown",
   "metadata": {},
   "source": [
    "## OpenPorchSF, EnclosedPorch, 3SsnPorch, ScreenPorch"
   ]
  },
  {
   "cell_type": "code",
   "execution_count": 219,
   "metadata": {
    "collapsed": false
   },
   "outputs": [
    {
     "data": {
      "text/plain": [
       "count    2919.000000\n",
       "mean       47.486811\n",
       "std        67.575493\n",
       "min         0.000000\n",
       "25%         0.000000\n",
       "50%        26.000000\n",
       "75%        70.000000\n",
       "max       742.000000\n",
       "Name: OpenPorchSF, dtype: float64"
      ]
     },
     "execution_count": 219,
     "metadata": {},
     "output_type": "execute_result"
    }
   ],
   "source": [
    "data[\"OpenPorchSF\"].describe()"
   ]
  },
  {
   "cell_type": "code",
   "execution_count": 220,
   "metadata": {
    "collapsed": false
   },
   "outputs": [
    {
     "data": {
      "text/plain": [
       "1298"
      ]
     },
     "execution_count": 220,
     "metadata": {},
     "output_type": "execute_result"
    }
   ],
   "source": [
    "np.sum(data[\"OpenPorchSF\"] == 0)"
   ]
  },
  {
   "cell_type": "markdown",
   "metadata": {},
   "source": [
    "Has an open porch?: Y (1) or No (0)"
   ]
  },
  {
   "cell_type": "code",
   "execution_count": 221,
   "metadata": {
    "collapsed": false
   },
   "outputs": [
    {
     "data": {
      "text/html": [
       "<div>\n",
       "<table border=\"1\" class=\"dataframe\">\n",
       "  <thead>\n",
       "    <tr style=\"text-align: right;\">\n",
       "      <th></th>\n",
       "      <th>MSSubClass</th>\n",
       "      <th>LotFrontage</th>\n",
       "      <th>LogLotArea</th>\n",
       "      <th>LotShape</th>\n",
       "      <th>LotConfig</th>\n",
       "      <th>Neighborhood</th>\n",
       "      <th>HouseStyle</th>\n",
       "      <th>OverallQual</th>\n",
       "      <th>YearBuilt</th>\n",
       "      <th>YearRemodAdd</th>\n",
       "      <th>...</th>\n",
       "      <th>TotRmsAbvGrd</th>\n",
       "      <th>Fireplaces</th>\n",
       "      <th>FireplaceQu</th>\n",
       "      <th>GarageType</th>\n",
       "      <th>GarageYrBlt</th>\n",
       "      <th>GarageFinish</th>\n",
       "      <th>GarageCars</th>\n",
       "      <th>GarageRemod</th>\n",
       "      <th>WoodDeck</th>\n",
       "      <th>OpenPorch</th>\n",
       "    </tr>\n",
       "  </thead>\n",
       "  <tbody>\n",
       "    <tr>\n",
       "      <th>0</th>\n",
       "      <td>1</td>\n",
       "      <td>65.0</td>\n",
       "      <td>9.041922</td>\n",
       "      <td>1</td>\n",
       "      <td>Inside</td>\n",
       "      <td>CollgCr</td>\n",
       "      <td>2</td>\n",
       "      <td>0</td>\n",
       "      <td>modern</td>\n",
       "      <td>Never</td>\n",
       "      <td>...</td>\n",
       "      <td>8</td>\n",
       "      <td>0</td>\n",
       "      <td>0</td>\n",
       "      <td>Attchd</td>\n",
       "      <td>modern</td>\n",
       "      <td>RFn</td>\n",
       "      <td>2.0</td>\n",
       "      <td>no change</td>\n",
       "      <td>0</td>\n",
       "      <td>1</td>\n",
       "    </tr>\n",
       "    <tr>\n",
       "      <th>1</th>\n",
       "      <td>1</td>\n",
       "      <td>80.0</td>\n",
       "      <td>9.169518</td>\n",
       "      <td>1</td>\n",
       "      <td>FR</td>\n",
       "      <td>Veenker</td>\n",
       "      <td>1</td>\n",
       "      <td>0</td>\n",
       "      <td>newer</td>\n",
       "      <td>Never</td>\n",
       "      <td>...</td>\n",
       "      <td>6</td>\n",
       "      <td>1</td>\n",
       "      <td>2</td>\n",
       "      <td>Attchd</td>\n",
       "      <td>newer</td>\n",
       "      <td>RFn</td>\n",
       "      <td>2.0</td>\n",
       "      <td>no change</td>\n",
       "      <td>1</td>\n",
       "      <td>0</td>\n",
       "    </tr>\n",
       "    <tr>\n",
       "      <th>2</th>\n",
       "      <td>1</td>\n",
       "      <td>68.0</td>\n",
       "      <td>9.328123</td>\n",
       "      <td>0</td>\n",
       "      <td>Inside</td>\n",
       "      <td>CollgCr</td>\n",
       "      <td>2</td>\n",
       "      <td>0</td>\n",
       "      <td>newer</td>\n",
       "      <td>recent</td>\n",
       "      <td>...</td>\n",
       "      <td>6</td>\n",
       "      <td>1</td>\n",
       "      <td>2</td>\n",
       "      <td>Attchd</td>\n",
       "      <td>newer</td>\n",
       "      <td>RFn</td>\n",
       "      <td>2.0</td>\n",
       "      <td>no change</td>\n",
       "      <td>0</td>\n",
       "      <td>1</td>\n",
       "    </tr>\n",
       "    <tr>\n",
       "      <th>3</th>\n",
       "      <td>2</td>\n",
       "      <td>60.0</td>\n",
       "      <td>9.164296</td>\n",
       "      <td>0</td>\n",
       "      <td>Corner</td>\n",
       "      <td>Crawfor</td>\n",
       "      <td>2</td>\n",
       "      <td>0</td>\n",
       "      <td>ancient</td>\n",
       "      <td>long ago</td>\n",
       "      <td>...</td>\n",
       "      <td>7</td>\n",
       "      <td>1</td>\n",
       "      <td>3</td>\n",
       "      <td>Detchd</td>\n",
       "      <td>ancient</td>\n",
       "      <td>Unf</td>\n",
       "      <td>3.0</td>\n",
       "      <td>no change</td>\n",
       "      <td>0</td>\n",
       "      <td>1</td>\n",
       "    </tr>\n",
       "    <tr>\n",
       "      <th>4</th>\n",
       "      <td>1</td>\n",
       "      <td>84.0</td>\n",
       "      <td>9.565214</td>\n",
       "      <td>0</td>\n",
       "      <td>FR</td>\n",
       "      <td>NoRidge</td>\n",
       "      <td>2</td>\n",
       "      <td>1</td>\n",
       "      <td>newer</td>\n",
       "      <td>Never</td>\n",
       "      <td>...</td>\n",
       "      <td>9</td>\n",
       "      <td>1</td>\n",
       "      <td>2</td>\n",
       "      <td>Attchd</td>\n",
       "      <td>newer</td>\n",
       "      <td>RFn</td>\n",
       "      <td>3.0</td>\n",
       "      <td>no change</td>\n",
       "      <td>1</td>\n",
       "      <td>1</td>\n",
       "    </tr>\n",
       "  </tbody>\n",
       "</table>\n",
       "<p>5 rows × 38 columns</p>\n",
       "</div>"
      ],
      "text/plain": [
       "   MSSubClass  LotFrontage  LogLotArea  LotShape LotConfig Neighborhood  \\\n",
       "0           1         65.0    9.041922         1    Inside      CollgCr   \n",
       "1           1         80.0    9.169518         1        FR      Veenker   \n",
       "2           1         68.0    9.328123         0    Inside      CollgCr   \n",
       "3           2         60.0    9.164296         0    Corner      Crawfor   \n",
       "4           1         84.0    9.565214         0        FR      NoRidge   \n",
       "\n",
       "   HouseStyle  OverallQual YearBuilt YearRemodAdd    ...     TotRmsAbvGrd  \\\n",
       "0           2            0    modern        Never    ...                8   \n",
       "1           1            0     newer        Never    ...                6   \n",
       "2           2            0     newer       recent    ...                6   \n",
       "3           2            0   ancient     long ago    ...                7   \n",
       "4           2            1     newer        Never    ...                9   \n",
       "\n",
       "   Fireplaces FireplaceQu GarageType  GarageYrBlt  GarageFinish  GarageCars  \\\n",
       "0           0           0     Attchd       modern           RFn         2.0   \n",
       "1           1           2     Attchd        newer           RFn         2.0   \n",
       "2           1           2     Attchd        newer           RFn         2.0   \n",
       "3           1           3     Detchd      ancient           Unf         3.0   \n",
       "4           1           2     Attchd        newer           RFn         3.0   \n",
       "\n",
       "   GarageRemod  WoodDeck  OpenPorch  \n",
       "0    no change         0          1  \n",
       "1    no change         1          0  \n",
       "2    no change         0          1  \n",
       "3    no change         0          1  \n",
       "4    no change         1          1  \n",
       "\n",
       "[5 rows x 38 columns]"
      ]
     },
     "execution_count": 221,
     "metadata": {},
     "output_type": "execute_result"
    }
   ],
   "source": [
    "new[\"OpenPorch\"] = np.where(data[\"OpenPorchSF\"] == 0, 0, 1)\n",
    "new.head()"
   ]
  },
  {
   "cell_type": "code",
   "execution_count": 222,
   "metadata": {
    "collapsed": false
   },
   "outputs": [
    {
     "data": {
      "text/plain": [
       "count    2919.000000\n",
       "mean       23.098321\n",
       "std        64.244246\n",
       "min         0.000000\n",
       "25%         0.000000\n",
       "50%         0.000000\n",
       "75%         0.000000\n",
       "max      1012.000000\n",
       "Name: EnclosedPorch, dtype: float64"
      ]
     },
     "execution_count": 222,
     "metadata": {},
     "output_type": "execute_result"
    }
   ],
   "source": [
    "data[\"EnclosedPorch\"].describe()"
   ]
  },
  {
   "cell_type": "code",
   "execution_count": 223,
   "metadata": {
    "collapsed": false
   },
   "outputs": [
    {
     "data": {
      "text/plain": [
       "2460"
      ]
     },
     "execution_count": 223,
     "metadata": {},
     "output_type": "execute_result"
    }
   ],
   "source": [
    "np.sum(data[\"EnclosedPorch\"] == 0)"
   ]
  },
  {
   "cell_type": "markdown",
   "metadata": {},
   "source": [
    "Majority of the houses don't have an enclosed porch. Drop this variable since it lacks variability."
   ]
  },
  {
   "cell_type": "code",
   "execution_count": 224,
   "metadata": {
    "collapsed": false
   },
   "outputs": [
    {
     "data": {
      "text/plain": [
       "count    2919.000000\n",
       "mean        2.602261\n",
       "std        25.188169\n",
       "min         0.000000\n",
       "25%         0.000000\n",
       "50%         0.000000\n",
       "75%         0.000000\n",
       "max       508.000000\n",
       "Name: 3SsnPorch, dtype: float64"
      ]
     },
     "execution_count": 224,
     "metadata": {},
     "output_type": "execute_result"
    }
   ],
   "source": [
    "data[\"3SsnPorch\"].describe()"
   ]
  },
  {
   "cell_type": "code",
   "execution_count": 225,
   "metadata": {
    "collapsed": false
   },
   "outputs": [
    {
     "data": {
      "text/plain": [
       "2882"
      ]
     },
     "execution_count": 225,
     "metadata": {},
     "output_type": "execute_result"
    }
   ],
   "source": [
    "np.sum(data[\"3SsnPorch\"] == 0)"
   ]
  },
  {
   "cell_type": "markdown",
   "metadata": {},
   "source": [
    "An overwhelming number of houses don't have a three season porch. Drop this variable since it lacks variability."
   ]
  },
  {
   "cell_type": "code",
   "execution_count": 226,
   "metadata": {
    "collapsed": false
   },
   "outputs": [
    {
     "data": {
      "text/plain": [
       "count    2919.000000\n",
       "mean       16.062350\n",
       "std        56.184365\n",
       "min         0.000000\n",
       "25%         0.000000\n",
       "50%         0.000000\n",
       "75%         0.000000\n",
       "max       576.000000\n",
       "Name: ScreenPorch, dtype: float64"
      ]
     },
     "execution_count": 226,
     "metadata": {},
     "output_type": "execute_result"
    }
   ],
   "source": [
    "data[\"ScreenPorch\"].describe()"
   ]
  },
  {
   "cell_type": "code",
   "execution_count": 227,
   "metadata": {
    "collapsed": false
   },
   "outputs": [
    {
     "data": {
      "text/plain": [
       "2663"
      ]
     },
     "execution_count": 227,
     "metadata": {},
     "output_type": "execute_result"
    }
   ],
   "source": [
    "np.sum(data[\"ScreenPorch\"] == 0)"
   ]
  },
  {
   "cell_type": "markdown",
   "metadata": {},
   "source": [
    "Majority of the houses don't have a screened porch. Drop this variable."
   ]
  },
  {
   "cell_type": "markdown",
   "metadata": {},
   "source": [
    "## PoolArea and PoolQC"
   ]
  },
  {
   "cell_type": "code",
   "execution_count": 228,
   "metadata": {
    "collapsed": false
   },
   "outputs": [
    {
     "data": {
      "text/plain": [
       "count    2919.000000\n",
       "mean        2.251799\n",
       "std        35.663946\n",
       "min         0.000000\n",
       "25%         0.000000\n",
       "50%         0.000000\n",
       "75%         0.000000\n",
       "max       800.000000\n",
       "Name: PoolArea, dtype: float64"
      ]
     },
     "execution_count": 228,
     "metadata": {},
     "output_type": "execute_result"
    }
   ],
   "source": [
    "data[\"PoolArea\"].describe()"
   ]
  },
  {
   "cell_type": "code",
   "execution_count": 229,
   "metadata": {
    "collapsed": false
   },
   "outputs": [
    {
     "data": {
      "text/plain": [
       "2906"
      ]
     },
     "execution_count": 229,
     "metadata": {},
     "output_type": "execute_result"
    }
   ],
   "source": [
    "np.sum(data[\"PoolArea\"] == 0)"
   ]
  },
  {
   "cell_type": "markdown",
   "metadata": {},
   "source": [
    "An overwhelming majority of the houses don't have a pool! Drop both PoolArea and PoolQC."
   ]
  },
  {
   "cell_type": "code",
   "execution_count": 230,
   "metadata": {
    "collapsed": false
   },
   "outputs": [
    {
     "data": {
      "text/plain": [
       "Ex    4\n",
       "Gd    4\n",
       "Fa    2\n",
       "Name: PoolQC, dtype: int64"
      ]
     },
     "execution_count": 230,
     "metadata": {},
     "output_type": "execute_result"
    }
   ],
   "source": [
    "data[\"PoolQC\"].value_counts()"
   ]
  },
  {
   "cell_type": "markdown",
   "metadata": {},
   "source": [
    "## Fence"
   ]
  },
  {
   "cell_type": "code",
   "execution_count": 231,
   "metadata": {
    "collapsed": false
   },
   "outputs": [
    {
     "data": {
      "text/plain": [
       "2348"
      ]
     },
     "execution_count": 231,
     "metadata": {},
     "output_type": "execute_result"
    }
   ],
   "source": [
    "data[\"Fence\"].isnull().sum()"
   ]
  },
  {
   "cell_type": "markdown",
   "metadata": {},
   "source": [
    "NA means no fence, and not missing. Since vast majority of the houses don't have a fence, drop this variable."
   ]
  },
  {
   "cell_type": "markdown",
   "metadata": {},
   "source": [
    "## MiscFeature and MiscVal"
   ]
  },
  {
   "cell_type": "code",
   "execution_count": 232,
   "metadata": {
    "collapsed": false
   },
   "outputs": [
    {
     "data": {
      "text/plain": [
       "2814"
      ]
     },
     "execution_count": 232,
     "metadata": {},
     "output_type": "execute_result"
    }
   ],
   "source": [
    "data[\"MiscFeature\"].isnull().sum()"
   ]
  },
  {
   "cell_type": "markdown",
   "metadata": {},
   "source": [
    "NA means no miscellaneous features, and not missing. Since vast majority of the houses don't have miscellaneous features, there is no need to investigate its dollar value. Drop both variables."
   ]
  },
  {
   "cell_type": "code",
   "execution_count": 233,
   "metadata": {
    "collapsed": false
   },
   "outputs": [
    {
     "data": {
      "text/plain": [
       "count     2919.000000\n",
       "mean        50.825968\n",
       "std        567.402211\n",
       "min          0.000000\n",
       "25%          0.000000\n",
       "50%          0.000000\n",
       "75%          0.000000\n",
       "max      17000.000000\n",
       "Name: MiscVal, dtype: float64"
      ]
     },
     "execution_count": 233,
     "metadata": {},
     "output_type": "execute_result"
    }
   ],
   "source": [
    "data[\"MiscVal\"].describe()"
   ]
  },
  {
   "cell_type": "code",
   "execution_count": 234,
   "metadata": {
    "collapsed": false
   },
   "outputs": [
    {
     "data": {
      "text/plain": [
       "2816"
      ]
     },
     "execution_count": 234,
     "metadata": {},
     "output_type": "execute_result"
    }
   ],
   "source": [
    "np.sum(data[\"MiscVal\"] == 0)"
   ]
  },
  {
   "cell_type": "markdown",
   "metadata": {},
   "source": [
    "## MoSold"
   ]
  },
  {
   "cell_type": "code",
   "execution_count": 235,
   "metadata": {
    "collapsed": false
   },
   "outputs": [
    {
     "data": {
      "text/plain": [
       "0"
      ]
     },
     "execution_count": 235,
     "metadata": {},
     "output_type": "execute_result"
    }
   ],
   "source": [
    "data[\"MoSold\"].isnull().sum()"
   ]
  },
  {
   "cell_type": "code",
   "execution_count": 236,
   "metadata": {
    "collapsed": false,
    "scrolled": true
   },
   "outputs": [
    {
     "data": {
      "text/html": [
       "<iframe id=\"igraph\" scrolling=\"no\" style=\"border:none;\" seamless=\"seamless\" src=\"https://plot.ly/~dsnair/196.embed\" height=\"525px\" width=\"100%\"></iframe>"
      ],
      "text/plain": [
       "<plotly.tools.PlotlyDisplay object>"
      ]
     },
     "execution_count": 236,
     "metadata": {},
     "output_type": "execute_result"
    }
   ],
   "source": [
    "freq = data[\"MoSold\"].value_counts()\n",
    "py.iplot([go.Bar(x = freq.keys(), y = freq.values)])"
   ]
  },
  {
   "cell_type": "code",
   "execution_count": 237,
   "metadata": {
    "collapsed": false
   },
   "outputs": [
    {
     "data": {
      "text/html": [
       "<div>\n",
       "<table border=\"1\" class=\"dataframe\">\n",
       "  <thead>\n",
       "    <tr style=\"text-align: right;\">\n",
       "      <th></th>\n",
       "      <th>MSSubClass</th>\n",
       "      <th>LotFrontage</th>\n",
       "      <th>LogLotArea</th>\n",
       "      <th>LotShape</th>\n",
       "      <th>LotConfig</th>\n",
       "      <th>Neighborhood</th>\n",
       "      <th>HouseStyle</th>\n",
       "      <th>OverallQual</th>\n",
       "      <th>YearBuilt</th>\n",
       "      <th>YearRemodAdd</th>\n",
       "      <th>...</th>\n",
       "      <th>Fireplaces</th>\n",
       "      <th>FireplaceQu</th>\n",
       "      <th>GarageType</th>\n",
       "      <th>GarageYrBlt</th>\n",
       "      <th>GarageFinish</th>\n",
       "      <th>GarageCars</th>\n",
       "      <th>GarageRemod</th>\n",
       "      <th>WoodDeck</th>\n",
       "      <th>OpenPorch</th>\n",
       "      <th>MoSold</th>\n",
       "    </tr>\n",
       "  </thead>\n",
       "  <tbody>\n",
       "    <tr>\n",
       "      <th>0</th>\n",
       "      <td>1</td>\n",
       "      <td>65.0</td>\n",
       "      <td>9.041922</td>\n",
       "      <td>1</td>\n",
       "      <td>Inside</td>\n",
       "      <td>CollgCr</td>\n",
       "      <td>2</td>\n",
       "      <td>0</td>\n",
       "      <td>modern</td>\n",
       "      <td>Never</td>\n",
       "      <td>...</td>\n",
       "      <td>0</td>\n",
       "      <td>0</td>\n",
       "      <td>Attchd</td>\n",
       "      <td>modern</td>\n",
       "      <td>RFn</td>\n",
       "      <td>2.0</td>\n",
       "      <td>no change</td>\n",
       "      <td>0</td>\n",
       "      <td>1</td>\n",
       "      <td>2</td>\n",
       "    </tr>\n",
       "    <tr>\n",
       "      <th>1</th>\n",
       "      <td>1</td>\n",
       "      <td>80.0</td>\n",
       "      <td>9.169518</td>\n",
       "      <td>1</td>\n",
       "      <td>FR</td>\n",
       "      <td>Veenker</td>\n",
       "      <td>1</td>\n",
       "      <td>0</td>\n",
       "      <td>newer</td>\n",
       "      <td>Never</td>\n",
       "      <td>...</td>\n",
       "      <td>1</td>\n",
       "      <td>2</td>\n",
       "      <td>Attchd</td>\n",
       "      <td>newer</td>\n",
       "      <td>RFn</td>\n",
       "      <td>2.0</td>\n",
       "      <td>no change</td>\n",
       "      <td>1</td>\n",
       "      <td>0</td>\n",
       "      <td>5</td>\n",
       "    </tr>\n",
       "    <tr>\n",
       "      <th>2</th>\n",
       "      <td>1</td>\n",
       "      <td>68.0</td>\n",
       "      <td>9.328123</td>\n",
       "      <td>0</td>\n",
       "      <td>Inside</td>\n",
       "      <td>CollgCr</td>\n",
       "      <td>2</td>\n",
       "      <td>0</td>\n",
       "      <td>newer</td>\n",
       "      <td>recent</td>\n",
       "      <td>...</td>\n",
       "      <td>1</td>\n",
       "      <td>2</td>\n",
       "      <td>Attchd</td>\n",
       "      <td>newer</td>\n",
       "      <td>RFn</td>\n",
       "      <td>2.0</td>\n",
       "      <td>no change</td>\n",
       "      <td>0</td>\n",
       "      <td>1</td>\n",
       "      <td>9</td>\n",
       "    </tr>\n",
       "    <tr>\n",
       "      <th>3</th>\n",
       "      <td>2</td>\n",
       "      <td>60.0</td>\n",
       "      <td>9.164296</td>\n",
       "      <td>0</td>\n",
       "      <td>Corner</td>\n",
       "      <td>Crawfor</td>\n",
       "      <td>2</td>\n",
       "      <td>0</td>\n",
       "      <td>ancient</td>\n",
       "      <td>long ago</td>\n",
       "      <td>...</td>\n",
       "      <td>1</td>\n",
       "      <td>3</td>\n",
       "      <td>Detchd</td>\n",
       "      <td>ancient</td>\n",
       "      <td>Unf</td>\n",
       "      <td>3.0</td>\n",
       "      <td>no change</td>\n",
       "      <td>0</td>\n",
       "      <td>1</td>\n",
       "      <td>2</td>\n",
       "    </tr>\n",
       "    <tr>\n",
       "      <th>4</th>\n",
       "      <td>1</td>\n",
       "      <td>84.0</td>\n",
       "      <td>9.565214</td>\n",
       "      <td>0</td>\n",
       "      <td>FR</td>\n",
       "      <td>NoRidge</td>\n",
       "      <td>2</td>\n",
       "      <td>1</td>\n",
       "      <td>newer</td>\n",
       "      <td>Never</td>\n",
       "      <td>...</td>\n",
       "      <td>1</td>\n",
       "      <td>2</td>\n",
       "      <td>Attchd</td>\n",
       "      <td>newer</td>\n",
       "      <td>RFn</td>\n",
       "      <td>3.0</td>\n",
       "      <td>no change</td>\n",
       "      <td>1</td>\n",
       "      <td>1</td>\n",
       "      <td>12</td>\n",
       "    </tr>\n",
       "  </tbody>\n",
       "</table>\n",
       "<p>5 rows × 39 columns</p>\n",
       "</div>"
      ],
      "text/plain": [
       "   MSSubClass  LotFrontage  LogLotArea  LotShape LotConfig Neighborhood  \\\n",
       "0           1         65.0    9.041922         1    Inside      CollgCr   \n",
       "1           1         80.0    9.169518         1        FR      Veenker   \n",
       "2           1         68.0    9.328123         0    Inside      CollgCr   \n",
       "3           2         60.0    9.164296         0    Corner      Crawfor   \n",
       "4           1         84.0    9.565214         0        FR      NoRidge   \n",
       "\n",
       "   HouseStyle  OverallQual YearBuilt YearRemodAdd   ...   Fireplaces  \\\n",
       "0           2            0    modern        Never   ...            0   \n",
       "1           1            0     newer        Never   ...            1   \n",
       "2           2            0     newer       recent   ...            1   \n",
       "3           2            0   ancient     long ago   ...            1   \n",
       "4           2            1     newer        Never   ...            1   \n",
       "\n",
       "   FireplaceQu GarageType GarageYrBlt  GarageFinish  GarageCars  GarageRemod  \\\n",
       "0            0     Attchd      modern           RFn         2.0    no change   \n",
       "1            2     Attchd       newer           RFn         2.0    no change   \n",
       "2            2     Attchd       newer           RFn         2.0    no change   \n",
       "3            3     Detchd     ancient           Unf         3.0    no change   \n",
       "4            2     Attchd       newer           RFn         3.0    no change   \n",
       "\n",
       "   WoodDeck  OpenPorch  MoSold  \n",
       "0         0          1       2  \n",
       "1         1          0       5  \n",
       "2         0          1       9  \n",
       "3         0          1       2  \n",
       "4         1          1      12  \n",
       "\n",
       "[5 rows x 39 columns]"
      ]
     },
     "execution_count": 237,
     "metadata": {},
     "output_type": "execute_result"
    }
   ],
   "source": [
    "new[\"MoSold\"] = data[\"MoSold\"]\n",
    "new.head()"
   ]
  },
  {
   "cell_type": "markdown",
   "metadata": {},
   "source": [
    "## YrSold"
   ]
  },
  {
   "cell_type": "code",
   "execution_count": 238,
   "metadata": {
    "collapsed": false
   },
   "outputs": [
    {
     "data": {
      "text/plain": [
       "2007    692\n",
       "2009    647\n",
       "2008    622\n",
       "2006    619\n",
       "2010    339\n",
       "Name: YrSold, dtype: int64"
      ]
     },
     "execution_count": 238,
     "metadata": {},
     "output_type": "execute_result"
    }
   ],
   "source": [
    "data[\"YrSold\"].value_counts()"
   ]
  },
  {
   "cell_type": "code",
   "execution_count": 239,
   "metadata": {
    "collapsed": false
   },
   "outputs": [
    {
     "data": {
      "text/plain": [
       "count    2919.000000\n",
       "mean     2007.792737\n",
       "std         1.314964\n",
       "min      2006.000000\n",
       "25%      2007.000000\n",
       "50%      2008.000000\n",
       "75%      2009.000000\n",
       "max      2010.000000\n",
       "Name: YrSold, dtype: float64"
      ]
     },
     "execution_count": 239,
     "metadata": {},
     "output_type": "execute_result"
    }
   ],
   "source": [
    "data[\"YrSold\"].describe()"
   ]
  },
  {
   "cell_type": "code",
   "execution_count": 240,
   "metadata": {
    "collapsed": false
   },
   "outputs": [
    {
     "data": {
      "text/html": [
       "<div>\n",
       "<table border=\"1\" class=\"dataframe\">\n",
       "  <thead>\n",
       "    <tr style=\"text-align: right;\">\n",
       "      <th></th>\n",
       "      <th>MSSubClass</th>\n",
       "      <th>LotFrontage</th>\n",
       "      <th>LogLotArea</th>\n",
       "      <th>LotShape</th>\n",
       "      <th>LotConfig</th>\n",
       "      <th>Neighborhood</th>\n",
       "      <th>HouseStyle</th>\n",
       "      <th>OverallQual</th>\n",
       "      <th>YearBuilt</th>\n",
       "      <th>YearRemodAdd</th>\n",
       "      <th>...</th>\n",
       "      <th>FireplaceQu</th>\n",
       "      <th>GarageType</th>\n",
       "      <th>GarageYrBlt</th>\n",
       "      <th>GarageFinish</th>\n",
       "      <th>GarageCars</th>\n",
       "      <th>GarageRemod</th>\n",
       "      <th>WoodDeck</th>\n",
       "      <th>OpenPorch</th>\n",
       "      <th>MoSold</th>\n",
       "      <th>YrSold</th>\n",
       "    </tr>\n",
       "  </thead>\n",
       "  <tbody>\n",
       "    <tr>\n",
       "      <th>0</th>\n",
       "      <td>1</td>\n",
       "      <td>65.0</td>\n",
       "      <td>9.041922</td>\n",
       "      <td>1</td>\n",
       "      <td>Inside</td>\n",
       "      <td>CollgCr</td>\n",
       "      <td>2</td>\n",
       "      <td>0</td>\n",
       "      <td>modern</td>\n",
       "      <td>Never</td>\n",
       "      <td>...</td>\n",
       "      <td>0</td>\n",
       "      <td>Attchd</td>\n",
       "      <td>modern</td>\n",
       "      <td>RFn</td>\n",
       "      <td>2.0</td>\n",
       "      <td>no change</td>\n",
       "      <td>0</td>\n",
       "      <td>1</td>\n",
       "      <td>2</td>\n",
       "      <td>2008</td>\n",
       "    </tr>\n",
       "    <tr>\n",
       "      <th>1</th>\n",
       "      <td>1</td>\n",
       "      <td>80.0</td>\n",
       "      <td>9.169518</td>\n",
       "      <td>1</td>\n",
       "      <td>FR</td>\n",
       "      <td>Veenker</td>\n",
       "      <td>1</td>\n",
       "      <td>0</td>\n",
       "      <td>newer</td>\n",
       "      <td>Never</td>\n",
       "      <td>...</td>\n",
       "      <td>2</td>\n",
       "      <td>Attchd</td>\n",
       "      <td>newer</td>\n",
       "      <td>RFn</td>\n",
       "      <td>2.0</td>\n",
       "      <td>no change</td>\n",
       "      <td>1</td>\n",
       "      <td>0</td>\n",
       "      <td>5</td>\n",
       "      <td>2007</td>\n",
       "    </tr>\n",
       "    <tr>\n",
       "      <th>2</th>\n",
       "      <td>1</td>\n",
       "      <td>68.0</td>\n",
       "      <td>9.328123</td>\n",
       "      <td>0</td>\n",
       "      <td>Inside</td>\n",
       "      <td>CollgCr</td>\n",
       "      <td>2</td>\n",
       "      <td>0</td>\n",
       "      <td>newer</td>\n",
       "      <td>recent</td>\n",
       "      <td>...</td>\n",
       "      <td>2</td>\n",
       "      <td>Attchd</td>\n",
       "      <td>newer</td>\n",
       "      <td>RFn</td>\n",
       "      <td>2.0</td>\n",
       "      <td>no change</td>\n",
       "      <td>0</td>\n",
       "      <td>1</td>\n",
       "      <td>9</td>\n",
       "      <td>2008</td>\n",
       "    </tr>\n",
       "    <tr>\n",
       "      <th>3</th>\n",
       "      <td>2</td>\n",
       "      <td>60.0</td>\n",
       "      <td>9.164296</td>\n",
       "      <td>0</td>\n",
       "      <td>Corner</td>\n",
       "      <td>Crawfor</td>\n",
       "      <td>2</td>\n",
       "      <td>0</td>\n",
       "      <td>ancient</td>\n",
       "      <td>long ago</td>\n",
       "      <td>...</td>\n",
       "      <td>3</td>\n",
       "      <td>Detchd</td>\n",
       "      <td>ancient</td>\n",
       "      <td>Unf</td>\n",
       "      <td>3.0</td>\n",
       "      <td>no change</td>\n",
       "      <td>0</td>\n",
       "      <td>1</td>\n",
       "      <td>2</td>\n",
       "      <td>2006</td>\n",
       "    </tr>\n",
       "    <tr>\n",
       "      <th>4</th>\n",
       "      <td>1</td>\n",
       "      <td>84.0</td>\n",
       "      <td>9.565214</td>\n",
       "      <td>0</td>\n",
       "      <td>FR</td>\n",
       "      <td>NoRidge</td>\n",
       "      <td>2</td>\n",
       "      <td>1</td>\n",
       "      <td>newer</td>\n",
       "      <td>Never</td>\n",
       "      <td>...</td>\n",
       "      <td>2</td>\n",
       "      <td>Attchd</td>\n",
       "      <td>newer</td>\n",
       "      <td>RFn</td>\n",
       "      <td>3.0</td>\n",
       "      <td>no change</td>\n",
       "      <td>1</td>\n",
       "      <td>1</td>\n",
       "      <td>12</td>\n",
       "      <td>2008</td>\n",
       "    </tr>\n",
       "  </tbody>\n",
       "</table>\n",
       "<p>5 rows × 40 columns</p>\n",
       "</div>"
      ],
      "text/plain": [
       "   MSSubClass  LotFrontage  LogLotArea  LotShape LotConfig Neighborhood  \\\n",
       "0           1         65.0    9.041922         1    Inside      CollgCr   \n",
       "1           1         80.0    9.169518         1        FR      Veenker   \n",
       "2           1         68.0    9.328123         0    Inside      CollgCr   \n",
       "3           2         60.0    9.164296         0    Corner      Crawfor   \n",
       "4           1         84.0    9.565214         0        FR      NoRidge   \n",
       "\n",
       "   HouseStyle  OverallQual YearBuilt YearRemodAdd   ...   FireplaceQu  \\\n",
       "0           2            0    modern        Never   ...             0   \n",
       "1           1            0     newer        Never   ...             2   \n",
       "2           2            0     newer       recent   ...             2   \n",
       "3           2            0   ancient     long ago   ...             3   \n",
       "4           2            1     newer        Never   ...             2   \n",
       "\n",
       "   GarageType GarageYrBlt GarageFinish  GarageCars  GarageRemod  WoodDeck  \\\n",
       "0      Attchd      modern          RFn         2.0    no change         0   \n",
       "1      Attchd       newer          RFn         2.0    no change         1   \n",
       "2      Attchd       newer          RFn         2.0    no change         0   \n",
       "3      Detchd     ancient          Unf         3.0    no change         0   \n",
       "4      Attchd       newer          RFn         3.0    no change         1   \n",
       "\n",
       "   OpenPorch  MoSold  YrSold  \n",
       "0          1       2    2008  \n",
       "1          0       5    2007  \n",
       "2          1       9    2008  \n",
       "3          1       2    2006  \n",
       "4          1      12    2008  \n",
       "\n",
       "[5 rows x 40 columns]"
      ]
     },
     "execution_count": 240,
     "metadata": {},
     "output_type": "execute_result"
    }
   ],
   "source": [
    "new[\"YrSold\"] = data[\"YrSold\"]\n",
    "new.head()"
   ]
  },
  {
   "cell_type": "markdown",
   "metadata": {},
   "source": [
    "## SaleType"
   ]
  },
  {
   "cell_type": "code",
   "execution_count": 241,
   "metadata": {
    "collapsed": false
   },
   "outputs": [
    {
     "data": {
      "text/plain": [
       "1"
      ]
     },
     "execution_count": 241,
     "metadata": {},
     "output_type": "execute_result"
    }
   ],
   "source": [
    "data[\"SaleType\"].isnull().sum()"
   ]
  },
  {
   "cell_type": "code",
   "execution_count": 242,
   "metadata": {
    "collapsed": false
   },
   "outputs": [
    {
     "data": {
      "text/plain": [
       "WD       2525\n",
       "New       239\n",
       "COD        87\n",
       "ConLD      26\n",
       "CWD        12\n",
       "ConLI       9\n",
       "ConLw       8\n",
       "Oth         7\n",
       "Con         5\n",
       "Name: SaleType, dtype: int64"
      ]
     },
     "execution_count": 242,
     "metadata": {},
     "output_type": "execute_result"
    }
   ],
   "source": [
    "data[\"SaleType\"].value_counts()"
   ]
  },
  {
   "cell_type": "code",
   "execution_count": 243,
   "metadata": {
    "collapsed": false
   },
   "outputs": [
    {
     "data": {
      "text/plain": [
       "WD       2538\n",
       "New       239\n",
       "Other     142\n",
       "Name: SaleType, dtype: int64"
      ]
     },
     "execution_count": 243,
     "metadata": {},
     "output_type": "execute_result"
    }
   ],
   "source": [
    "SaleType = pd.Series(data[\"SaleType\"] \\\n",
    ".replace([\"CWD\", \"VWD\"], \"WD\") \\\n",
    ".replace([\"COD\", \"Con\", \"ConLw\", \"ConLI\", \"ConLD\", \"Oth\"], \"Other\") \\\n",
    ".fillna(\"WD\"))\n",
    "SaleType.value_counts()"
   ]
  },
  {
   "cell_type": "markdown",
   "metadata": {
    "collapsed": false
   },
   "source": [
    "Drop this variable due to lack of variability."
   ]
  },
  {
   "cell_type": "markdown",
   "metadata": {},
   "source": [
    "## SaleCondition"
   ]
  },
  {
   "cell_type": "code",
   "execution_count": 244,
   "metadata": {
    "collapsed": false
   },
   "outputs": [
    {
     "data": {
      "text/plain": [
       "0"
      ]
     },
     "execution_count": 244,
     "metadata": {},
     "output_type": "execute_result"
    }
   ],
   "source": [
    "data[\"SaleCondition\"].isnull().sum()"
   ]
  },
  {
   "cell_type": "code",
   "execution_count": 245,
   "metadata": {
    "collapsed": false
   },
   "outputs": [
    {
     "data": {
      "text/plain": [
       "Normal     2402\n",
       "Partial     245\n",
       "Abnorml     190\n",
       "Family       46\n",
       "Alloca       24\n",
       "AdjLand      12\n",
       "Name: SaleCondition, dtype: int64"
      ]
     },
     "execution_count": 245,
     "metadata": {},
     "output_type": "execute_result"
    }
   ],
   "source": [
    "data[\"SaleCondition\"].value_counts()"
   ]
  },
  {
   "cell_type": "code",
   "execution_count": 246,
   "metadata": {
    "collapsed": false
   },
   "outputs": [
    {
     "data": {
      "text/plain": [
       "Normal     2402\n",
       "Partial     245\n",
       "Abnorml     190\n",
       "Other        82\n",
       "Name: SaleCondition, dtype: int64"
      ]
     },
     "execution_count": 246,
     "metadata": {},
     "output_type": "execute_result"
    }
   ],
   "source": [
    "SaleCondition = pd.Series(data[\"SaleCondition\"].replace([\"Family\", \"Alloca\", \"AdjLand\"], \"Other\"))\n",
    "SaleCondition.value_counts()"
   ]
  },
  {
   "cell_type": "markdown",
   "metadata": {
    "collapsed": false
   },
   "source": [
    "Drop this variable due to lack of variability."
   ]
  },
  {
   "cell_type": "markdown",
   "metadata": {},
   "source": [
    "# Save cleaned-up data"
   ]
  },
  {
   "cell_type": "code",
   "execution_count": 247,
   "metadata": {
    "collapsed": false
   },
   "outputs": [
    {
     "data": {
      "text/plain": [
       "count      1460.000000\n",
       "mean     180921.195890\n",
       "std       79442.502883\n",
       "min       34900.000000\n",
       "25%      129975.000000\n",
       "50%      163000.000000\n",
       "75%      214000.000000\n",
       "max      755000.000000\n",
       "Name: SalePrice, dtype: float64"
      ]
     },
     "execution_count": 247,
     "metadata": {},
     "output_type": "execute_result"
    }
   ],
   "source": [
    "data[\"SalePrice\"].describe()"
   ]
  },
  {
   "cell_type": "code",
   "execution_count": 248,
   "metadata": {
    "collapsed": false
   },
   "outputs": [],
   "source": [
    "new[:1460].to_csv(\"trainEng.csv\", index = False)  # extract rows 0 to 1459\n",
    "  # append SalePrice column to CSV file\n",
    "tmp = pd.read_csv(\"trainEng.csv\")\n",
    "tmp[\"SalePrice\"] = np.log(train[\"SalePrice\"])\n",
    "tmp.to_csv(\"trainEng.csv\", index = False)\n",
    "new[1460:].to_csv(\"testEng.csv\", index = False)  # extract rest of the rows"
   ]
  }
 ],
 "metadata": {
  "kernelspec": {
   "display_name": "Python 2",
   "language": "python",
   "name": "python2"
  },
  "language_info": {
   "codemirror_mode": {
    "name": "ipython",
    "version": 2
   },
   "file_extension": ".py",
   "mimetype": "text/x-python",
   "name": "python",
   "nbconvert_exporter": "python",
   "pygments_lexer": "ipython2",
   "version": "2.7.12"
  }
 },
 "nbformat": 4,
 "nbformat_minor": 1
}
